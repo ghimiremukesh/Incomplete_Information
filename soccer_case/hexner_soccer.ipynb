{
 "cells": [
  {
   "cell_type": "code",
   "execution_count": 1,
   "metadata": {
    "collapsed": true
   },
   "outputs": [],
   "source": [
    "import scipy\n",
    "import numpy as np\n",
    "from odeintw import odeintw\n",
    "import matplotlib.pyplot as plt\n",
    "\n",
    "import utils"
   ]
  },
  {
   "cell_type": "markdown",
   "source": [
    "## Solve Riccati ODE"
   ],
   "metadata": {
    "collapsed": false,
    "pycharm": {
     "name": "#%% md\n"
    }
   }
  },
  {
   "cell_type": "code",
   "execution_count": 2,
   "outputs": [],
   "source": [
    "# define riccati ode\n",
    "import types\n",
    "def dPdt(P, t, A, B, Q, R, S,):\n",
    "    n = A.shape[0]\n",
    "    m = B.shape[1]\n",
    "\n",
    "    if S is None:\n",
    "        S = np.zeros((n, m))\n",
    "\n",
    "    if isinstance(B, types.FunctionType): # if B is time varying\n",
    "        B_curr = B(t)\n",
    "        B = B_curr\n",
    "\n",
    "    return -(A.T @ P + P @ A - (P @ B + S) @ np.linalg.inv(R) @ (B.T @ P + S.T) + Q)"
   ],
   "metadata": {
    "collapsed": false,
    "pycharm": {
     "name": "#%%\n"
    }
   }
  },
  {
   "cell_type": "code",
   "execution_count": 72,
   "outputs": [],
   "source": [
    "# define system\n",
    "A = np.array([[0, 0, 1, 0], [0, 0, 0, 1], [0, 0, 0, 0], [0, 0, 0, 0]])\n",
    "# B1 = lambda t : np.array([[0], [t]])\n",
    "B = np.array([[0, 0], [0, 0], [1, 0], [0, 1]])\n",
    "# B1 = np.array([[0],[1]])\n",
    "Q = np.zeros((4, 4))\n",
    "R1 = 0.01 * np.eye(2, 2)\n",
    "# P1T = np.eye(2)\n",
    "PT = np.array([[1, 0, 0, 0], [0, 1, 0, 0], [0, 0, 0, 0], [0, 0, 0, 0]])\n",
    "tspan = np.linspace(0, 1, 10)\n",
    "tspan = np.flip(tspan)\n",
    "K1 = odeintw(dPdt, PT, tspan, args=(A, B, Q, R1, None, ))"
   ],
   "metadata": {
    "collapsed": false,
    "pycharm": {
     "name": "#%%\n"
    }
   }
  },
  {
   "cell_type": "code",
   "execution_count": 73,
   "outputs": [],
   "source": [
    "K1 = np.flip(K1, axis=0)"
   ],
   "metadata": {
    "collapsed": false,
    "pycharm": {
     "name": "#%%\n"
    }
   }
  },
  {
   "cell_type": "code",
   "execution_count": 74,
   "outputs": [],
   "source": [
    "K_norm = [np.linalg.norm(K1[i, :, :]) for i in range(len(K1))]"
   ],
   "metadata": {
    "collapsed": false,
    "pycharm": {
     "name": "#%%\n"
    }
   }
  },
  {
   "cell_type": "code",
   "execution_count": 75,
   "outputs": [
    {
     "data": {
      "text/plain": "[<matplotlib.lines.Line2D at 0x15d4e90d0>]"
     },
     "execution_count": 75,
     "metadata": {},
     "output_type": "execute_result"
    },
    {
     "data": {
      "text/plain": "<Figure size 432x288 with 1 Axes>",
      "image/png": "[encoded data removed]"
     },
     "metadata": {
      "needs_background": "light"
     },
     "output_type": "display_data"
    }
   ],
   "source": [
    "plt.plot(np.flip(tspan), K_norm)"
   ],
   "metadata": {
    "collapsed": false,
    "pycharm": {
     "name": "#%%\n"
    }
   }
  },
  {
   "cell_type": "markdown",
   "source": [
    "## Solve Matrix ODE (Phi)"
   ],
   "metadata": {
    "collapsed": false,
    "pycharm": {
     "name": "#%% md\n"
    }
   }
  },
  {
   "cell_type": "code",
   "execution_count": 76,
   "outputs": [],
   "source": [
    "def dPhi(Phi, t, A):\n",
    "    return np.dot(A, Phi)\n",
    "\n",
    "A = np.array([[0, 0, 1, 0], [0, 0, 0, 1], [0, 0, 0, 0], [0, 0, 0, 0]])\n",
    "t_span = np.linspace(0, 1, 10)\n",
    "t_span = np.flip(t_span)\n",
    "PhiT = np.eye(4)\n",
    "\n",
    "Phi_sol = odeintw(dPhi, PhiT, t_span, args=(A, ))\n",
    "Phi_sol = np.flip(Phi_sol, axis=0)"
   ],
   "metadata": {
    "collapsed": false,
    "pycharm": {
     "name": "#%%\n"
    }
   }
  },
  {
   "cell_type": "markdown",
   "source": [
    "## Compute d_i"
   ],
   "metadata": {
    "collapsed": false,
    "pycharm": {
     "name": "#%% md\n"
    }
   }
  },
  {
   "cell_type": "code",
   "execution_count": 77,
   "outputs": [],
   "source": [
    "def d(Phi, K, B, R, z):\n",
    "    ds = np.zeros((len(Phi), 1))\n",
    "    if isinstance(B, types.FunctionType):\n",
    "        t_span = np.linspace(0, 1, 100)\n",
    "        B_temp = np.array([B(i) for i in t_span])\n",
    "    else:\n",
    "        B_temp = np.array([B for _ in range(len(Phi))])\n",
    "\n",
    "    B = B_temp\n",
    "    for i in range(len(Phi)):\n",
    "        # ds[i] = z.T @ Phi[i, :, :] @ K[i, :, :] @ B/R @ B.T @ K[i, :, :] @ Phi[i, :, :] @ z\n",
    "        ds[i] = (z.T @ Phi[i, :, :].T @ K[i, :, :].T @ B[i] @ np.linalg.inv(R) @ B[i].T @ K[i, :, :] @ Phi[i, :, :] @ z)\n",
    "\n",
    "    return ds"
   ],
   "metadata": {
    "collapsed": false,
    "pycharm": {
     "name": "#%%\n"
    }
   }
  },
  {
   "cell_type": "code",
   "execution_count": 78,
   "outputs": [],
   "source": [
    "z = np.array([[0], [1], [0], [0]])\n",
    "d1 = d(Phi_sol, K1, B, R1, z)\n",
    "B2 = B\n",
    "# B2 = lambda t : np.array([[0], [np.exp(-0.5*t)]])\n",
    "R2 = 0.01*np.eye(2)\n",
    "K2 = odeintw(dPdt, PT, tspan, args=(A, B2, Q, R2, None, ))\n",
    "K2 = np.flip(K2, axis=0)\n",
    "d2 = d(Phi_sol, K2, B2, R2, z)"
   ],
   "metadata": {
    "collapsed": false,
    "pycharm": {
     "name": "#%%\n"
    }
   }
  },
  {
   "cell_type": "code",
   "execution_count": 79,
   "outputs": [
    {
     "data": {
      "text/plain": "<matplotlib.legend.Legend at 0x15d54cf10>"
     },
     "execution_count": 79,
     "metadata": {},
     "output_type": "execute_result"
    },
    {
     "data": {
      "text/plain": "<Figure size 432x288 with 1 Axes>",
      "image/png": "[encoded data removed]"
     },
     "metadata": {
      "needs_background": "light"
     },
     "output_type": "display_data"
    }
   ],
   "source": [
    "plt.plot(np.flip(t_span), d1, label='$d_1$')\n",
    "plt.plot(np.flip(t_span), d2, label='$d_2$')\n",
    "# plt.vlines(x=0.5, ymin=np.min(d1), ymax=np.max(d1), linestyles='--', colors='red')\n",
    "plt.xlabel(\"time $(t)$\")\n",
    "plt.ylabel(\"$d_i$\")\n",
    "# plt.scatter(0.5, 0.05)\n",
    "plt.legend()\n"
   ],
   "metadata": {
    "collapsed": false,
    "pycharm": {
     "name": "#%%\n"
    }
   }
  },
  {
   "cell_type": "code",
   "execution_count": 80,
   "outputs": [],
   "source": [
    "# Compute value\n",
    "def value_hexner(x1, x2, p, t_step, Phi, K):\n",
    "    \"\"\"\n",
    "    assuming R1 = R2 and A1 = A2, B1 = B2\n",
    "    \"\"\"\n",
    "    z = np.array([[0], [1], [0], [0]])\n",
    "\n",
    "    p1_val = p * (x1 - Phi[t_step, :, :] @ z).T @ K[t_step, :, :] @ (x1 - Phi[t_step, :, :] @ z) + \\\n",
    "             (1-p) * (x1 + Phi[t_step, :, :] @ z).T @ K[t_step, :, :] @ (x1 + Phi[t_step, :, :] @ z)\n",
    "\n",
    "    p2_val = p * (x2 - Phi[t_step, :, :] @ z).T @ K[t_step, :, :] @ (x2 - Phi[t_step, :, :] @ z) + \\\n",
    "             (1-p) * (x2 + Phi[t_step, :, :] @ z).T @ K[t_step, :, :] @ (x2 + Phi[t_step, :, :] @ z)\n",
    "\n",
    "    value = p1_val - p2_val\n",
    "\n",
    "    return value"
   ],
   "metadata": {
    "collapsed": false,
    "pycharm": {
     "name": "#%%\n"
    }
   }
  },
  {
   "cell_type": "code",
   "execution_count": 89,
   "outputs": [],
   "source": [
    "x1 = np.array([[1], [-1], [0], [0]])\n",
    "x2 = np.array([[0], [0], [0], [0]])\n",
    "\n",
    "t_step = 9"
   ],
   "metadata": {
    "collapsed": false,
    "pycharm": {
     "name": "#%%\n"
    }
   }
  },
  {
   "cell_type": "code",
   "execution_count": 90,
   "outputs": [
    {
     "data": {
      "text/plain": "[<matplotlib.lines.Line2D at 0x15d6b9670>]"
     },
     "execution_count": 90,
     "metadata": {},
     "output_type": "execute_result"
    },
    {
     "data": {
      "text/plain": "<Figure size 432x288 with 1 Axes>",
      "image/png": "[encoded data removed]"
     },
     "metadata": {
      "needs_background": "light"
     },
     "output_type": "display_data"
    }
   ],
   "source": [
    "vals = np.array([value_hexner(x1, x2, p, t_step, Phi_sol, K1) for p in np.linspace(0, 1, 11)])\n",
    "plt.plot(np.linspace(0, 1, 11), vals.flatten())"
   ],
   "metadata": {
    "collapsed": false,
    "pycharm": {
     "name": "#%%\n"
    }
   }
  },
  {
   "cell_type": "code",
   "execution_count": 91,
   "outputs": [
    {
     "data": {
      "text/plain": "array([[3.6]])"
     },
     "execution_count": 91,
     "metadata": {},
     "output_type": "execute_result"
    }
   ],
   "source": [
    "vals[4]"
   ],
   "metadata": {
    "collapsed": false,
    "pycharm": {
     "name": "#%%\n"
    }
   }
  },
  {
   "cell_type": "code",
   "execution_count": 92,
   "outputs": [
    {
     "data": {
      "text/plain": "array([[-2.91262297],\n       [ 2.91262297]])"
     },
     "execution_count": 92,
     "metadata": {},
     "output_type": "execute_result"
    }
   ],
   "source": [
    "p=0.5\n",
    "ztheta = z * (2*p - 1)\n",
    "u = utils.get_analytical_u(K1[0, :, :], R1, Phi_sol[0, :, :], x1, ztheta)\n",
    "u"
   ],
   "metadata": {
    "collapsed": false,
    "pycharm": {
     "name": "#%%\n"
    }
   }
  },
  {
   "cell_type": "markdown",
   "source": [
    "If $sgn(d_1 - d_2)$ is not constant, find the critical time $t_r$"
   ],
   "metadata": {
    "collapsed": false,
    "pycharm": {
     "name": "#%% md\n"
    }
   }
  },
  {
   "cell_type": "code",
   "execution_count": 25,
   "outputs": [
    {
     "data": {
      "text/plain": "'tr = 0.0'"
     },
     "execution_count": 25,
     "metadata": {},
     "output_type": "execute_result"
    }
   ],
   "source": [
    "def obj(tr):\n",
    "    x0 = np.array([[0], [0]])\n",
    "    term1 = np.sum((d1[:tr] - d2[:tr])*0.1)\n",
    "    return term1\n",
    "\n",
    "tr = np.linspace(0, 10, 11, dtype=np.int32)\n",
    "objs = list(map(obj, tr))\n",
    "tr_idx = np.argmin(objs)\n",
    "tr = np.flip(t_span)[tr_idx]\n",
    "f'tr = {tr}'"
   ],
   "metadata": {
    "collapsed": false,
    "pycharm": {
     "name": "#%%\n"
    }
   }
  },
  {
   "cell_type": "code",
   "execution_count": 42,
   "outputs": [
    {
     "data": {
      "text/plain": "array([[0.2748444]])"
     },
     "execution_count": 42,
     "metadata": {},
     "output_type": "execute_result"
    }
   ],
   "source": [
    "# to get T_{2p+1} we need to calculate two more things\n",
    "# x_1i = np.array([[0], [0]])\n",
    "# x_2i = np.array([[0], [0]])\n",
    "# # theta = 1  # theta = 1 or -1\n",
    "# p_1 = (x_1i - Phi_sol[0, :, :] @ z * 1).T @ K1[0, :, :] @ (x_1i - Phi_sol[0, :, :] @ z * 1)\n",
    "# p_1_2 = (x_1i - Phi_sol[0, :, :] @ z * -1).T @ K1[0, :, :] @ (x_1i - Phi_sol[0, :, :] @ z * -1)\n",
    "# p_2 = (x_2i - Phi_sol[0, :, :] @ z * 1).T @ K2[0, :, :] @ (x_2i - Phi_sol[0, :, :] @ z * 1)\n",
    "# p_2_2 = (x_2i - Phi_sol[0, :, :] @ z * -1).T @ K2[0, :, :] @ (x_2i - Phi_sol[0, :, :] @ z * -1)\n",
    "#\n",
    "# T_2p1 = tr + p_1 + p_1_2 - p_2 - p_2_2\n",
    "# T_2p1"
   ],
   "metadata": {
    "collapsed": false,
    "pycharm": {
     "name": "#%%\n"
    }
   }
  },
  {
   "cell_type": "code",
   "execution_count": 60,
   "outputs": [
    {
     "data": {
      "text/plain": "array([[-0.19493176],\n       [-0.00423266],\n       [ 0.        ]])"
     },
     "execution_count": 60,
     "metadata": {},
     "output_type": "execute_result"
    }
   ],
   "source": [
    "def get_u(R, B, K, Phi, x, p):\n",
    "    return -(1/R) * B.T @ K @ x + (1/R) @ K @ Phi @ (2*p-1)"
   ],
   "metadata": {
    "collapsed": false,
    "pycharm": {
     "name": "#%%\n"
    }
   }
  },
  {
   "cell_type": "markdown",
   "source": [
    "## METHOD - 2  (Just to Ensure the solver above is correct!)"
   ],
   "metadata": {
    "collapsed": false
   }
  },
  {
   "cell_type": "code",
   "execution_count": 34,
   "outputs": [],
   "source": [
    "def mat2vec_ode(F, p):\n",
    "    def state_vector_derivative(F, t, y, p):\n",
    "        # state dimension\n",
    "        pr = len(y)\n",
    "\n",
    "        # determines r\n",
    "        r = int(pr/p)\n",
    "\n",
    "        # reshapes pr×1 state vector into p×r state matrix\n",
    "\n",
    "        M = y.reshape(p, r)\n",
    "\n",
    "        # evaluates matrix-valued ODE\n",
    "        dMdt = F(t,M)\n",
    "\n",
    "        # reshapes p×r state matrix derivative into pr×1 state vector derivative\n",
    "        dydt = dMdt.flatten()\n",
    "\n",
    "        return dydt\n",
    "\n",
    "    return lambda t, y: state_vector_derivative(F, t, y, p)"
   ],
   "metadata": {
    "collapsed": false,
    "pycharm": {
     "name": "#%%\n"
    }
   }
  },
  {
   "cell_type": "code",
   "execution_count": 35,
   "outputs": [],
   "source": [
    "def mat2vec_IC(PT):\n",
    "    return PT.flatten()"
   ],
   "metadata": {
    "collapsed": false,
    "pycharm": {
     "name": "#%%\n"
    }
   }
  },
  {
   "cell_type": "code",
   "execution_count": 63,
   "outputs": [],
   "source": [
    "def vec2mat_sol(y, p):\n",
    "    # state dimension (pr) and N (IVP solution given at N+1 times)\n",
    "    pr = y.shape[0]\n",
    "    N = y.shape[1] - 1\n",
    "\n",
    "    # determines r\n",
    "    r = int(pr/p)\n",
    "\n",
    "    # preallocate solution array to store time history of state matrix\n",
    "    M = np.zeros((p, r, N+1))\n",
    "\n",
    "    # populate solution array\n",
    "    for i in range(N+1):\n",
    "        M[:, :, i] = y[:, i].reshape(p, r)\n",
    "\n",
    "    return M"
   ],
   "metadata": {
    "collapsed": false,
    "pycharm": {
     "name": "#%%\n"
    }
   }
  },
  {
   "cell_type": "code",
   "execution_count": 144,
   "outputs": [],
   "source": [
    "def solve_ricatti_ode(A, B, Q, R, S, PT, tspan, teval):\n",
    "    n = A.shape[0]\n",
    "    m = B.shape[1]\n",
    "\n",
    "    if S is None:\n",
    "        S = np.zeros((n, m))\n",
    "\n",
    "    tspan = np.flip(tspan)\n",
    "\n",
    "    teval = np.flip(teval)\n",
    "\n",
    "    dPdt = lambda t, P: -(A.T @ P + P @ A - (P @ B + S) /R @ (B.T @ P + S.T) + Q)\n",
    "\n",
    "    dydt = mat2vec_ode(dPdt, n)\n",
    "\n",
    "    yT = mat2vec_IC(PT)\n",
    "    sol = scipy.integrate.solve_ivp(dydt, tspan, yT, atol=1e-9, rtol=1e-9, t_eval=teval)\n",
    "    P = vec2mat_sol(sol.y, n)\n",
    "    t = np.flip(sol.t)\n",
    "    P = np.flip(P, axis=2)\n",
    "    return (t, P)"
   ],
   "metadata": {
    "collapsed": false,
    "pycharm": {
     "name": "#%%\n"
    }
   }
  },
  {
   "cell_type": "code",
   "execution_count": 152,
   "outputs": [],
   "source": [
    "# define states\n",
    "A = np.array([[0, 1], [0, 0]])\n",
    "B = np.array([[0], [1]])\n",
    "Q = np.zeros((2, 2))\n",
    "R = 1\n",
    "PT = np.eye(2)\n",
    "S = np.zeros((A.shape[0], B.shape[1]))\n",
    "teval = np.linspace(0, 10, 73)\n",
    "t, P = solve_ricatti_ode(A, B, Q, R, S, PT, [0, 10], teval)"
   ],
   "metadata": {
    "collapsed": false,
    "pycharm": {
     "name": "#%%\n"
    }
   }
  },
  {
   "cell_type": "code",
   "execution_count": 153,
   "outputs": [],
   "source": [
    "P_norms = [np.linalg.norm(P[:, :, i]) for i in range(P.shape[-1])]"
   ],
   "metadata": {
    "collapsed": false,
    "pycharm": {
     "name": "#%%\n"
    }
   }
  },
  {
   "cell_type": "code",
   "execution_count": 153,
   "outputs": [],
   "source": [],
   "metadata": {
    "collapsed": false,
    "pycharm": {
     "name": "#%%\n"
    }
   }
  },
  {
   "cell_type": "code",
   "execution_count": 154,
   "outputs": [
    {
     "data": {
      "text/plain": "[<matplotlib.lines.Line2D at 0x1196a5250>]"
     },
     "execution_count": 154,
     "metadata": {},
     "output_type": "execute_result"
    },
    {
     "data": {
      "text/plain": "<Figure size 432x288 with 1 Axes>",
      "image/png": "[encoded data removed]"
     },
     "metadata": {
      "needs_background": "light"
     },
     "output_type": "display_data"
    }
   ],
   "source": [
    "plt.plot(t, P_norms)"
   ],
   "metadata": {
    "collapsed": false,
    "pycharm": {
     "name": "#%%\n"
    }
   }
  }
 ],
 "metadata": {
  "kernelspec": {
   "display_name": "Python 3",
   "language": "python",
   "name": "python3"
  },
  "language_info": {
   "codemirror_mode": {
    "name": "ipython",
    "version": 2
   },
   "file_extension": ".py",
   "mimetype": "text/x-python",
   "name": "python",
   "nbconvert_exporter": "python",
   "pygments_lexer": "ipython2",
   "version": "2.7.6"
  }
 },
 "nbformat": 4,
 "nbformat_minor": 0
}