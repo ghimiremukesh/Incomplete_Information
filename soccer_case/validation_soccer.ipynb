{
 "cells": [
  {
   "cell_type": "code",
   "execution_count": 1,
   "metadata": {
    "collapsed": true
   },
   "outputs": [],
   "source": [
    "import torch\n",
    "import numpy as np\n",
    "import matplotlib.pyplot as plt\n",
    "import icnn_pytorch_adaptive as icnn\n",
    "import utils\n",
    "from itertools import product"
   ]
  },
  {
   "cell_type": "code",
   "execution_count": 2,
   "outputs": [
    {
     "name": "stdout",
     "output_type": "stream",
     "text": [
      "SingleBVPNet(\n",
      "  (net): FCBlock(\n",
      "    (nl): ReLU(inplace=True)\n",
      "    (nl_u): ReLU(inplace=True)\n",
      "    (net_u): ModuleList(\n",
      "      (0): Sequential(\n",
      "        (0): Linear(in_features=8, out_features=72, bias=True)\n",
      "        (1): Dropout(p=0, inplace=False)\n",
      "      )\n",
      "      (1): Sequential(\n",
      "        (0): Linear(in_features=72, out_features=72, bias=True)\n",
      "        (1): Dropout(p=0, inplace=False)\n",
      "      )\n",
      "      (2): Sequential(\n",
      "        (0): Linear(in_features=72, out_features=72, bias=True)\n",
      "        (1): Dropout(p=0, inplace=False)\n",
      "      )\n",
      "      (3): Sequential(\n",
      "        (0): Linear(in_features=72, out_features=72, bias=True)\n",
      "        (1): Dropout(p=0, inplace=False)\n",
      "      )\n",
      "      (4): Sequential(\n",
      "        (0): Linear(in_features=72, out_features=72, bias=True)\n",
      "        (1): Dropout(p=0, inplace=False)\n",
      "      )\n",
      "    )\n",
      "    (net_zu_u): ModuleList(\n",
      "      (0): Sequential(\n",
      "        (0): Linear(in_features=72, out_features=72, bias=True)\n",
      "        (1): Dropout(p=0, inplace=False)\n",
      "      )\n",
      "      (1): Sequential(\n",
      "        (0): Linear(in_features=72, out_features=72, bias=True)\n",
      "        (1): Dropout(p=0, inplace=False)\n",
      "      )\n",
      "      (2): Sequential(\n",
      "        (0): Linear(in_features=72, out_features=72, bias=True)\n",
      "        (1): Dropout(p=0, inplace=False)\n",
      "      )\n",
      "      (3): Sequential(\n",
      "        (0): Linear(in_features=72, out_features=72, bias=True)\n",
      "        (1): Dropout(p=0, inplace=False)\n",
      "      )\n",
      "      (4): Sequential(\n",
      "        (0): Linear(in_features=72, out_features=72, bias=True)\n",
      "        (1): Dropout(p=0, inplace=False)\n",
      "      )\n",
      "    )\n",
      "    (net_z_zu): ModuleList(\n",
      "      (0): Sequential(\n",
      "        (0): Linear(in_features=72, out_features=72, bias=False)\n",
      "        (1): Dropout(p=0, inplace=False)\n",
      "      )\n",
      "      (1): Sequential(\n",
      "        (0): Linear(in_features=72, out_features=72, bias=False)\n",
      "        (1): Dropout(p=0, inplace=False)\n",
      "      )\n",
      "      (2): Sequential(\n",
      "        (0): Linear(in_features=72, out_features=72, bias=False)\n",
      "        (1): Dropout(p=0, inplace=False)\n",
      "      )\n",
      "      (3): Sequential(\n",
      "        (0): Linear(in_features=72, out_features=72, bias=False)\n",
      "        (1): Dropout(p=0, inplace=False)\n",
      "      )\n",
      "      (4): Sequential(\n",
      "        (0): Linear(in_features=72, out_features=1, bias=False)\n",
      "        (1): Dropout(p=0, inplace=False)\n",
      "      )\n",
      "    )\n",
      "    (net_yu_u): ModuleList(\n",
      "      (0): Sequential(\n",
      "        (0): Linear(in_features=8, out_features=1, bias=True)\n",
      "        (1): Dropout(p=0, inplace=False)\n",
      "      )\n",
      "      (1): Sequential(\n",
      "        (0): Linear(in_features=72, out_features=1, bias=True)\n",
      "        (1): Dropout(p=0, inplace=False)\n",
      "      )\n",
      "      (2): Sequential(\n",
      "        (0): Linear(in_features=72, out_features=1, bias=True)\n",
      "        (1): Dropout(p=0, inplace=False)\n",
      "      )\n",
      "      (3): Sequential(\n",
      "        (0): Linear(in_features=72, out_features=1, bias=True)\n",
      "        (1): Dropout(p=0, inplace=False)\n",
      "      )\n",
      "      (4): Sequential(\n",
      "        (0): Linear(in_features=72, out_features=1, bias=True)\n",
      "        (1): Dropout(p=0, inplace=False)\n",
      "      )\n",
      "      (5): Sequential(\n",
      "        (0): Linear(in_features=72, out_features=1, bias=True)\n",
      "        (1): Dropout(p=0, inplace=False)\n",
      "      )\n",
      "    )\n",
      "    (net_z_yu): ModuleList(\n",
      "      (0): Sequential(\n",
      "        (0): Linear(in_features=1, out_features=72, bias=False)\n",
      "        (1): Dropout(p=0, inplace=False)\n",
      "      )\n",
      "      (1): Sequential(\n",
      "        (0): Linear(in_features=1, out_features=72, bias=False)\n",
      "        (1): Dropout(p=0, inplace=False)\n",
      "      )\n",
      "      (2): Sequential(\n",
      "        (0): Linear(in_features=1, out_features=72, bias=False)\n",
      "        (1): Dropout(p=0, inplace=False)\n",
      "      )\n",
      "      (3): Sequential(\n",
      "        (0): Linear(in_features=1, out_features=72, bias=False)\n",
      "        (1): Dropout(p=0, inplace=False)\n",
      "      )\n",
      "      (4): Sequential(\n",
      "        (0): Linear(in_features=1, out_features=72, bias=False)\n",
      "        (1): Dropout(p=0, inplace=False)\n",
      "      )\n",
      "      (5): Sequential(\n",
      "        (0): Linear(in_features=1, out_features=1, bias=False)\n",
      "        (1): Dropout(p=0, inplace=False)\n",
      "      )\n",
      "    )\n",
      "    (net_z_u): ModuleList(\n",
      "      (0): Sequential(\n",
      "        (0): Linear(in_features=8, out_features=72, bias=True)\n",
      "        (1): Dropout(p=0, inplace=False)\n",
      "      )\n",
      "      (1): Sequential(\n",
      "        (0): Linear(in_features=72, out_features=72, bias=True)\n",
      "        (1): Dropout(p=0, inplace=False)\n",
      "      )\n",
      "      (2): Sequential(\n",
      "        (0): Linear(in_features=72, out_features=72, bias=True)\n",
      "        (1): Dropout(p=0, inplace=False)\n",
      "      )\n",
      "      (3): Sequential(\n",
      "        (0): Linear(in_features=72, out_features=72, bias=True)\n",
      "        (1): Dropout(p=0, inplace=False)\n",
      "      )\n",
      "      (4): Sequential(\n",
      "        (0): Linear(in_features=72, out_features=72, bias=True)\n",
      "        (1): Dropout(p=0, inplace=False)\n",
      "      )\n",
      "      (5): Sequential(\n",
      "        (0): Linear(in_features=72, out_features=1, bias=True)\n",
      "        (1): Dropout(p=0, inplace=False)\n",
      "      )\n",
      "    )\n",
      "  )\n",
      ")\n",
      "SingleBVPNet(\n",
      "  (net): FCBlock(\n",
      "    (nl): ReLU(inplace=True)\n",
      "    (nl_u): ReLU(inplace=True)\n",
      "    (net_u): ModuleList(\n",
      "      (0): Sequential(\n",
      "        (0): Linear(in_features=8, out_features=72, bias=True)\n",
      "        (1): Dropout(p=0, inplace=False)\n",
      "      )\n",
      "      (1): Sequential(\n",
      "        (0): Linear(in_features=72, out_features=72, bias=True)\n",
      "        (1): Dropout(p=0, inplace=False)\n",
      "      )\n",
      "      (2): Sequential(\n",
      "        (0): Linear(in_features=72, out_features=72, bias=True)\n",
      "        (1): Dropout(p=0, inplace=False)\n",
      "      )\n",
      "      (3): Sequential(\n",
      "        (0): Linear(in_features=72, out_features=72, bias=True)\n",
      "        (1): Dropout(p=0, inplace=False)\n",
      "      )\n",
      "      (4): Sequential(\n",
      "        (0): Linear(in_features=72, out_features=72, bias=True)\n",
      "        (1): Dropout(p=0, inplace=False)\n",
      "      )\n",
      "    )\n",
      "    (net_zu_u): ModuleList(\n",
      "      (0): Sequential(\n",
      "        (0): Linear(in_features=72, out_features=72, bias=True)\n",
      "        (1): Dropout(p=0, inplace=False)\n",
      "      )\n",
      "      (1): Sequential(\n",
      "        (0): Linear(in_features=72, out_features=72, bias=True)\n",
      "        (1): Dropout(p=0, inplace=False)\n",
      "      )\n",
      "      (2): Sequential(\n",
      "        (0): Linear(in_features=72, out_features=72, bias=True)\n",
      "        (1): Dropout(p=0, inplace=False)\n",
      "      )\n",
      "      (3): Sequential(\n",
      "        (0): Linear(in_features=72, out_features=72, bias=True)\n",
      "        (1): Dropout(p=0, inplace=False)\n",
      "      )\n",
      "      (4): Sequential(\n",
      "        (0): Linear(in_features=72, out_features=72, bias=True)\n",
      "        (1): Dropout(p=0, inplace=False)\n",
      "      )\n",
      "    )\n",
      "    (net_z_zu): ModuleList(\n",
      "      (0): Sequential(\n",
      "        (0): Linear(in_features=72, out_features=72, bias=False)\n",
      "        (1): Dropout(p=0, inplace=False)\n",
      "      )\n",
      "      (1): Sequential(\n",
      "        (0): Linear(in_features=72, out_features=72, bias=False)\n",
      "        (1): Dropout(p=0, inplace=False)\n",
      "      )\n",
      "      (2): Sequential(\n",
      "        (0): Linear(in_features=72, out_features=72, bias=False)\n",
      "        (1): Dropout(p=0, inplace=False)\n",
      "      )\n",
      "      (3): Sequential(\n",
      "        (0): Linear(in_features=72, out_features=72, bias=False)\n",
      "        (1): Dropout(p=0, inplace=False)\n",
      "      )\n",
      "      (4): Sequential(\n",
      "        (0): Linear(in_features=72, out_features=1, bias=False)\n",
      "        (1): Dropout(p=0, inplace=False)\n",
      "      )\n",
      "    )\n",
      "    (net_yu_u): ModuleList(\n",
      "      (0): Sequential(\n",
      "        (0): Linear(in_features=8, out_features=1, bias=True)\n",
      "        (1): Dropout(p=0, inplace=False)\n",
      "      )\n",
      "      (1): Sequential(\n",
      "        (0): Linear(in_features=72, out_features=1, bias=True)\n",
      "        (1): Dropout(p=0, inplace=False)\n",
      "      )\n",
      "      (2): Sequential(\n",
      "        (0): Linear(in_features=72, out_features=1, bias=True)\n",
      "        (1): Dropout(p=0, inplace=False)\n",
      "      )\n",
      "      (3): Sequential(\n",
      "        (0): Linear(in_features=72, out_features=1, bias=True)\n",
      "        (1): Dropout(p=0, inplace=False)\n",
      "      )\n",
      "      (4): Sequential(\n",
      "        (0): Linear(in_features=72, out_features=1, bias=True)\n",
      "        (1): Dropout(p=0, inplace=False)\n",
      "      )\n",
      "      (5): Sequential(\n",
      "        (0): Linear(in_features=72, out_features=1, bias=True)\n",
      "        (1): Dropout(p=0, inplace=False)\n",
      "      )\n",
      "    )\n",
      "    (net_z_yu): ModuleList(\n",
      "      (0): Sequential(\n",
      "        (0): Linear(in_features=1, out_features=72, bias=False)\n",
      "        (1): Dropout(p=0, inplace=False)\n",
      "      )\n",
      "      (1): Sequential(\n",
      "        (0): Linear(in_features=1, out_features=72, bias=False)\n",
      "        (1): Dropout(p=0, inplace=False)\n",
      "      )\n",
      "      (2): Sequential(\n",
      "        (0): Linear(in_features=1, out_features=72, bias=False)\n",
      "        (1): Dropout(p=0, inplace=False)\n",
      "      )\n",
      "      (3): Sequential(\n",
      "        (0): Linear(in_features=1, out_features=72, bias=False)\n",
      "        (1): Dropout(p=0, inplace=False)\n",
      "      )\n",
      "      (4): Sequential(\n",
      "        (0): Linear(in_features=1, out_features=72, bias=False)\n",
      "        (1): Dropout(p=0, inplace=False)\n",
      "      )\n",
      "      (5): Sequential(\n",
      "        (0): Linear(in_features=1, out_features=1, bias=False)\n",
      "        (1): Dropout(p=0, inplace=False)\n",
      "      )\n",
      "    )\n",
      "    (net_z_u): ModuleList(\n",
      "      (0): Sequential(\n",
      "        (0): Linear(in_features=8, out_features=72, bias=True)\n",
      "        (1): Dropout(p=0, inplace=False)\n",
      "      )\n",
      "      (1): Sequential(\n",
      "        (0): Linear(in_features=72, out_features=72, bias=True)\n",
      "        (1): Dropout(p=0, inplace=False)\n",
      "      )\n",
      "      (2): Sequential(\n",
      "        (0): Linear(in_features=72, out_features=72, bias=True)\n",
      "        (1): Dropout(p=0, inplace=False)\n",
      "      )\n",
      "      (3): Sequential(\n",
      "        (0): Linear(in_features=72, out_features=72, bias=True)\n",
      "        (1): Dropout(p=0, inplace=False)\n",
      "      )\n",
      "      (4): Sequential(\n",
      "        (0): Linear(in_features=72, out_features=72, bias=True)\n",
      "        (1): Dropout(p=0, inplace=False)\n",
      "      )\n",
      "      (5): Sequential(\n",
      "        (0): Linear(in_features=72, out_features=1, bias=True)\n",
      "        (1): Dropout(p=0, inplace=False)\n",
      "      )\n",
      "    )\n",
      "  )\n",
      ")\n"
     ]
    },
    {
     "data": {
      "text/plain": "SingleBVPNet(\n  (net): FCBlock(\n    (nl): ReLU(inplace=True)\n    (nl_u): ReLU(inplace=True)\n    (net_u): ModuleList(\n      (0): Sequential(\n        (0): Linear(in_features=8, out_features=72, bias=True)\n        (1): Dropout(p=0, inplace=False)\n      )\n      (1): Sequential(\n        (0): Linear(in_features=72, out_features=72, bias=True)\n        (1): Dropout(p=0, inplace=False)\n      )\n      (2): Sequential(\n        (0): Linear(in_features=72, out_features=72, bias=True)\n        (1): Dropout(p=0, inplace=False)\n      )\n      (3): Sequential(\n        (0): Linear(in_features=72, out_features=72, bias=True)\n        (1): Dropout(p=0, inplace=False)\n      )\n      (4): Sequential(\n        (0): Linear(in_features=72, out_features=72, bias=True)\n        (1): Dropout(p=0, inplace=False)\n      )\n    )\n    (net_zu_u): ModuleList(\n      (0): Sequential(\n        (0): Linear(in_features=72, out_features=72, bias=True)\n        (1): Dropout(p=0, inplace=False)\n      )\n      (1): Sequential(\n        (0): Linear(in_features=72, out_features=72, bias=True)\n        (1): Dropout(p=0, inplace=False)\n      )\n      (2): Sequential(\n        (0): Linear(in_features=72, out_features=72, bias=True)\n        (1): Dropout(p=0, inplace=False)\n      )\n      (3): Sequential(\n        (0): Linear(in_features=72, out_features=72, bias=True)\n        (1): Dropout(p=0, inplace=False)\n      )\n      (4): Sequential(\n        (0): Linear(in_features=72, out_features=72, bias=True)\n        (1): Dropout(p=0, inplace=False)\n      )\n    )\n    (net_z_zu): ModuleList(\n      (0): Sequential(\n        (0): Linear(in_features=72, out_features=72, bias=False)\n        (1): Dropout(p=0, inplace=False)\n      )\n      (1): Sequential(\n        (0): Linear(in_features=72, out_features=72, bias=False)\n        (1): Dropout(p=0, inplace=False)\n      )\n      (2): Sequential(\n        (0): Linear(in_features=72, out_features=72, bias=False)\n        (1): Dropout(p=0, inplace=False)\n      )\n      (3): Sequential(\n        (0): Linear(in_features=72, out_features=72, bias=False)\n        (1): Dropout(p=0, inplace=False)\n      )\n      (4): Sequential(\n        (0): Linear(in_features=72, out_features=1, bias=False)\n        (1): Dropout(p=0, inplace=False)\n      )\n    )\n    (net_yu_u): ModuleList(\n      (0): Sequential(\n        (0): Linear(in_features=8, out_features=1, bias=True)\n        (1): Dropout(p=0, inplace=False)\n      )\n      (1): Sequential(\n        (0): Linear(in_features=72, out_features=1, bias=True)\n        (1): Dropout(p=0, inplace=False)\n      )\n      (2): Sequential(\n        (0): Linear(in_features=72, out_features=1, bias=True)\n        (1): Dropout(p=0, inplace=False)\n      )\n      (3): Sequential(\n        (0): Linear(in_features=72, out_features=1, bias=True)\n        (1): Dropout(p=0, inplace=False)\n      )\n      (4): Sequential(\n        (0): Linear(in_features=72, out_features=1, bias=True)\n        (1): Dropout(p=0, inplace=False)\n      )\n      (5): Sequential(\n        (0): Linear(in_features=72, out_features=1, bias=True)\n        (1): Dropout(p=0, inplace=False)\n      )\n    )\n    (net_z_yu): ModuleList(\n      (0): Sequential(\n        (0): Linear(in_features=1, out_features=72, bias=False)\n        (1): Dropout(p=0, inplace=False)\n      )\n      (1): Sequential(\n        (0): Linear(in_features=1, out_features=72, bias=False)\n        (1): Dropout(p=0, inplace=False)\n      )\n      (2): Sequential(\n        (0): Linear(in_features=1, out_features=72, bias=False)\n        (1): Dropout(p=0, inplace=False)\n      )\n      (3): Sequential(\n        (0): Linear(in_features=1, out_features=72, bias=False)\n        (1): Dropout(p=0, inplace=False)\n      )\n      (4): Sequential(\n        (0): Linear(in_features=1, out_features=72, bias=False)\n        (1): Dropout(p=0, inplace=False)\n      )\n      (5): Sequential(\n        (0): Linear(in_features=1, out_features=1, bias=False)\n        (1): Dropout(p=0, inplace=False)\n      )\n    )\n    (net_z_u): ModuleList(\n      (0): Sequential(\n        (0): Linear(in_features=8, out_features=72, bias=True)\n        (1): Dropout(p=0, inplace=False)\n      )\n      (1): Sequential(\n        (0): Linear(in_features=72, out_features=72, bias=True)\n        (1): Dropout(p=0, inplace=False)\n      )\n      (2): Sequential(\n        (0): Linear(in_features=72, out_features=72, bias=True)\n        (1): Dropout(p=0, inplace=False)\n      )\n      (3): Sequential(\n        (0): Linear(in_features=72, out_features=72, bias=True)\n        (1): Dropout(p=0, inplace=False)\n      )\n      (4): Sequential(\n        (0): Linear(in_features=72, out_features=72, bias=True)\n        (1): Dropout(p=0, inplace=False)\n      )\n      (5): Sequential(\n        (0): Linear(in_features=72, out_features=1, bias=True)\n        (1): Dropout(p=0, inplace=False)\n      )\n    )\n  )\n)"
     },
     "execution_count": 2,
     "metadata": {},
     "output_type": "execute_result"
    }
   ],
   "source": [
    "\n",
    "ckpt_path = 'logs/soccer_uncons_effort/t_1/checkpoints_dir/model_final.pth'\n",
    "model_2 = 'logs/soccer_uncons_effort/t_1/checkpoints_dir/model_final.pth'\n",
    "\n",
    "# ckpt_path = 'logs/soccer_constrained/t_1/checkpoints_dir/model_final.pth'\n",
    "# model_2 = 'logs/soccer_constrained/t_1/checkpoints_dir/model_final.pth'\n",
    "\n",
    "activation = 'relu'\n",
    "\n",
    "model = icnn.SingleBVPNet(in_features=9, out_features=1, type=activation, mode='mlp', hidden_features=72, num_hidden_layers=5, dropout=0)\n",
    "model2 = icnn.SingleBVPNet(in_features=9, out_features=1, type=activation, mode='mlp', hidden_features=72, num_hidden_layers=5, dropout=0)\n",
    "\n",
    "checkpoint = torch.load(ckpt_path, map_location=torch.device(\"cpu\"))\n",
    "c2 = torch.load(model_2, map_location=torch.device(\"cpu\"))\n",
    "\n",
    "try:\n",
    "    model_weights = checkpoint['model']\n",
    "except:\n",
    "    model_weights = checkpoint\n",
    "\n",
    "try:\n",
    "    mw = c2['model']\n",
    "except:\n",
    "    mw = c2\n",
    "\n",
    "model.load_state_dict(model_weights)\n",
    "model2.load_state_dict(mw)\n",
    "model.eval()\n",
    "model2.eval()"
   ],
   "metadata": {
    "collapsed": false,
    "pycharm": {
     "name": "#%%\n"
    }
   }
  },
  {
   "cell_type": "code",
   "execution_count": 3,
   "outputs": [],
   "source": [
    "g1 = utils.GOAL_1\n",
    "g2 = utils.GOAL_2\n",
    "\n",
    "G = [g1, g2]\n",
    "\n",
    "# G = [(0.1, 0), (-0.1, 0)]\n",
    "\n",
    "X = torch.zeros((100, 8))\n",
    "X[:, 0] = 0.0\n",
    "X[:, 1] = 0.0\n",
    "X[:, 4] = 0.25\n",
    "X[:, 5] = 0.0\n",
    "p_T = torch.linspace(0, 1, 100).reshape(-1, 1)\n",
    "\n",
    "\n",
    "X = torch.cat((X, p_T), dim=1)\n",
    "dt = 0.1\n",
    "t_1 = 0.1\n",
    "\n",
    "# X_in = torch.cat((X[:, 0].reshape(-1, 1), X[:, -1].reshape(-1, 1)), dim=1)\n",
    "X_in = {'coords': X.to(torch.float32)}\n",
    "v2 = model(X_in)['model_out'].detach().cpu().numpy()"
   ],
   "metadata": {
    "collapsed": false,
    "pycharm": {
     "name": "#%%\n"
    }
   }
  },
  {
   "cell_type": "code",
   "execution_count": 4,
   "outputs": [],
   "source": [
    "## check min max value for t = T - delta t\n",
    "delta_t = 0.1\n",
    "V1 = []\n",
    "t = t_1 - delta_t\n",
    "actions = []\n",
    "u_low = -2\n",
    "u_high = 2\n",
    "d_low = -1\n",
    "d_high = 1\n",
    "values = []\n",
    "inst_terms = []\n",
    "# X = torch.tensor([[t, delta_x, delta_v]], dtype=torch.float32)\n",
    "for p in torch.linspace(0, 1, 100):\n",
    "    X = torch.zeros((1, 8))\n",
    "    X[:, 0] = 0.0\n",
    "    X[:, 1] = 0.0\n",
    "    X[:, 4] = 0.25\n",
    "    X[:, 5] = 0.0\n",
    "    p_T = torch.linspace(0, 1, 81).reshape(-1, 1)\n",
    "    p_T[:, ] = p\n",
    "\n",
    "    x_next = utils.point_dyn(X, u_high, d_high)\n",
    "\n",
    "    X_next = torch.from_numpy(utils.make_pairs(x_next[:, :4], x_next[:, 4:8]))\n",
    "    X_next_p = torch.cat((X_next, p_T), dim=1).to(torch.float32)\n",
    "    if t_1 == 0.1:\n",
    "        V_next = utils.final_cost(X_next[:, :2], X_next[:, 4:6], G, p.detach().numpy(), game='uncons')\n",
    "    else:\n",
    "        V_next = model2({'coords': X_next_p})['model_out'].detach().numpy()\n",
    "\n",
    "    V_next = np.vstack(V_next).reshape(9, 9)\n",
    "    V_next = np.min(np.max(V_next, 1))\n",
    "\n",
    "    V1.append(V_next)"
   ],
   "metadata": {
    "collapsed": false,
    "pycharm": {
     "name": "#%%\n"
    }
   }
  },
  {
   "cell_type": "code",
   "execution_count": 5,
   "outputs": [],
   "source": [
    "p = p_T.numpy()\n",
    "points = zip(V1, p)\n",
    "from utils_refactor import cav_vex"
   ],
   "metadata": {
    "collapsed": false,
    "pycharm": {
     "name": "#%%\n"
    }
   }
  },
  {
   "cell_type": "code",
   "execution_count": 6,
   "outputs": [],
   "source": [
    "ps = np.linspace(0, 1, 100)\n",
    "vex = []\n",
    "for p in ps:\n",
    "    vex.append(cav_vex(V1, p, type='vex', num_ps=100))"
   ],
   "metadata": {
    "collapsed": false,
    "pycharm": {
     "name": "#%%\n"
    }
   }
  },
  {
   "cell_type": "code",
   "execution_count": 7,
   "outputs": [
    {
     "data": {
      "text/plain": "<Figure size 432x288 with 1 Axes>",
      "image/png": "[encoded data removed]"
     },
     "metadata": {
      "needs_background": "light"
     },
     "output_type": "display_data"
    }
   ],
   "source": [
    "plt.plot(np.linspace(0, 1, 100), V1, label=f'$\\min \\max V(t={1 - t:.2f})$')\n",
    "plt.plot(np.linspace(0, 1, 100), v2, '-.', label=f'$V(t={1-(t+delta_t):.2f})$')\n",
    "plt.plot(np.linspace(0, 1, 100), vex, label='vex')\n",
    "\n",
    "plt.title('Value vs belief Forward Time')\n",
    "plt.xlabel('p')\n",
    "plt.ylabel('V')\n",
    "plt.legend()\n",
    "# plt.ylim([-0.5, 0.5])\n",
    "plt.rcParams['figure.figsize'] = (8, 6)"
   ],
   "metadata": {
    "collapsed": false,
    "pycharm": {
     "name": "#%%\n"
    }
   }
  },
  {
   "cell_type": "code",
   "execution_count": 71,
   "outputs": [],
   "source": [
    "x1 = np.array([1, -1, 0, 0])\n",
    "x2 = np.zeros((4, ))\n",
    "g1 = utils.GOAL_1\n",
    "g2 = utils.GOAL_2\n",
    "\n",
    "G = [g1, g2]\n",
    "curr_x = np.hstack((x1, x2))\n",
    "umax = 2\n",
    "dmax = 1\n",
    "X_new = utils.point_dyn(np.expand_dims(curr_x, axis=0), umax, dmax, dt=0.1)\n",
    "x_new = utils.make_pairs(X_new[:, :4], X_new[:, 4:8])"
   ],
   "metadata": {
    "collapsed": false,
    "pycharm": {
     "name": "#%%\n"
    }
   }
  },
  {
   "cell_type": "code",
   "execution_count": 72,
   "outputs": [],
   "source": [
    "p_next_1 = 0.5 * np.ones((81, 1))\n",
    "val = utils.final_cost(x_new[:, :2], x_new[:, 4:6], G, p_next_1, game='uncons').reshape(9, 9)"
   ],
   "metadata": {
    "collapsed": false,
    "pycharm": {
     "name": "#%%\n"
    }
   }
  },
  {
   "cell_type": "code",
   "execution_count": 73,
   "outputs": [
    {
     "data": {
      "text/plain": "array([[0.61530289, 0.61530289, 0.61530289, 0.61531539, 0.61531539,\n        0.61531539, 0.61530289, 0.61530289, 0.61530289],\n       [0.61079438, 0.61079438, 0.61079438, 0.61080688, 0.61080688,\n        0.61080688, 0.61079438, 0.61079438, 0.61079438],\n       [0.60634079, 0.60634079, 0.60634079, 0.60635329, 0.60635329,\n        0.60635329, 0.60634079, 0.60634079, 0.60634079],\n       [0.62252085, 0.62252085, 0.62252085, 0.62253335, 0.62253335,\n        0.62253335, 0.62252085, 0.62252085, 0.62252085],\n       [0.61802149, 0.61802149, 0.61802149, 0.61803399, 0.61803399,\n        0.61803399, 0.61802149, 0.61802149, 0.61802149],\n       [0.6135766 , 0.6135766 , 0.6135766 , 0.6135891 , 0.6135891 ,\n        0.6135891 , 0.6135766 , 0.6135766 , 0.6135766 ],\n       [0.62975667, 0.62975667, 0.62975667, 0.62976917, 0.62976917,\n        0.62976917, 0.62975667, 0.62975667, 0.62975667],\n       [0.62526648, 0.62526648, 0.62526648, 0.62527898, 0.62527898,\n        0.62527898, 0.62526648, 0.62526648, 0.62526648],\n       [0.62083034, 0.62083034, 0.62083034, 0.62084284, 0.62084284,\n        0.62084284, 0.62083034, 0.62083034, 0.62083034]])"
     },
     "execution_count": 73,
     "metadata": {},
     "output_type": "execute_result"
    }
   ],
   "source": [
    "val"
   ],
   "metadata": {
    "collapsed": false,
    "pycharm": {
     "name": "#%%\n"
    }
   }
  },
  {
   "cell_type": "code",
   "execution_count": 74,
   "outputs": [
    {
     "data": {
      "text/plain": "(0.6063532862616423, 2)"
     },
     "execution_count": 74,
     "metadata": {},
     "output_type": "execute_result"
    }
   ],
   "source": [
    "np.min(np.max(val, 1)), np.argmin(np.max(val, 1))"
   ],
   "metadata": {
    "collapsed": false,
    "pycharm": {
     "name": "#%%\n"
    }
   }
  },
  {
   "cell_type": "code",
   "execution_count": 75,
   "outputs": [],
   "source": [
    "val_w_effort = utils.final_cost(x_new[:, :2], x_new[:, 4:6], G, p_next_1, game='uncons').reshape(9, 9) + 0.1 * utils.inst_cost(umax, dmax, 0.01, 0.01).reshape(9, 9)"
   ],
   "metadata": {
    "collapsed": false,
    "pycharm": {
     "name": "#%%\n"
    }
   }
  },
  {
   "cell_type": "code",
   "execution_count": 76,
   "outputs": [
    {
     "data": {
      "text/plain": "(0.6143532862616423, 2, 0.6063532862616423)"
     },
     "execution_count": 76,
     "metadata": {},
     "output_type": "execute_result"
    }
   ],
   "source": [
    "np.min(np.max(val_w_effort, 1)), np.argmin(np.max(val_w_effort, 1)), np.min(np.max(val, 1))"
   ],
   "metadata": {
    "collapsed": false,
    "pycharm": {
     "name": "#%%\n"
    }
   }
  },
  {
   "cell_type": "code",
   "execution_count": null,
   "outputs": [],
   "source": [],
   "metadata": {
    "collapsed": false,
    "pycharm": {
     "name": "#%%\n"
    }
   }
  }
 ],
 "metadata": {
  "kernelspec": {
   "display_name": "Python 3",
   "language": "python",
   "name": "python3"
  },
  "language_info": {
   "codemirror_mode": {
    "name": "ipython",
    "version": 2
   },
   "file_extension": ".py",
   "mimetype": "text/x-python",
   "name": "python",
   "nbconvert_exporter": "python",
   "pygments_lexer": "ipython2",
   "version": "2.7.6"
  }
 },
 "nbformat": 4,
 "nbformat_minor": 0
}