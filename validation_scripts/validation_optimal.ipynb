{
 "cells": [
  {
   "cell_type": "code",
   "execution_count": 351,
   "metadata": {
    "collapsed": true
   },
   "outputs": [],
   "source": [
    "import torch\n",
    "import numpy as np\n",
    "import matplotlib.pyplot as plt\n",
    "from itertools import product\n",
    "import utils, icnn_pytorch_adaptive as icnn_pytorch"
   ]
  },
  {
   "cell_type": "code",
   "execution_count": 389,
   "outputs": [
    {
     "name": "stdout",
     "output_type": "stream",
     "text": [
      "SingleBVPNet(\n",
      "  (net): FCBlock(\n",
      "    (nl): ReLU(inplace=True)\n",
      "    (net_u): ModuleList(\n",
      "      (0): Sequential(\n",
      "        (0): Linear(in_features=5, out_features=128, bias=True)\n",
      "        (1): Dropout(p=0, inplace=False)\n",
      "      )\n",
      "      (1): Sequential(\n",
      "        (0): Linear(in_features=128, out_features=128, bias=True)\n",
      "        (1): Dropout(p=0, inplace=False)\n",
      "      )\n",
      "    )\n",
      "    (net_zu_u): ModuleList(\n",
      "      (0): Sequential(\n",
      "        (0): Linear(in_features=128, out_features=128, bias=True)\n",
      "        (1): Dropout(p=0, inplace=False)\n",
      "      )\n",
      "      (1): Sequential(\n",
      "        (0): Linear(in_features=128, out_features=128, bias=True)\n",
      "        (1): Dropout(p=0, inplace=False)\n",
      "      )\n",
      "    )\n",
      "    (net_z_zu): ModuleList(\n",
      "      (0): Sequential(\n",
      "        (0): Linear(in_features=128, out_features=128, bias=False)\n",
      "        (1): Dropout(p=0, inplace=False)\n",
      "      )\n",
      "      (1): Sequential(\n",
      "        (0): Linear(in_features=128, out_features=1, bias=False)\n",
      "        (1): Dropout(p=0, inplace=False)\n",
      "      )\n",
      "    )\n",
      "    (net_yu_u): ModuleList(\n",
      "      (0): Sequential(\n",
      "        (0): Linear(in_features=5, out_features=1, bias=True)\n",
      "        (1): Dropout(p=0, inplace=False)\n",
      "      )\n",
      "      (1): Sequential(\n",
      "        (0): Linear(in_features=128, out_features=1, bias=True)\n",
      "        (1): Dropout(p=0, inplace=False)\n",
      "      )\n",
      "      (2): Sequential(\n",
      "        (0): Linear(in_features=128, out_features=1, bias=True)\n",
      "        (1): Dropout(p=0, inplace=False)\n",
      "      )\n",
      "    )\n",
      "    (net_z_yu): ModuleList(\n",
      "      (0): Sequential(\n",
      "        (0): Linear(in_features=1, out_features=128, bias=False)\n",
      "        (1): Dropout(p=0, inplace=False)\n",
      "      )\n",
      "      (1): Sequential(\n",
      "        (0): Linear(in_features=1, out_features=128, bias=False)\n",
      "        (1): Dropout(p=0, inplace=False)\n",
      "      )\n",
      "      (2): Sequential(\n",
      "        (0): Linear(in_features=1, out_features=1, bias=False)\n",
      "        (1): Dropout(p=0, inplace=False)\n",
      "      )\n",
      "    )\n",
      "    (net_z_u): ModuleList(\n",
      "      (0): Sequential(\n",
      "        (0): Linear(in_features=5, out_features=128, bias=True)\n",
      "        (1): Dropout(p=0, inplace=False)\n",
      "      )\n",
      "      (1): Sequential(\n",
      "        (0): Linear(in_features=128, out_features=128, bias=True)\n",
      "        (1): Dropout(p=0, inplace=False)\n",
      "      )\n",
      "      (2): Sequential(\n",
      "        (0): Linear(in_features=128, out_features=1, bias=True)\n",
      "        (1): Dropout(p=0, inplace=False)\n",
      "      )\n",
      "    )\n",
      "  )\n",
      ")\n",
      "SingleBVPNet(\n",
      "  (net): FCBlock(\n",
      "    (nl): ReLU(inplace=True)\n",
      "    (net_u): ModuleList(\n",
      "      (0): Sequential(\n",
      "        (0): Linear(in_features=5, out_features=128, bias=True)\n",
      "        (1): Dropout(p=0, inplace=False)\n",
      "      )\n",
      "      (1): Sequential(\n",
      "        (0): Linear(in_features=128, out_features=128, bias=True)\n",
      "        (1): Dropout(p=0, inplace=False)\n",
      "      )\n",
      "    )\n",
      "    (net_zu_u): ModuleList(\n",
      "      (0): Sequential(\n",
      "        (0): Linear(in_features=128, out_features=128, bias=True)\n",
      "        (1): Dropout(p=0, inplace=False)\n",
      "      )\n",
      "      (1): Sequential(\n",
      "        (0): Linear(in_features=128, out_features=128, bias=True)\n",
      "        (1): Dropout(p=0, inplace=False)\n",
      "      )\n",
      "    )\n",
      "    (net_z_zu): ModuleList(\n",
      "      (0): Sequential(\n",
      "        (0): Linear(in_features=128, out_features=128, bias=False)\n",
      "        (1): Dropout(p=0, inplace=False)\n",
      "      )\n",
      "      (1): Sequential(\n",
      "        (0): Linear(in_features=128, out_features=1, bias=False)\n",
      "        (1): Dropout(p=0, inplace=False)\n",
      "      )\n",
      "    )\n",
      "    (net_yu_u): ModuleList(\n",
      "      (0): Sequential(\n",
      "        (0): Linear(in_features=5, out_features=1, bias=True)\n",
      "        (1): Dropout(p=0, inplace=False)\n",
      "      )\n",
      "      (1): Sequential(\n",
      "        (0): Linear(in_features=128, out_features=1, bias=True)\n",
      "        (1): Dropout(p=0, inplace=False)\n",
      "      )\n",
      "      (2): Sequential(\n",
      "        (0): Linear(in_features=128, out_features=1, bias=True)\n",
      "        (1): Dropout(p=0, inplace=False)\n",
      "      )\n",
      "    )\n",
      "    (net_z_yu): ModuleList(\n",
      "      (0): Sequential(\n",
      "        (0): Linear(in_features=1, out_features=128, bias=False)\n",
      "        (1): Dropout(p=0, inplace=False)\n",
      "      )\n",
      "      (1): Sequential(\n",
      "        (0): Linear(in_features=1, out_features=128, bias=False)\n",
      "        (1): Dropout(p=0, inplace=False)\n",
      "      )\n",
      "      (2): Sequential(\n",
      "        (0): Linear(in_features=1, out_features=1, bias=False)\n",
      "        (1): Dropout(p=0, inplace=False)\n",
      "      )\n",
      "    )\n",
      "    (net_z_u): ModuleList(\n",
      "      (0): Sequential(\n",
      "        (0): Linear(in_features=5, out_features=128, bias=True)\n",
      "        (1): Dropout(p=0, inplace=False)\n",
      "      )\n",
      "      (1): Sequential(\n",
      "        (0): Linear(in_features=128, out_features=128, bias=True)\n",
      "        (1): Dropout(p=0, inplace=False)\n",
      "      )\n",
      "      (2): Sequential(\n",
      "        (0): Linear(in_features=128, out_features=1, bias=True)\n",
      "        (1): Dropout(p=0, inplace=False)\n",
      "      )\n",
      "    )\n",
      "  )\n",
      ")\n"
     ]
    },
    {
     "data": {
      "text/plain": "SingleBVPNet(\n  (net): FCBlock(\n    (nl): ReLU(inplace=True)\n    (net_u): ModuleList(\n      (0): Sequential(\n        (0): Linear(in_features=5, out_features=128, bias=True)\n        (1): Dropout(p=0, inplace=False)\n      )\n      (1): Sequential(\n        (0): Linear(in_features=128, out_features=128, bias=True)\n        (1): Dropout(p=0, inplace=False)\n      )\n    )\n    (net_zu_u): ModuleList(\n      (0): Sequential(\n        (0): Linear(in_features=128, out_features=128, bias=True)\n        (1): Dropout(p=0, inplace=False)\n      )\n      (1): Sequential(\n        (0): Linear(in_features=128, out_features=128, bias=True)\n        (1): Dropout(p=0, inplace=False)\n      )\n    )\n    (net_z_zu): ModuleList(\n      (0): Sequential(\n        (0): Linear(in_features=128, out_features=128, bias=False)\n        (1): Dropout(p=0, inplace=False)\n      )\n      (1): Sequential(\n        (0): Linear(in_features=128, out_features=1, bias=False)\n        (1): Dropout(p=0, inplace=False)\n      )\n    )\n    (net_yu_u): ModuleList(\n      (0): Sequential(\n        (0): Linear(in_features=5, out_features=1, bias=True)\n        (1): Dropout(p=0, inplace=False)\n      )\n      (1): Sequential(\n        (0): Linear(in_features=128, out_features=1, bias=True)\n        (1): Dropout(p=0, inplace=False)\n      )\n      (2): Sequential(\n        (0): Linear(in_features=128, out_features=1, bias=True)\n        (1): Dropout(p=0, inplace=False)\n      )\n    )\n    (net_z_yu): ModuleList(\n      (0): Sequential(\n        (0): Linear(in_features=1, out_features=128, bias=False)\n        (1): Dropout(p=0, inplace=False)\n      )\n      (1): Sequential(\n        (0): Linear(in_features=1, out_features=128, bias=False)\n        (1): Dropout(p=0, inplace=False)\n      )\n      (2): Sequential(\n        (0): Linear(in_features=1, out_features=1, bias=False)\n        (1): Dropout(p=0, inplace=False)\n      )\n    )\n    (net_z_u): ModuleList(\n      (0): Sequential(\n        (0): Linear(in_features=5, out_features=128, bias=True)\n        (1): Dropout(p=0, inplace=False)\n      )\n      (1): Sequential(\n        (0): Linear(in_features=128, out_features=128, bias=True)\n        (1): Dropout(p=0, inplace=False)\n      )\n      (2): Sequential(\n        (0): Linear(in_features=128, out_features=1, bias=True)\n        (1): Dropout(p=0, inplace=False)\n      )\n    )\n  )\n)"
     },
     "execution_count": 389,
     "metadata": {},
     "output_type": "execute_result"
    }
   ],
   "source": [
    "ckpt_path = '../logs/hexner_train_R2_timestep_0.1_optimal_reform_theta/t_1/checkpoints_dir/model_final.pth'\n",
    "model_2 = '../logs/hexner_train_R2_timestep_0.1_optimal_reform_theta/t_1/checkpoints_dir/model_final.pth'\n",
    "activation = 'relu'\n",
    "\n",
    "model = icnn_pytorch.SingleBVPNet(in_features=6, out_features=1, type=activation, mode='mlp', hidden_features=128, num_hidden_layers=2, dropout=0)\n",
    "model2 = icnn_pytorch.SingleBVPNet(in_features=6, out_features=1, type=activation, mode='mlp', hidden_features=128, num_hidden_layers=2, dropout=0)\n",
    "\n",
    "checkpoint = torch.load(ckpt_path, map_location=torch.device(\"cpu\"))\n",
    "c2 = torch.load(model_2, map_location=torch.device(\"cpu\"))\n",
    "\n",
    "try:\n",
    "    model_weights = checkpoint['model']\n",
    "except:\n",
    "    model_weights = checkpoint\n",
    "\n",
    "try:\n",
    "    mw = c2['model']\n",
    "except:\n",
    "    mw = c2\n",
    "\n",
    "model.load_state_dict(model_weights)\n",
    "model2.load_state_dict(mw)\n",
    "model.eval()\n",
    "model2.eval()"
   ],
   "metadata": {
    "collapsed": false,
    "pycharm": {
     "name": "#%%\n"
    }
   }
  },
  {
   "cell_type": "code",
   "execution_count": 390,
   "outputs": [],
   "source": [
    "X = torch.zeros((100, 5))\n",
    "p_T = torch.linspace(0, 1, 100).reshape(-1, 1)\n",
    "\n",
    "X = torch.cat((X, p_T), dim=1)\n",
    "\n",
    "t_1 = 0.1\n",
    "X[:, 0] = t_1 # time\n",
    "X[:, 1] = 0. # x1\n",
    "X[:, 2] = 0. # v1\n",
    "X[:, 3] = 0. # x2\n",
    "X[:, 4] = 0. # v2\n",
    "X_in = {'coords': X}\n",
    "v2 = model(X_in)['model_out'].detach().cpu().numpy()"
   ],
   "metadata": {
    "collapsed": false,
    "pycharm": {
     "name": "#%%\n"
    }
   }
  },
  {
   "cell_type": "code",
   "execution_count": 391,
   "outputs": [],
   "source": [
    "## check min max value for t = T - delta t\n",
    "delta_t = 0.1\n",
    "V1 = []\n",
    "t = t_1 - delta_t\n",
    "t_step = int(t_1 * 10)\n",
    "actions = []\n",
    "values = []\n",
    "\n",
    "# debug\n",
    "minimaxVal = []\n",
    "inst = []\n",
    "# u_map = {-1: -1, 0: 0,  1: 1}\n",
    "# d_map = {-1: -1, 0: 0,  1: 1}\n",
    "R1 = 1\n",
    "R2 = 5\n",
    "\n",
    "K_1, Phi_1 = utils.solve_hexner(R1)\n",
    "K_2, Phi_2 = utils.solve_hexner(R2)\n",
    "\n",
    "# X = torch.tensor([[t, delta_x, delta_v]], dtype=torch.float32)\n",
    "for p in torch.linspace(0, 1, 100):\n",
    "    X = torch.zeros((1, 6))\n",
    "    X[:, 1] = 0.\n",
    "    X[:, 2] = 0.\n",
    "    X[:, 3] = 0.\n",
    "    X[:, 4] = 0.\n",
    "    X[:, 5] = p\n",
    "    p_T = p.reshape(-1, 1)\n",
    "    # if t_1 >= 0.5:\n",
    "    #     tilde_theta = torch.zeros_like(p_T)\n",
    "    # else:\n",
    "    #     tilde_theta = (2*p_T - 1)\n",
    "\n",
    "    tilde_theta = (2*p_T - 1)\n",
    "\n",
    "    ztheta = torch.cat((tilde_theta, torch.zeros_like(p_T)), dim=1)\n",
    "    u = utils.get_analytical_u(K_1[-t_step], R1, Phi_1[-t_step], X[:, 1:3].numpy().T, ztheta.numpy().T).flatten()\n",
    "    d = utils.get_analytical_u(K_2[-t_step], R2, Phi_2[-t_step], X[:, 3:5].numpy().T, ztheta.numpy().T).flatten()\n",
    "    X_prev = X\n",
    "    X_new = torch.from_numpy(utils.dynamic_optimal(X, u, d, DT=delta_t))\n",
    "    X_new = torch.cat((torch.ones(X_new.shape[0], 1), X_new), dim=1)\n",
    "    X = torch.cat((X_new, p.reshape(-1, 1)), dim=1).to(torch.float32)\n",
    "    X[:, 0] = t\n",
    "    X_in = {'coords': X}\n",
    "    if t_1 == delta_t:\n",
    "        # value = utils.final_value(X[:, 1], X[:, 2], X[:, 3], X[:, 4], X[:, -1]).numpy()\n",
    "        value = utils.final_value_reformulation(X_prev.numpy(), u, d, Phi_1[-t_step], K_1[-t_step], K_2[-t_step])\n",
    "    else:\n",
    "        value = model2(X_in)['model_out'].detach().cpu().numpy()\n",
    "        value += (delta_t * utils.running_payoff(u, d, R1, R2))\n",
    "\n",
    "    values.append(value)\n",
    "    minmaxV = value\n",
    "    minimaxVal.append(minmaxV.item())\n",
    "    # inst.append(delta_t * utils.running_payoff(u, d, R1, R2))\n",
    "    # minmaxV += (delta_t * utils.running_payoff(u, d, R1, R2))\n",
    "    V1.append(minmaxV.item())"
   ],
   "metadata": {
    "collapsed": false,
    "pycharm": {
     "name": "#%%\n"
    }
   }
  },
  {
   "cell_type": "code",
   "execution_count": 392,
   "outputs": [],
   "source": [
    "from utils import cav_vex\n",
    "ps = np.linspace(0, 1, 100)\n",
    "vex = []\n",
    "for p in ps:\n",
    "    vex.append(cav_vex(V1, p, type='vex', num_ps=100))"
   ],
   "metadata": {
    "collapsed": false,
    "pycharm": {
     "name": "#%%\n"
    }
   }
  },
  {
   "cell_type": "code",
   "execution_count": 403,
   "outputs": [
    {
     "data": {
      "text/plain": "<Figure size 576x432 with 1 Axes>",
      "image/png": "[encoded data removed]"
     },
     "metadata": {
      "needs_background": "light"
     },
     "output_type": "display_data"
    }
   ],
   "source": [
    "plt.plot(np.linspace(0, 1, 100), V1, label=f'$\\min \\max V(t={1 - t:.2f})$')\n",
    "plt.plot(np.linspace(0, 1, 100), v2, '-.', label=f'$V(t={1-(t+delta_t):.2f})$')\n",
    "plt.plot(np.linspace(0, 1, 100), minimaxVal, label=\"V_next\")\n",
    "# plt.plot(np.linspace(0, 1, 100), inst, label=\"instantaneous loss\")\n",
    "plt.plot(np.linspace(0, 1, 100), vex, label='vex')\n",
    "plt.scatter(x=0.5, y=minimaxVal[49], label=str(minimaxVal[49]))\n",
    "\n",
    "plt.title('Value vs belief Forward Time')\n",
    "plt.xlabel('p')\n",
    "plt.ylabel('V')\n",
    "plt.legend()\n",
    "# plt.ylim([-0.1, -0])\n",
    "plt.rcParams['figure.figsize'] = (8, 6)"
   ],
   "metadata": {
    "collapsed": false,
    "pycharm": {
     "name": "#%%\n"
    }
   }
  },
  {
   "cell_type": "code",
   "execution_count": 398,
   "outputs": [
    {
     "data": {
      "text/plain": "0.0004695425866256628"
     },
     "execution_count": 398,
     "metadata": {},
     "output_type": "execute_result"
    }
   ],
   "source": [
    "minimaxVal[49]"
   ],
   "metadata": {
    "collapsed": false,
    "pycharm": {
     "name": "#%%\n"
    }
   }
  },
  {
   "cell_type": "code",
   "execution_count": 443,
   "outputs": [
    {
     "data": {
      "text/plain": "array([0.  , 0.25, 0.5 , 0.75, 1.  ])"
     },
     "execution_count": 443,
     "metadata": {},
     "output_type": "execute_result"
    }
   ],
   "source": [
    "np.arange(0, 1.1, 0.25)"
   ],
   "metadata": {
    "collapsed": false,
    "pycharm": {
     "name": "#%%\n"
    }
   }
  },
  {
   "cell_type": "code",
   "execution_count": 405,
   "outputs": [],
   "source": [
    "up = 0.5\n",
    "states = [up]\n",
    "for _ in range(1):  # change to 9 for 10 timesteps\n",
    "    states.append((states[-1] - 0.005) / 1.1)"
   ],
   "metadata": {
    "collapsed": false,
    "pycharm": {
     "name": "#%%\n"
    }
   }
  },
  {
   "cell_type": "code",
   "execution_count": 406,
   "outputs": [
    {
     "data": {
      "text/plain": "[0.5, 0.44999999999999996]"
     },
     "execution_count": 406,
     "metadata": {},
     "output_type": "execute_result"
    }
   ],
   "source": [
    "states"
   ],
   "metadata": {
    "collapsed": false,
    "pycharm": {
     "name": "#%%\n"
    }
   }
  },
  {
   "cell_type": "code",
   "execution_count": 415,
   "outputs": [],
   "source": [
    "t_step = int(0.5 * 100) // 2"
   ],
   "metadata": {
    "collapsed": false,
    "pycharm": {
     "name": "#%%\n"
    }
   }
  },
  {
   "cell_type": "code",
   "execution_count": 603,
   "outputs": [
    {
     "data": {
      "text/plain": "25"
     },
     "execution_count": 603,
     "metadata": {},
     "output_type": "execute_result"
    }
   ],
   "source": [
    "t_step"
   ],
   "metadata": {
    "collapsed": false,
    "pycharm": {
     "name": "#%%\n"
    }
   }
  },
  {
   "cell_type": "code",
   "execution_count": 575,
   "outputs": [
    {
     "data": {
      "text/plain": "array([0. , 0.5, 1. ])"
     },
     "execution_count": 575,
     "metadata": {},
     "output_type": "execute_result"
    }
   ],
   "source": [
    "np.linspace(0, 1, 3)"
   ],
   "metadata": {
    "collapsed": false,
    "pycharm": {
     "name": "#%%\n"
    }
   }
  },
  {
   "cell_type": "code",
   "execution_count": 503,
   "outputs": [
    {
     "data": {
      "text/plain": "array([0. , 0.2, 0.4, 0.6, 0.8, 1. ])"
     },
     "execution_count": 503,
     "metadata": {},
     "output_type": "execute_result"
    }
   ],
   "source": [
    "np.linspace(0, 1, 6)"
   ],
   "metadata": {
    "collapsed": false,
    "pycharm": {
     "name": "#%%\n"
    }
   }
  },
  {
   "cell_type": "code",
   "execution_count": 593,
   "outputs": [],
   "source": [
    "t = np.arange(0.05, 1.05, 0.05)"
   ],
   "metadata": {
    "collapsed": false,
    "pycharm": {
     "name": "#%%\n"
    }
   }
  },
  {
   "cell_type": "code",
   "execution_count": 657,
   "outputs": [
    {
     "data": {
      "text/plain": "1"
     },
     "execution_count": 657,
     "metadata": {},
     "output_type": "execute_result"
    }
   ],
   "source": [
    "t_step = int(np.where(t == 0.05)[0] + 1)\n",
    "t_step"
   ],
   "metadata": {
    "collapsed": false,
    "pycharm": {
     "name": "#%%\n"
    }
   }
  },
  {
   "cell_type": "code",
   "execution_count": 698,
   "outputs": [],
   "source": [
    "up = 0.5\n",
    "states = [up]\n",
    "for _ in range(9):  # change to 9 for 10 timesteps\n",
    "    states.append((states[-1] - 0.005) / 1.1)"
   ],
   "metadata": {
    "collapsed": false,
    "pycharm": {
     "name": "#%%\n"
    }
   }
  },
  {
   "cell_type": "code",
   "execution_count": 699,
   "outputs": [
    {
     "data": {
      "text/plain": "[0.5,\n 0.44999999999999996,\n 0.4045454545454545,\n 0.3632231404958677,\n 0.3256574004507888,\n 0.2915067276825352,\n 0.2604606615295774,\n 0.23223696502688854,\n 0.20657905911535318,\n 0.1832536901048665]"
     },
     "execution_count": 699,
     "metadata": {},
     "output_type": "execute_result"
    }
   ],
   "source": [
    "states"
   ],
   "metadata": {
    "collapsed": false,
    "pycharm": {
     "name": "#%%\n"
    }
   }
  },
  {
   "cell_type": "code",
   "execution_count": null,
   "outputs": [],
   "source": [],
   "metadata": {
    "collapsed": false,
    "pycharm": {
     "name": "#%%\n"
    }
   }
  }
 ],
 "metadata": {
  "kernelspec": {
   "display_name": "Python 3",
   "language": "python",
   "name": "python3"
  },
  "language_info": {
   "codemirror_mode": {
    "name": "ipython",
    "version": 2
   },
   "file_extension": ".py",
   "mimetype": "text/x-python",
   "name": "python",
   "nbconvert_exporter": "python",
   "pygments_lexer": "ipython2",
   "version": "2.7.6"
  }
 },
 "nbformat": 4,
 "nbformat_minor": 0
}