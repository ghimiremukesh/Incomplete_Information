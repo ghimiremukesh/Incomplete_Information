{
 "cells": [
  {
   "cell_type": "code",
   "execution_count": 1,
   "metadata": {},
   "outputs": [],
   "source": [
    "import torch\n",
    "import numpy as np\n",
    "import matplotlib.pyplot as plt\n",
    "\n",
    "import sys\n",
    "import os\n",
    "\n",
    "sys.path.append('../')\n",
    "import dataio, utils, icnn_pytorch_adaptive as icnn_pytorch"
   ]
  },
  {
   "cell_type": "code",
   "execution_count": 2,
   "metadata": {
    "pycharm": {
     "name": "#%%\n"
    }
   },
   "outputs": [
    {
     "name": "stdout",
     "output_type": "stream",
     "text": [
      "SingleBVPNet(\n",
      "  (net): FCBlock(\n",
      "    (nl): ReLU(inplace=True)\n",
      "    (net_u): ModuleList(\n",
      "      (0): Sequential(\n",
      "        (0): Linear(in_features=4, out_features=128, bias=True)\n",
      "        (1): Dropout(p=0, inplace=False)\n",
      "      )\n",
      "      (1): Sequential(\n",
      "        (0): Linear(in_features=128, out_features=128, bias=True)\n",
      "        (1): Dropout(p=0, inplace=False)\n",
      "      )\n",
      "    )\n",
      "    (net_zu_u): ModuleList(\n",
      "      (0): Sequential(\n",
      "        (0): Linear(in_features=128, out_features=128, bias=True)\n",
      "        (1): Dropout(p=0, inplace=False)\n",
      "      )\n",
      "      (1): Sequential(\n",
      "        (0): Linear(in_features=128, out_features=128, bias=True)\n",
      "        (1): Dropout(p=0, inplace=False)\n",
      "      )\n",
      "    )\n",
      "    (net_z_zu): ModuleList(\n",
      "      (0): Sequential(\n",
      "        (0): Linear(in_features=128, out_features=128, bias=False)\n",
      "        (1): Dropout(p=0, inplace=False)\n",
      "      )\n",
      "      (1): Sequential(\n",
      "        (0): Linear(in_features=128, out_features=1, bias=False)\n",
      "        (1): Dropout(p=0, inplace=False)\n",
      "      )\n",
      "    )\n",
      "    (net_yu_u): ModuleList(\n",
      "      (0): Sequential(\n",
      "        (0): Linear(in_features=4, out_features=1, bias=True)\n",
      "        (1): Dropout(p=0, inplace=False)\n",
      "      )\n",
      "      (1): Sequential(\n",
      "        (0): Linear(in_features=128, out_features=1, bias=True)\n",
      "        (1): Dropout(p=0, inplace=False)\n",
      "      )\n",
      "      (2): Sequential(\n",
      "        (0): Linear(in_features=128, out_features=1, bias=True)\n",
      "        (1): Dropout(p=0, inplace=False)\n",
      "      )\n",
      "    )\n",
      "    (net_z_yu): ModuleList(\n",
      "      (0): Sequential(\n",
      "        (0): Linear(in_features=1, out_features=128, bias=False)\n",
      "        (1): Dropout(p=0, inplace=False)\n",
      "      )\n",
      "      (1): Sequential(\n",
      "        (0): Linear(in_features=1, out_features=128, bias=False)\n",
      "        (1): Dropout(p=0, inplace=False)\n",
      "      )\n",
      "      (2): Sequential(\n",
      "        (0): Linear(in_features=1, out_features=1, bias=False)\n",
      "        (1): Dropout(p=0, inplace=False)\n",
      "      )\n",
      "    )\n",
      "    (net_z_u): ModuleList(\n",
      "      (0): Sequential(\n",
      "        (0): Linear(in_features=4, out_features=128, bias=True)\n",
      "        (1): Dropout(p=0, inplace=False)\n",
      "      )\n",
      "      (1): Sequential(\n",
      "        (0): Linear(in_features=128, out_features=128, bias=True)\n",
      "        (1): Dropout(p=0, inplace=False)\n",
      "      )\n",
      "      (2): Sequential(\n",
      "        (0): Linear(in_features=128, out_features=1, bias=True)\n",
      "        (1): Dropout(p=0, inplace=False)\n",
      "      )\n",
      "    )\n",
      "  )\n",
      ")\n",
      "SingleBVPNet(\n",
      "  (net): FCBlock(\n",
      "    (nl): ReLU(inplace=True)\n",
      "    (net_u): ModuleList(\n",
      "      (0): Sequential(\n",
      "        (0): Linear(in_features=4, out_features=128, bias=True)\n",
      "        (1): Dropout(p=0, inplace=False)\n",
      "      )\n",
      "      (1): Sequential(\n",
      "        (0): Linear(in_features=128, out_features=128, bias=True)\n",
      "        (1): Dropout(p=0, inplace=False)\n",
      "      )\n",
      "    )\n",
      "    (net_zu_u): ModuleList(\n",
      "      (0): Sequential(\n",
      "        (0): Linear(in_features=128, out_features=128, bias=True)\n",
      "        (1): Dropout(p=0, inplace=False)\n",
      "      )\n",
      "      (1): Sequential(\n",
      "        (0): Linear(in_features=128, out_features=128, bias=True)\n",
      "        (1): Dropout(p=0, inplace=False)\n",
      "      )\n",
      "    )\n",
      "    (net_z_zu): ModuleList(\n",
      "      (0): Sequential(\n",
      "        (0): Linear(in_features=128, out_features=128, bias=False)\n",
      "        (1): Dropout(p=0, inplace=False)\n",
      "      )\n",
      "      (1): Sequential(\n",
      "        (0): Linear(in_features=128, out_features=1, bias=False)\n",
      "        (1): Dropout(p=0, inplace=False)\n",
      "      )\n",
      "    )\n",
      "    (net_yu_u): ModuleList(\n",
      "      (0): Sequential(\n",
      "        (0): Linear(in_features=4, out_features=1, bias=True)\n",
      "        (1): Dropout(p=0, inplace=False)\n",
      "      )\n",
      "      (1): Sequential(\n",
      "        (0): Linear(in_features=128, out_features=1, bias=True)\n",
      "        (1): Dropout(p=0, inplace=False)\n",
      "      )\n",
      "      (2): Sequential(\n",
      "        (0): Linear(in_features=128, out_features=1, bias=True)\n",
      "        (1): Dropout(p=0, inplace=False)\n",
      "      )\n",
      "    )\n",
      "    (net_z_yu): ModuleList(\n",
      "      (0): Sequential(\n",
      "        (0): Linear(in_features=1, out_features=128, bias=False)\n",
      "        (1): Dropout(p=0, inplace=False)\n",
      "      )\n",
      "      (1): Sequential(\n",
      "        (0): Linear(in_features=1, out_features=128, bias=False)\n",
      "        (1): Dropout(p=0, inplace=False)\n",
      "      )\n",
      "      (2): Sequential(\n",
      "        (0): Linear(in_features=1, out_features=1, bias=False)\n",
      "        (1): Dropout(p=0, inplace=False)\n",
      "      )\n",
      "    )\n",
      "    (net_z_u): ModuleList(\n",
      "      (0): Sequential(\n",
      "        (0): Linear(in_features=4, out_features=128, bias=True)\n",
      "        (1): Dropout(p=0, inplace=False)\n",
      "      )\n",
      "      (1): Sequential(\n",
      "        (0): Linear(in_features=128, out_features=128, bias=True)\n",
      "        (1): Dropout(p=0, inplace=False)\n",
      "      )\n",
      "      (2): Sequential(\n",
      "        (0): Linear(in_features=128, out_features=1, bias=True)\n",
      "        (1): Dropout(p=0, inplace=False)\n",
      "      )\n",
      "    )\n",
      "  )\n",
      ")\n"
     ]
    },
    {
     "data": {
      "text/plain": "SingleBVPNet(\n  (net): FCBlock(\n    (nl): ReLU(inplace=True)\n    (net_u): ModuleList(\n      (0): Sequential(\n        (0): Linear(in_features=4, out_features=128, bias=True)\n        (1): Dropout(p=0, inplace=False)\n      )\n      (1): Sequential(\n        (0): Linear(in_features=128, out_features=128, bias=True)\n        (1): Dropout(p=0, inplace=False)\n      )\n    )\n    (net_zu_u): ModuleList(\n      (0): Sequential(\n        (0): Linear(in_features=128, out_features=128, bias=True)\n        (1): Dropout(p=0, inplace=False)\n      )\n      (1): Sequential(\n        (0): Linear(in_features=128, out_features=128, bias=True)\n        (1): Dropout(p=0, inplace=False)\n      )\n    )\n    (net_z_zu): ModuleList(\n      (0): Sequential(\n        (0): Linear(in_features=128, out_features=128, bias=False)\n        (1): Dropout(p=0, inplace=False)\n      )\n      (1): Sequential(\n        (0): Linear(in_features=128, out_features=1, bias=False)\n        (1): Dropout(p=0, inplace=False)\n      )\n    )\n    (net_yu_u): ModuleList(\n      (0): Sequential(\n        (0): Linear(in_features=4, out_features=1, bias=True)\n        (1): Dropout(p=0, inplace=False)\n      )\n      (1): Sequential(\n        (0): Linear(in_features=128, out_features=1, bias=True)\n        (1): Dropout(p=0, inplace=False)\n      )\n      (2): Sequential(\n        (0): Linear(in_features=128, out_features=1, bias=True)\n        (1): Dropout(p=0, inplace=False)\n      )\n    )\n    (net_z_yu): ModuleList(\n      (0): Sequential(\n        (0): Linear(in_features=1, out_features=128, bias=False)\n        (1): Dropout(p=0, inplace=False)\n      )\n      (1): Sequential(\n        (0): Linear(in_features=1, out_features=128, bias=False)\n        (1): Dropout(p=0, inplace=False)\n      )\n      (2): Sequential(\n        (0): Linear(in_features=1, out_features=1, bias=False)\n        (1): Dropout(p=0, inplace=False)\n      )\n    )\n    (net_z_u): ModuleList(\n      (0): Sequential(\n        (0): Linear(in_features=4, out_features=128, bias=True)\n        (1): Dropout(p=0, inplace=False)\n      )\n      (1): Sequential(\n        (0): Linear(in_features=128, out_features=128, bias=True)\n        (1): Dropout(p=0, inplace=False)\n      )\n      (2): Sequential(\n        (0): Linear(in_features=128, out_features=1, bias=True)\n        (1): Dropout(p=0, inplace=False)\n      )\n    )\n  )\n)"
     },
     "execution_count": 2,
     "metadata": {},
     "output_type": "execute_result"
    }
   ],
   "source": [
    "\n",
    "ckpt_path = '../train_new_case_follow_zero_relative/t_10/checkpoints_dir/model_final.pth'\n",
    "model_2 = '../train_new_case_follow_zero_relative/t_9/checkpoints_dir/model_final.pth'\n",
    "\n",
    "\n",
    "activation = 'relu'\n",
    "\n",
    "model = icnn_pytorch.SingleBVPNet(in_features=5, out_features=1, type=activation, mode='mlp', hidden_features=128, num_hidden_layers=2, dropout=0)\n",
    "\n",
    "model2 = icnn_pytorch.SingleBVPNet(in_features=5, out_features=1, type=activation, mode='mlp', hidden_features=128, num_hidden_layers=2, dropout=0)\n",
    "\n",
    "checkpoint = torch.load(ckpt_path, map_location=torch.device(\"cpu\"))\n",
    "c2 = torch.load(model_2, map_location=torch.device(\"cpu\"))\n",
    "\n",
    "try:\n",
    "    model_weights = checkpoint['model']\n",
    "except:\n",
    "    model_weights = checkpoint\n",
    "\n",
    "try:\n",
    "    mw = c2['model']\n",
    "except:\n",
    "    mw = c2\n",
    "\n",
    "model.load_state_dict(model_weights)\n",
    "model2.load_state_dict(mw)\n",
    "model.eval()\n",
    "model2.eval()"
   ]
  },
  {
   "cell_type": "code",
   "execution_count": 4,
   "outputs": [],
   "source": [
    "## define the dynamics\n",
    "\n",
    "def dynamics_zero_relative(x, u, d, DT=0.1):\n",
    "    from itertools import product\n",
    "    def get_p2_a(x, d_max):\n",
    "        v = x[..., 3]  # p2's velocity\n",
    "\n",
    "        a_l = -d_max * np.ones_like(v)\n",
    "        a_r = d_max * np.ones_like(v)\n",
    "\n",
    "        ## try catch block for when input is just one state vs multiple states.\n",
    "        try:\n",
    "            a_l[np.where(v == 0)] = -d_max\n",
    "            a_r[np.where(v == 0)] = d_max\n",
    "            a_l[np.where(v < 0)] = -d_max\n",
    "            a_r[np.where(v < 0)] = 0.5 * d_max\n",
    "\n",
    "            a_l[np.where(v > 0)] = -0.5 * d_max\n",
    "            a_r[np.where(v > 0)] = d_max\n",
    "        except:\n",
    "            a_l = -d_max if v < 0 else -0.5 * d_max\n",
    "            a_r = 0.5 * d_max if v < 0 else d_max\n",
    "\n",
    "        return a_l, a_r\n",
    "\n",
    "    U = np.array([-np.ones_like(x[..., 2]).reshape(-1, 1), np.zeros_like(x[..., 2]).reshape(-1, 1), np.ones_like(x[..., 2]).reshape(-1, 1)]).T.squeeze()\n",
    "    d1, d2 = get_p2_a(x, d)\n",
    "    D = np.vstack((d1, np.zeros_like(d1), d2)).T\n",
    "    dt = DT\n",
    "    da = [np.array([a - b for a, b in product(U, D)])]\n",
    "\n",
    "    da = np.array(da)\n",
    "    da_x = da * 0.5 * dt ** 2\n",
    "\n",
    "    x_new = np.array([x[..., 1] + dt * (x[..., 2] - x[..., 3]) + a for a in da_x]).T.reshape(-1, 1)\n",
    "\n",
    "    v1_new = x[..., 2].reshape(-1, 1) + U * dt\n",
    "    v2_new = x[..., 3].reshape(-1, 1) + D * dt\n",
    "\n",
    "\n",
    "    X_new = np.hstack((x_new.reshape(-1, 1), v1_new.repeat(3).reshape(-1, 1),\n",
    "                       v2_new.repeat(3).reshape(-1, 1)))  # returns new states, n x 8\n",
    "\n",
    "    return X_new"
   ],
   "metadata": {
    "collapsed": false,
    "pycharm": {
     "name": "#%%\n"
    }
   }
  },
  {
   "cell_type": "code",
   "execution_count": 5,
   "outputs": [],
   "source": [
    "# Compute value at current time-step\n",
    "\n",
    "X = torch.zeros((100, 4))\n",
    "p_T = torch.linspace(0, 1, 100).reshape(-1, 1)\n",
    "\n",
    "X = torch.cat((X, p_T), dim=1)\n",
    "\n",
    "\n",
    "# also plot value at next time step\n",
    "X[:, 0] = 1  # time\n",
    "X[:, 1] = 0. # pos\n",
    "X[:, 2] = 0. # v1\n",
    "X[:, 3] = 0. # v2\n",
    "X_in = {'coords': X}\n",
    "v2 = model(X_in)['model_out'].detach().cpu().numpy()"
   ],
   "metadata": {
    "collapsed": false,
    "pycharm": {
     "name": "#%%\n"
    }
   }
  },
  {
   "cell_type": "code",
   "execution_count": 6,
   "outputs": [],
   "source": [
    "## compute min max value at next time-step\n",
    "delta_t = 0.1\n",
    "V1 = []\n",
    "t = 0.9  #\n",
    "actions = []\n",
    "values = []\n",
    "# X = torch.tensor([[t, delta_x, delta_v]], dtype=torch.float32)\n",
    "for p in torch.linspace(0, 1, 100):\n",
    "    X = np.zeros((1, 4), dtype=np.float32)\n",
    "    X[:, 1] = 0.\n",
    "    X[:, 2] = 0.\n",
    "    X[:, 3] = 0.\n",
    "    p_T = torch.linspace(0, 1, 9).reshape(-1, 1)\n",
    "    p_T[:, ] = p\n",
    "\n",
    "    X_new = torch.from_numpy(dynamics_zero_relative(X, 1, 1, DT=delta_t))\n",
    "    X_new = torch.cat((torch.ones(X_new.shape[0], 1), X_new), dim=1)\n",
    "    X = torch.cat((X_new, p_T), dim=1)\n",
    "    X[:, 0] = t\n",
    "    X_in = {'coords': X}\n",
    "    value = model2(X_in)['model_out'].detach().cpu().numpy()\n",
    "    # value = utils.final_value_minmax((X[:, 1]), X[:, -1]).numpy()  # uncomment this to calculate value at T-dt\n",
    "    values.append(value)\n",
    "    minmaxV = value.reshape(3, 3)\n",
    "\n",
    "    a_idx = np.argmin(np.max(minmaxV, axis=1))\n",
    "    d_idx = np.argmax(np.min(minmaxV, axis=0))\n",
    "\n",
    "\n",
    "    V1.append(np.min(np.max(minmaxV, 1)))\n",
    "    a_choices = [-1, 0, 1]\n",
    "    actions.append(a_choices[a_idx])"
   ],
   "metadata": {
    "collapsed": false,
    "pycharm": {
     "name": "#%%\n"
    }
   }
  },
  {
   "cell_type": "code",
   "execution_count": 7,
   "outputs": [],
   "source": [
    "from itertools import product"
   ],
   "metadata": {
    "collapsed": false,
    "pycharm": {
     "name": "#%%\n"
    }
   }
  },
  {
   "cell_type": "code",
   "execution_count": 8,
   "outputs": [],
   "source": [
    "p = p_T.numpy()\n",
    "points = zip(V1, p)\n",
    "from utils import cav_vex"
   ],
   "metadata": {
    "collapsed": false,
    "pycharm": {
     "name": "#%%\n"
    }
   }
  },
  {
   "cell_type": "code",
   "execution_count": 9,
   "outputs": [],
   "source": [
    "ps = np.linspace(0, 1, 100)\n",
    "vex = []\n",
    "for p in ps:\n",
    "    vex.append(cav_vex(V1, p, type='vex', num_ps=100))"
   ],
   "metadata": {
    "collapsed": false,
    "pycharm": {
     "name": "#%%\n"
    }
   }
  },
  {
   "cell_type": "code",
   "execution_count": 10,
   "outputs": [
    {
     "data": {
      "text/plain": "<Figure size 432x288 with 1 Axes>",
      "image/png": "[encoded data removed]"
     },
     "metadata": {
      "needs_background": "light"
     },
     "output_type": "display_data"
    }
   ],
   "source": [
    "plt.plot(np.linspace(0, 1, 100), V1, label=f'$\\min \\max V(t={1 - t:.1f})$')\n",
    "plt.plot(np.linspace(0, 1, 100), v2, '-.', label=f'$V(t={1-t-0.1:.1f})$')\n",
    "plt.plot(np.linspace(0, 1, 100), vex, label='vex')\n",
    "plt.title('Value vs belief Forward Time')\n",
    "plt.xlabel('p')\n",
    "plt.ylabel('V')\n",
    "plt.legend()\n",
    "# plt.ylim([-1, 1])\n",
    "plt.rcParams['figure.figsize'] = (8, 6)"
   ],
   "metadata": {
    "collapsed": false,
    "pycharm": {
     "name": "#%%\n"
    }
   }
  }
 ],
 "metadata": {
  "kernelspec": {
   "display_name": "Python 3 (ipykernel)",
   "language": "python",
   "name": "python3"
  },
  "language_info": {
   "codemirror_mode": {
    "name": "ipython",
    "version": 3
   },
   "file_extension": ".py",
   "mimetype": "text/x-python",
   "name": "python",
   "nbconvert_exporter": "python",
   "pygments_lexer": "ipython3",
   "version": "3.8.13"
  }
 },
 "nbformat": 4,
 "nbformat_minor": 1
}