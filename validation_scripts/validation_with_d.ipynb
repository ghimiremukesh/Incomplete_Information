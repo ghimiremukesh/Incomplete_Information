{
 "cells": [
  {
   "cell_type": "code",
   "execution_count": 63,
   "metadata": {
    "collapsed": true
   },
   "outputs": [],
   "source": [
    "import torch\n",
    "import numpy as np\n",
    "import matplotlib.pyplot as plt\n",
    "from itertools import product\n",
    "import utils, icnn_pytorch_adaptive as icnn_pytorch"
   ]
  },
  {
   "cell_type": "code",
   "execution_count": 64,
   "outputs": [],
   "source": [
    "def dynamics(x, u, d, DT):\n",
    "    # U = np.array([-np.ones_like(x[..., 2]).reshape(-1, 1), np.ones_like(x[..., 2]).reshape(-1, 1)]).T.squeeze()\n",
    "    p = x[..., -1]\n",
    "    # u = 2*p - 1\n",
    "    # d = 2*p - 1\n",
    "    dt = DT\n",
    "    x1_new = x[..., 1].reshape(-1, 1) + (x[..., 2] * dt + 0.5 * u * dt ** 2).reshape(-1, 1)\n",
    "    x2_new = x[..., 3].reshape(-1, 1) + (x[..., 4] * dt + 0.5 * d * dt ** 2).reshape(-1, 1)\n",
    "    v1_new = x[..., 2].reshape(-1, 1) + u * dt\n",
    "    v2_new = x[..., 4].reshape(-1, 1) + d * dt\n",
    "\n",
    "    # v_new = np.array([x[..., 2] + a for a in da_v]).T.reshape(-1, 1)\n",
    "    # p_new = np.multiply(x[:, 3].reshape(-1, 1),\n",
    "    #                     np.ones((x.shape[0], 4))).reshape(-1, 1)\n",
    "    X_new = np.hstack((x1_new.reshape(-1, 1), v1_new.reshape(-1, 1), x2_new.reshape(-1, 1),\n",
    "                       v2_new.reshape(-1, 1)))  # returns new states, n x 8\n",
    "\n",
    "    return X_new"
   ],
   "metadata": {
    "collapsed": false,
    "pycharm": {
     "name": "#%%\n"
    }
   }
  },
  {
   "cell_type": "code",
   "execution_count": 65,
   "outputs": [],
   "source": [
    "def initial_payoff_term(x, K1, K2, Phi):\n",
    "    \"\"\"\n",
    "\n",
    "    :param x: current state\n",
    "    :param K1: current K matrix\n",
    "    :param Phi: current Phi matrix\n",
    "    :return: \"initial payoff\"\n",
    "    \"\"\"\n",
    "    p = x[..., -1].reshape(-1, 1)  # belief\n",
    "    x = x[..., 1:-1]  # state 1:-1 or 0:-1 depending on if time is included\n",
    "    x1 = x[..., :2]  # player 1's state\n",
    "    x2 = x[..., 2:]  # player 2's state\n",
    "\n",
    "    ztheta = np.concatenate((np.ones_like(p), np.zeros_like(p)), axis=1).T\n",
    "\n",
    "    term1 = p * ((x1.T - (Phi @ ztheta)).T.dot(K1) * ((x1.T - (Phi @ ztheta)).T)).sum(axis=1).reshape(-1, 1) + \\\n",
    "            (1 - p) * ((x1.T + (Phi @ ztheta)).T.dot(K1) * ((x1.T + (Phi @ ztheta)).T)).sum(axis=1).reshape(-1, 1)\n",
    "\n",
    "    # term1 = p * np.sum(K1 @ np.square(x1.T - (Phi @ ztheta)), axis=0).reshape(-1, 1) + \\\n",
    "    #         (1 - p) * np.sum(K1 @ np.square(x1.T + (Phi @ ztheta)), axis=0).reshape(-1, 1)\n",
    "\n",
    "    term2 = p * ((x2.T - (Phi @ ztheta)).T.dot(K2) * ((x2.T - (Phi @ ztheta)).T)).sum(axis=1).reshape(-1, 1) + \\\n",
    "            (1 - p) * ((x2.T + (Phi @ ztheta)).T.dot(K2) * ((x2.T + (Phi @ ztheta)).T)).sum(axis=1).reshape(-1, 1)\n",
    "\n",
    "    return term1 - term2"
   ],
   "metadata": {
    "collapsed": false,
    "pycharm": {
     "name": "#%%\n"
    }
   }
  },
  {
   "cell_type": "code",
   "execution_count": 56,
   "outputs": [],
   "source": [
    "def get_d_inst(tilde_theta, p_next, d1, d2):\n",
    "    term1 = p_next.numpy() * ((tilde_theta.numpy() - 1) ** 2) * (d1 - d2)\n",
    "    term2 = (1 - p_next.numpy()) * (tilde_theta.numpy() + 1) ** 2 * (d1 - d2)\n",
    "\n",
    "    return term1 + term2"
   ],
   "metadata": {
    "collapsed": false,
    "pycharm": {
     "name": "#%%\n"
    }
   }
  },
  {
   "cell_type": "code",
   "execution_count": 66,
   "outputs": [
    {
     "name": "stdout",
     "output_type": "stream",
     "text": [
      "SingleBVPNet(\n",
      "  (net): FCBlock(\n",
      "    (nl): ReLU(inplace=True)\n",
      "    (net_u): ModuleList(\n",
      "      (0): Sequential(\n",
      "        (0): Linear(in_features=5, out_features=128, bias=True)\n",
      "        (1): Dropout(p=0, inplace=False)\n",
      "      )\n",
      "      (1): Sequential(\n",
      "        (0): Linear(in_features=128, out_features=128, bias=True)\n",
      "        (1): Dropout(p=0, inplace=False)\n",
      "      )\n",
      "    )\n",
      "    (net_zu_u): ModuleList(\n",
      "      (0): Sequential(\n",
      "        (0): Linear(in_features=128, out_features=128, bias=True)\n",
      "        (1): Dropout(p=0, inplace=False)\n",
      "      )\n",
      "      (1): Sequential(\n",
      "        (0): Linear(in_features=128, out_features=128, bias=True)\n",
      "        (1): Dropout(p=0, inplace=False)\n",
      "      )\n",
      "    )\n",
      "    (net_z_zu): ModuleList(\n",
      "      (0): Sequential(\n",
      "        (0): Linear(in_features=128, out_features=128, bias=False)\n",
      "        (1): Dropout(p=0, inplace=False)\n",
      "      )\n",
      "      (1): Sequential(\n",
      "        (0): Linear(in_features=128, out_features=1, bias=False)\n",
      "        (1): Dropout(p=0, inplace=False)\n",
      "      )\n",
      "    )\n",
      "    (net_yu_u): ModuleList(\n",
      "      (0): Sequential(\n",
      "        (0): Linear(in_features=5, out_features=1, bias=True)\n",
      "        (1): Dropout(p=0, inplace=False)\n",
      "      )\n",
      "      (1): Sequential(\n",
      "        (0): Linear(in_features=128, out_features=1, bias=True)\n",
      "        (1): Dropout(p=0, inplace=False)\n",
      "      )\n",
      "      (2): Sequential(\n",
      "        (0): Linear(in_features=128, out_features=1, bias=True)\n",
      "        (1): Dropout(p=0, inplace=False)\n",
      "      )\n",
      "    )\n",
      "    (net_z_yu): ModuleList(\n",
      "      (0): Sequential(\n",
      "        (0): Linear(in_features=1, out_features=128, bias=False)\n",
      "        (1): Dropout(p=0, inplace=False)\n",
      "      )\n",
      "      (1): Sequential(\n",
      "        (0): Linear(in_features=1, out_features=128, bias=False)\n",
      "        (1): Dropout(p=0, inplace=False)\n",
      "      )\n",
      "      (2): Sequential(\n",
      "        (0): Linear(in_features=1, out_features=1, bias=False)\n",
      "        (1): Dropout(p=0, inplace=False)\n",
      "      )\n",
      "    )\n",
      "    (net_z_u): ModuleList(\n",
      "      (0): Sequential(\n",
      "        (0): Linear(in_features=5, out_features=128, bias=True)\n",
      "        (1): Dropout(p=0, inplace=False)\n",
      "      )\n",
      "      (1): Sequential(\n",
      "        (0): Linear(in_features=128, out_features=128, bias=True)\n",
      "        (1): Dropout(p=0, inplace=False)\n",
      "      )\n",
      "      (2): Sequential(\n",
      "        (0): Linear(in_features=128, out_features=1, bias=True)\n",
      "        (1): Dropout(p=0, inplace=False)\n",
      "      )\n",
      "    )\n",
      "  )\n",
      ")\n",
      "SingleBVPNet(\n",
      "  (net): FCBlock(\n",
      "    (nl): ReLU(inplace=True)\n",
      "    (net_u): ModuleList(\n",
      "      (0): Sequential(\n",
      "        (0): Linear(in_features=5, out_features=128, bias=True)\n",
      "        (1): Dropout(p=0, inplace=False)\n",
      "      )\n",
      "      (1): Sequential(\n",
      "        (0): Linear(in_features=128, out_features=128, bias=True)\n",
      "        (1): Dropout(p=0, inplace=False)\n",
      "      )\n",
      "    )\n",
      "    (net_zu_u): ModuleList(\n",
      "      (0): Sequential(\n",
      "        (0): Linear(in_features=128, out_features=128, bias=True)\n",
      "        (1): Dropout(p=0, inplace=False)\n",
      "      )\n",
      "      (1): Sequential(\n",
      "        (0): Linear(in_features=128, out_features=128, bias=True)\n",
      "        (1): Dropout(p=0, inplace=False)\n",
      "      )\n",
      "    )\n",
      "    (net_z_zu): ModuleList(\n",
      "      (0): Sequential(\n",
      "        (0): Linear(in_features=128, out_features=128, bias=False)\n",
      "        (1): Dropout(p=0, inplace=False)\n",
      "      )\n",
      "      (1): Sequential(\n",
      "        (0): Linear(in_features=128, out_features=1, bias=False)\n",
      "        (1): Dropout(p=0, inplace=False)\n",
      "      )\n",
      "    )\n",
      "    (net_yu_u): ModuleList(\n",
      "      (0): Sequential(\n",
      "        (0): Linear(in_features=5, out_features=1, bias=True)\n",
      "        (1): Dropout(p=0, inplace=False)\n",
      "      )\n",
      "      (1): Sequential(\n",
      "        (0): Linear(in_features=128, out_features=1, bias=True)\n",
      "        (1): Dropout(p=0, inplace=False)\n",
      "      )\n",
      "      (2): Sequential(\n",
      "        (0): Linear(in_features=128, out_features=1, bias=True)\n",
      "        (1): Dropout(p=0, inplace=False)\n",
      "      )\n",
      "    )\n",
      "    (net_z_yu): ModuleList(\n",
      "      (0): Sequential(\n",
      "        (0): Linear(in_features=1, out_features=128, bias=False)\n",
      "        (1): Dropout(p=0, inplace=False)\n",
      "      )\n",
      "      (1): Sequential(\n",
      "        (0): Linear(in_features=1, out_features=128, bias=False)\n",
      "        (1): Dropout(p=0, inplace=False)\n",
      "      )\n",
      "      (2): Sequential(\n",
      "        (0): Linear(in_features=1, out_features=1, bias=False)\n",
      "        (1): Dropout(p=0, inplace=False)\n",
      "      )\n",
      "    )\n",
      "    (net_z_u): ModuleList(\n",
      "      (0): Sequential(\n",
      "        (0): Linear(in_features=5, out_features=128, bias=True)\n",
      "        (1): Dropout(p=0, inplace=False)\n",
      "      )\n",
      "      (1): Sequential(\n",
      "        (0): Linear(in_features=128, out_features=128, bias=True)\n",
      "        (1): Dropout(p=0, inplace=False)\n",
      "      )\n",
      "      (2): Sequential(\n",
      "        (0): Linear(in_features=128, out_features=1, bias=True)\n",
      "        (1): Dropout(p=0, inplace=False)\n",
      "      )\n",
      "    )\n",
      "  )\n",
      ")\n"
     ]
    },
    {
     "data": {
      "text/plain": "SingleBVPNet(\n  (net): FCBlock(\n    (nl): ReLU(inplace=True)\n    (net_u): ModuleList(\n      (0): Sequential(\n        (0): Linear(in_features=5, out_features=128, bias=True)\n        (1): Dropout(p=0, inplace=False)\n      )\n      (1): Sequential(\n        (0): Linear(in_features=128, out_features=128, bias=True)\n        (1): Dropout(p=0, inplace=False)\n      )\n    )\n    (net_zu_u): ModuleList(\n      (0): Sequential(\n        (0): Linear(in_features=128, out_features=128, bias=True)\n        (1): Dropout(p=0, inplace=False)\n      )\n      (1): Sequential(\n        (0): Linear(in_features=128, out_features=128, bias=True)\n        (1): Dropout(p=0, inplace=False)\n      )\n    )\n    (net_z_zu): ModuleList(\n      (0): Sequential(\n        (0): Linear(in_features=128, out_features=128, bias=False)\n        (1): Dropout(p=0, inplace=False)\n      )\n      (1): Sequential(\n        (0): Linear(in_features=128, out_features=1, bias=False)\n        (1): Dropout(p=0, inplace=False)\n      )\n    )\n    (net_yu_u): ModuleList(\n      (0): Sequential(\n        (0): Linear(in_features=5, out_features=1, bias=True)\n        (1): Dropout(p=0, inplace=False)\n      )\n      (1): Sequential(\n        (0): Linear(in_features=128, out_features=1, bias=True)\n        (1): Dropout(p=0, inplace=False)\n      )\n      (2): Sequential(\n        (0): Linear(in_features=128, out_features=1, bias=True)\n        (1): Dropout(p=0, inplace=False)\n      )\n    )\n    (net_z_yu): ModuleList(\n      (0): Sequential(\n        (0): Linear(in_features=1, out_features=128, bias=False)\n        (1): Dropout(p=0, inplace=False)\n      )\n      (1): Sequential(\n        (0): Linear(in_features=1, out_features=128, bias=False)\n        (1): Dropout(p=0, inplace=False)\n      )\n      (2): Sequential(\n        (0): Linear(in_features=1, out_features=1, bias=False)\n        (1): Dropout(p=0, inplace=False)\n      )\n    )\n    (net_z_u): ModuleList(\n      (0): Sequential(\n        (0): Linear(in_features=5, out_features=128, bias=True)\n        (1): Dropout(p=0, inplace=False)\n      )\n      (1): Sequential(\n        (0): Linear(in_features=128, out_features=128, bias=True)\n        (1): Dropout(p=0, inplace=False)\n      )\n      (2): Sequential(\n        (0): Linear(in_features=128, out_features=1, bias=True)\n        (1): Dropout(p=0, inplace=False)\n      )\n    )\n  )\n)"
     },
     "execution_count": 66,
     "metadata": {},
     "output_type": "execute_result"
    }
   ],
   "source": [
    "ckpt_path = '../logs/hexner_train_R2_timestep_0.1_with_d_new/t_1/checkpoints_dir/model_final.pth'\n",
    "model_2 = '../logs/hexner_train_R2_timestep_0.1_with_d_new/t_1/checkpoints_dir/model_final.pth'\n",
    "# ckpt_path = '../logs/hexner_train_R2_timestep_0.1/t_10/checkpoints_dir/model_final.pth'\n",
    "# model_2 = '../logs/hexner_train_R2_timestep_0.1/t_9/checkpoints_dir/model_final.pth'\n",
    "activation = 'relu'\n",
    "\n",
    "model = icnn_pytorch.SingleBVPNet(in_features=6, out_features=1, type=activation, mode='mlp', hidden_features=128, num_hidden_layers=2, dropout=0)\n",
    "model2 = icnn_pytorch.SingleBVPNet(in_features=6, out_features=1, type=activation, mode='mlp', hidden_features=128, num_hidden_layers=2, dropout=0)\n",
    "\n",
    "checkpoint = torch.load(ckpt_path, map_location=torch.device(\"cpu\"))\n",
    "c2 = torch.load(model_2, map_location=torch.device(\"cpu\"))\n",
    "\n",
    "try:\n",
    "    model_weights = checkpoint['model']\n",
    "except:\n",
    "    model_weights = checkpoint\n",
    "\n",
    "try:\n",
    "    mw = c2['model']\n",
    "except:\n",
    "    mw = c2\n",
    "\n",
    "model.load_state_dict(model_weights)\n",
    "model2.load_state_dict(mw)\n",
    "model.eval()\n",
    "model2.eval()"
   ],
   "metadata": {
    "collapsed": false,
    "pycharm": {
     "name": "#%%\n"
    }
   }
  },
  {
   "cell_type": "code",
   "execution_count": 67,
   "outputs": [],
   "source": [
    "X = torch.zeros((100, 5))\n",
    "p_T = torch.linspace(0, 1, 100).reshape(-1, 1)\n",
    "\n",
    "R1 = 1\n",
    "R2 = 5\n",
    "\n",
    "K_1, Phi_1 = utils.solve_hexner(R1)\n",
    "K_2, Phi_2 = utils.solve_hexner(R2)\n",
    "d1 = utils.compute_d(Phi_1, K_1, R1)\n",
    "d2 = utils.compute_d(Phi_2, K_2, R2)\n",
    "\n",
    "X = torch.cat((X, p_T), dim=1)\n",
    "X_ini = X  # for future\n",
    "\n",
    "t_1 = 0.1\n",
    "t_step = int(t_1 * 10)\n",
    "\n",
    "X[:, 0] = t_1 # time\n",
    "X[:, 1] = 0. # x1\n",
    "X[:, 2] = 0. # v1\n",
    "X[:, 3] = 0. # x2\n",
    "X[:, 4] = 0. # v2\n",
    "X_in = {'coords': X}\n",
    "u2 = model(X_in)['model_out'].detach().cpu().numpy()\n",
    "v2 = u2 + initial_payoff_term(X_ini.detach().cpu().numpy(), K_1[-t_step], K_2[-t_step], Phi_1[-t_step])"
   ],
   "metadata": {
    "collapsed": false,
    "pycharm": {
     "name": "#%%\n"
    }
   }
  },
  {
   "cell_type": "code",
   "execution_count": 68,
   "outputs": [
    {
     "data": {
      "text/plain": "array([[-0.00024483],\n       [-0.00024483],\n       [-0.00024483],\n       [-0.00024483],\n       [-0.00024483],\n       [-0.00024483],\n       [-0.00024483],\n       [-0.00024483],\n       [-0.00024483],\n       [-0.00024483],\n       [-0.00024483],\n       [-0.00024483],\n       [-0.00024483],\n       [-0.00024483],\n       [-0.00024483],\n       [-0.00024483],\n       [-0.00024483],\n       [-0.00024483],\n       [-0.00024483],\n       [-0.00024483],\n       [-0.00024483],\n       [-0.00024483],\n       [-0.00024483],\n       [-0.00024483],\n       [-0.00024483],\n       [-0.00024483],\n       [-0.00024483],\n       [-0.00024483],\n       [-0.00024483],\n       [-0.00024483],\n       [-0.00024483],\n       [-0.00024483],\n       [-0.00024483],\n       [-0.00024483],\n       [-0.00024483],\n       [-0.00024483],\n       [-0.00024483],\n       [-0.00024483],\n       [-0.00024483],\n       [-0.00024483],\n       [-0.00024483],\n       [-0.00024483],\n       [-0.00024483],\n       [-0.00024483],\n       [-0.00024483],\n       [-0.00024483],\n       [-0.00024483],\n       [-0.00024483],\n       [-0.00024483],\n       [-0.00024483],\n       [-0.00024483],\n       [-0.00024483],\n       [-0.00024483],\n       [-0.00024483],\n       [-0.00024483],\n       [-0.00024483],\n       [-0.00024483],\n       [-0.00024483],\n       [-0.00024483],\n       [-0.00024483],\n       [-0.00024483],\n       [-0.00024483],\n       [-0.00024483],\n       [-0.00024483],\n       [-0.00024483],\n       [-0.00024483],\n       [-0.00024483],\n       [-0.00024483],\n       [-0.00024483],\n       [-0.00024483],\n       [-0.00024483],\n       [-0.00024483],\n       [-0.00024483],\n       [-0.00024483],\n       [-0.00024483],\n       [-0.00024483],\n       [-0.00024483],\n       [-0.00024483],\n       [-0.00024483],\n       [-0.00024483],\n       [-0.00024483],\n       [-0.00024483],\n       [-0.00024483],\n       [-0.00024483],\n       [-0.00024483],\n       [-0.00024483],\n       [-0.00024483],\n       [-0.00024483],\n       [-0.00024483],\n       [-0.00024483],\n       [-0.00024483],\n       [-0.00024483],\n       [-0.00024483],\n       [-0.00024483],\n       [-0.00024483],\n       [-0.00024483],\n       [-0.00024483],\n       [-0.00024483],\n       [-0.00024483],\n       [-0.00024483]])"
     },
     "execution_count": 68,
     "metadata": {},
     "output_type": "execute_result"
    }
   ],
   "source": [
    "initial_payoff_term(X_ini.detach().cpu().numpy(), K_1[-t_step], K_2[-t_step], Phi_1[-t_step])"
   ],
   "metadata": {
    "collapsed": false,
    "pycharm": {
     "name": "#%%\n"
    }
   }
  },
  {
   "cell_type": "code",
   "execution_count": 73,
   "outputs": [],
   "source": [
    "## check min max value for t = T - delta t\n",
    "delta_t = 0.1\n",
    "V1 = []\n",
    "t = t_1 - delta_t\n",
    "actions = []\n",
    "\n",
    "values = []\n",
    "inst_terms = []\n",
    "# X = torch.tensor([[t, delta_x, delta_v]], dtype=torch.float32)\n",
    "for p in torch.linspace(0, 1, 100):\n",
    "    X = torch.zeros((1, 5))\n",
    "    X[:, 1] = 0.\n",
    "    X[:, 2] = 0.\n",
    "    X[:, 3] = 0.\n",
    "    X[:, 4] = 0.\n",
    "    p_T = p.reshape(-1, 1)\n",
    "    X = torch.cat((X, p_T), dim=1)\n",
    "    # u = (2 * p_T - 1).detach().cpu().numpy()\n",
    "    p_next = p_T\n",
    "\n",
    "    if t_1 >= 0.5:\n",
    "        tilde_theta = torch.zeros_like(p_next)\n",
    "    else:\n",
    "        tilde_theta = 2 * p_next - 1  # action\n",
    "\n",
    "    inst_term = delta_t * get_d_inst(tilde_theta, p_next, d1[-t_step], d2[-t_step])\n",
    "    ztheta = np.concatenate((2 * p_T - 1, np.zeros_like(p_T)), axis=1)\n",
    "    u = utils.get_analytical_u(K_1[-t_step], R1, Phi_1[-t_step], X[:, 1:3].detach().cpu().numpy().T, ztheta.T).flatten()\n",
    "    d = utils.get_analytical_u(K_2[-t_step], R2, Phi_2[-t_step], X[:, 3:5].detach().cpu().numpy().T, ztheta.T).flatten()\n",
    "    X_new = torch.from_numpy(dynamics(X, u, d, DT=delta_t))\n",
    "    X_new = torch.cat((torch.ones(X_new.shape[0], 1), X_new), dim=1)\n",
    "    X_in = torch.cat((X_new, p_T), dim=1).to(torch.float32)\n",
    "    X_in[:, 0] = t\n",
    "    X_in = {'coords': X_in}\n",
    "    # value = model2(X_in)['model_out'].detach().cpu().numpy()\n",
    "    # value = utils.final_value(X[:, 1], X[:, 2], X[:, 3], X[:, 4], X[:, -1]).numpy()\n",
    "    if t_1 == delta_t:\n",
    "        value = inst_term #get_d_inst(tilde_theta, p_next, d1[-t_step], d2[-t_step])\n",
    "\n",
    "        values.append(value.item())\n",
    "    else:\n",
    "        value = model2(X_in)['model_out'].detach().cpu().numpy()\n",
    "\n",
    "        values.append(value.item())\n",
    "        inst_terms.append(inst_term.item())\n",
    "        value += inst_term#get_d_inst(tilde_theta, p_next, d1[-t_step], d2[-t_step])\n",
    "    # try:\n",
    "    #     minmaxV = (value + delta_t * get_running_payoff(u, d, R1, R2))[0][0]\n",
    "    # except:\n",
    "    #     minmaxV = (value + delta_t * get_running_payoff(u, d, R1, R2))[0]\n",
    "    try:\n",
    "        V1.append(value.item())\n",
    "    except:\n",
    "        V1.append(value)\n",
    "    # V1.append(np.min(np.max(minmaxV, 1)))"
   ],
   "metadata": {
    "collapsed": false,
    "pycharm": {
     "name": "#%%\n"
    }
   }
  },
  {
   "cell_type": "code",
   "execution_count": 74,
   "outputs": [],
   "source": [
    "p = p_T.numpy()\n",
    "points = zip(V1, p)\n",
    "from utils import cav_vex"
   ],
   "metadata": {
    "collapsed": false,
    "pycharm": {
     "name": "#%%\n"
    }
   }
  },
  {
   "cell_type": "code",
   "execution_count": 75,
   "outputs": [],
   "source": [
    "ps = np.linspace(0, 1, 100)\n",
    "vex = []\n",
    "for p in ps:\n",
    "    vex.append(cav_vex(V1, p, type='vex', num_ps=100))\n",
    "\n",
    "gt = vex + initial_payoff_term(X_ini.detach().cpu().numpy(), K_1[-t_step], K_2[-t_step], Phi_1[-t_step]).flatten()"
   ],
   "metadata": {
    "collapsed": false,
    "pycharm": {
     "name": "#%%\n"
    }
   }
  },
  {
   "cell_type": "code",
   "execution_count": 77,
   "outputs": [],
   "source": [
    "minimax_plus_initial = V1 + initial_payoff_term(X_ini.detach().cpu().numpy(), K_1[-t_step], K_2[-t_step], Phi_1[-t_step]).flatten()"
   ],
   "metadata": {
    "collapsed": false,
    "pycharm": {
     "name": "#%%\n"
    }
   }
  },
  {
   "cell_type": "code",
   "execution_count": 86,
   "outputs": [
    {
     "data": {
      "text/plain": "<Figure size 576x432 with 1 Axes>",
      "image/png": "[encoded data removed]"
     },
     "metadata": {
      "needs_background": "light"
     },
     "output_type": "display_data"
    }
   ],
   "source": [
    "plt.plot(np.linspace(0, 1, 100), V1, label=f'$\\min \\max U(t={1 - t:.2f})$')\n",
    "plt.plot(np.linspace(0, 1, 100), v2, '-.', label=f'$V(t={1-(t+delta_t):.2f})$')\n",
    "plt.plot(np.linspace(0, 1, 100), vex, label='vex')\n",
    "plt.plot(np.linspace(0, 1, 100), gt.reshape(-1, 1), label='ground truth')\n",
    "plt.plot(np.linspace(0, 1, 100), u2.reshape(-1, 1), label=f'$U(t={1-(t+delta_t):.2f})$')\n",
    "\n",
    "plt.plot(np.linspace(0, 1, 100), minimax_plus_initial.reshape(-1, 1), label='minimax + initial')\n",
    "\n",
    "plt.scatter(x=0.5, y=minimax_plus_initial[49], label=str(minimax_plus_initial[49]))\n",
    "plt.title('Value vs belief Forward Time')\n",
    "plt.xlabel('p')\n",
    "plt.ylabel('V')\n",
    "plt.legend()\n",
    "# plt.ylim([-0.005, 0.005])\n",
    "plt.rcParams['figure.figsize'] = (8, 6)"
   ],
   "metadata": {
    "collapsed": false,
    "pycharm": {
     "name": "#%%\n"
    }
   }
  },
  {
   "cell_type": "code",
   "execution_count": 81,
   "outputs": [
    {
     "data": {
      "text/plain": "-0.00021042136519981516"
     },
     "execution_count": 81,
     "metadata": {},
     "output_type": "execute_result"
    }
   ],
   "source": [
    "minimax_plus_initial[49]"
   ],
   "metadata": {
    "collapsed": false,
    "pycharm": {
     "name": "#%%\n"
    }
   }
  },
  {
   "cell_type": "code",
   "execution_count": 52,
   "outputs": [
    {
     "data": {
      "text/plain": "[<matplotlib.lines.Line2D at 0x289fb6e80>]"
     },
     "execution_count": 52,
     "metadata": {},
     "output_type": "execute_result"
    },
    {
     "data": {
      "text/plain": "<Figure size 576x432 with 1 Axes>",
      "image/png": "[encoded data removed]"
     },
     "metadata": {
      "needs_background": "light"
     },
     "output_type": "display_data"
    }
   ],
   "source": [
    "plt.plot(initial_payoff_term(X_ini.detach().cpu().numpy(), K_1[-t_step], K_2[-t_step], Phi_1[-t_step]).flatten())\n",
    "plt.plot(V1)"
   ],
   "metadata": {
    "collapsed": false,
    "pycharm": {
     "name": "#%%\n"
    }
   }
  },
  {
   "cell_type": "code",
   "execution_count": 15,
   "outputs": [],
   "source": [
    "up = 0.5\n",
    "states = [up]\n",
    "for _ in range(1):  # change to 9 for 10 timesteps\n",
    "    states.append((states[-1] - 0.005) / 1.1)"
   ],
   "metadata": {
    "collapsed": false,
    "pycharm": {
     "name": "#%%\n"
    }
   }
  },
  {
   "cell_type": "code",
   "execution_count": 16,
   "outputs": [
    {
     "data": {
      "text/plain": "[0.5, 0.44999999999999996]"
     },
     "execution_count": 16,
     "metadata": {},
     "output_type": "execute_result"
    }
   ],
   "source": [
    "states"
   ],
   "metadata": {
    "collapsed": false,
    "pycharm": {
     "name": "#%%\n"
    }
   }
  },
  {
   "cell_type": "code",
   "execution_count": 17,
   "outputs": [],
   "source": [
    "t_step = int(0.5 * 100) // 2"
   ],
   "metadata": {
    "collapsed": false,
    "pycharm": {
     "name": "#%%\n"
    }
   }
  },
  {
   "cell_type": "code",
   "execution_count": 18,
   "outputs": [
    {
     "data": {
      "text/plain": "25"
     },
     "execution_count": 18,
     "metadata": {},
     "output_type": "execute_result"
    }
   ],
   "source": [
    "t_step"
   ],
   "metadata": {
    "collapsed": false,
    "pycharm": {
     "name": "#%%\n"
    }
   }
  },
  {
   "cell_type": "code",
   "execution_count": 575,
   "outputs": [
    {
     "data": {
      "text/plain": "array([0. , 0.5, 1. ])"
     },
     "execution_count": 575,
     "metadata": {},
     "output_type": "execute_result"
    }
   ],
   "source": [
    "np.linspace(0, 1, 3)"
   ],
   "metadata": {
    "collapsed": false,
    "pycharm": {
     "name": "#%%\n"
    }
   }
  },
  {
   "cell_type": "code",
   "execution_count": 503,
   "outputs": [
    {
     "data": {
      "text/plain": "array([0. , 0.2, 0.4, 0.6, 0.8, 1. ])"
     },
     "execution_count": 503,
     "metadata": {},
     "output_type": "execute_result"
    }
   ],
   "source": [
    "np.linspace(0, 1, 6)"
   ],
   "metadata": {
    "collapsed": false,
    "pycharm": {
     "name": "#%%\n"
    }
   }
  },
  {
   "cell_type": "code",
   "execution_count": 593,
   "outputs": [],
   "source": [
    "t = np.arange(0.05, 1.05, 0.05)"
   ],
   "metadata": {
    "collapsed": false,
    "pycharm": {
     "name": "#%%\n"
    }
   }
  },
  {
   "cell_type": "code",
   "execution_count": 657,
   "outputs": [
    {
     "data": {
      "text/plain": "1"
     },
     "execution_count": 657,
     "metadata": {},
     "output_type": "execute_result"
    }
   ],
   "source": [
    "t_step = int(np.where(t == 0.05)[0] + 1)\n",
    "t_step"
   ],
   "metadata": {
    "collapsed": false,
    "pycharm": {
     "name": "#%%\n"
    }
   }
  },
  {
   "cell_type": "code",
   "execution_count": 698,
   "outputs": [],
   "source": [
    "up = 0.5\n",
    "states = [up]\n",
    "for _ in range(9):  # change to 9 for 10 timesteps\n",
    "    states.append((states[-1] - 0.005) / 1.1)"
   ],
   "metadata": {
    "collapsed": false,
    "pycharm": {
     "name": "#%%\n"
    }
   }
  },
  {
   "cell_type": "code",
   "execution_count": 699,
   "outputs": [
    {
     "data": {
      "text/plain": "[0.5,\n 0.44999999999999996,\n 0.4045454545454545,\n 0.3632231404958677,\n 0.3256574004507888,\n 0.2915067276825352,\n 0.2604606615295774,\n 0.23223696502688854,\n 0.20657905911535318,\n 0.1832536901048665]"
     },
     "execution_count": 699,
     "metadata": {},
     "output_type": "execute_result"
    }
   ],
   "source": [
    "states"
   ],
   "metadata": {
    "collapsed": false,
    "pycharm": {
     "name": "#%%\n"
    }
   }
  },
  {
   "cell_type": "code",
   "execution_count": null,
   "outputs": [],
   "source": [],
   "metadata": {
    "collapsed": false,
    "pycharm": {
     "name": "#%%\n"
    }
   }
  }
 ],
 "metadata": {
  "kernelspec": {
   "display_name": "Python 3",
   "language": "python",
   "name": "python3"
  },
  "language_info": {
   "codemirror_mode": {
    "name": "ipython",
    "version": 2
   },
   "file_extension": ".py",
   "mimetype": "text/x-python",
   "name": "python",
   "nbconvert_exporter": "python",
   "pygments_lexer": "ipython2",
   "version": "2.7.6"
  }
 },
 "nbformat": 4,
 "nbformat_minor": 0
}