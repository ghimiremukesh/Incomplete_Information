{
 "cells": [
  {
   "cell_type": "code",
   "execution_count": 1,
   "metadata": {},
   "outputs": [],
   "source": [
    "import torch\n",
    "import numpy as np\n",
    "import matplotlib.pyplot as plt\n",
    "\n",
    "import sys\n",
    "import os\n",
    "\n",
    "sys.path.append('../')\n",
    "import dataio, utils, icnn_pytorch_adaptive as icnn_pytorch, modules"
   ]
  },
  {
   "cell_type": "code",
   "execution_count": 18,
   "metadata": {
    "pycharm": {
     "name": "#%%\n"
    }
   },
   "outputs": [
    {
     "name": "stdout",
     "output_type": "stream",
     "text": [
      "SingleBVPNet(\n",
      "  (net): FCBlock(\n",
      "    (nl): ReLU(inplace=True)\n",
      "    (net_u): ModuleList(\n",
      "      (0): Sequential(\n",
      "        (0): Linear(in_features=5, out_features=128, bias=True)\n",
      "        (1): Dropout(p=0, inplace=False)\n",
      "      )\n",
      "      (1): Sequential(\n",
      "        (0): Linear(in_features=128, out_features=128, bias=True)\n",
      "        (1): Dropout(p=0, inplace=False)\n",
      "      )\n",
      "    )\n",
      "    (net_zu_u): ModuleList(\n",
      "      (0): Sequential(\n",
      "        (0): Linear(in_features=128, out_features=128, bias=True)\n",
      "        (1): Dropout(p=0, inplace=False)\n",
      "      )\n",
      "      (1): Sequential(\n",
      "        (0): Linear(in_features=128, out_features=128, bias=True)\n",
      "        (1): Dropout(p=0, inplace=False)\n",
      "      )\n",
      "    )\n",
      "    (net_z_zu): ModuleList(\n",
      "      (0): Sequential(\n",
      "        (0): Linear(in_features=128, out_features=128, bias=False)\n",
      "        (1): Dropout(p=0, inplace=False)\n",
      "      )\n",
      "      (1): Sequential(\n",
      "        (0): Linear(in_features=128, out_features=1, bias=False)\n",
      "        (1): Dropout(p=0, inplace=False)\n",
      "      )\n",
      "    )\n",
      "    (net_yu_u): ModuleList(\n",
      "      (0): Sequential(\n",
      "        (0): Linear(in_features=5, out_features=1, bias=True)\n",
      "        (1): Dropout(p=0, inplace=False)\n",
      "      )\n",
      "      (1): Sequential(\n",
      "        (0): Linear(in_features=128, out_features=1, bias=True)\n",
      "        (1): Dropout(p=0, inplace=False)\n",
      "      )\n",
      "      (2): Sequential(\n",
      "        (0): Linear(in_features=128, out_features=1, bias=True)\n",
      "        (1): Dropout(p=0, inplace=False)\n",
      "      )\n",
      "    )\n",
      "    (net_z_yu): ModuleList(\n",
      "      (0): Sequential(\n",
      "        (0): Linear(in_features=1, out_features=128, bias=False)\n",
      "        (1): Dropout(p=0, inplace=False)\n",
      "      )\n",
      "      (1): Sequential(\n",
      "        (0): Linear(in_features=1, out_features=128, bias=False)\n",
      "        (1): Dropout(p=0, inplace=False)\n",
      "      )\n",
      "      (2): Sequential(\n",
      "        (0): Linear(in_features=1, out_features=1, bias=False)\n",
      "        (1): Dropout(p=0, inplace=False)\n",
      "      )\n",
      "    )\n",
      "    (net_z_u): ModuleList(\n",
      "      (0): Sequential(\n",
      "        (0): Linear(in_features=5, out_features=128, bias=True)\n",
      "        (1): Dropout(p=0, inplace=False)\n",
      "      )\n",
      "      (1): Sequential(\n",
      "        (0): Linear(in_features=128, out_features=128, bias=True)\n",
      "        (1): Dropout(p=0, inplace=False)\n",
      "      )\n",
      "      (2): Sequential(\n",
      "        (0): Linear(in_features=128, out_features=1, bias=True)\n",
      "        (1): Dropout(p=0, inplace=False)\n",
      "      )\n",
      "    )\n",
      "  )\n",
      ")\n",
      "SingleBVPNet(\n",
      "  (net): FCBlock(\n",
      "    (nl): ReLU(inplace=True)\n",
      "    (net_u): ModuleList(\n",
      "      (0): Sequential(\n",
      "        (0): Linear(in_features=5, out_features=128, bias=True)\n",
      "        (1): Dropout(p=0, inplace=False)\n",
      "      )\n",
      "      (1): Sequential(\n",
      "        (0): Linear(in_features=128, out_features=128, bias=True)\n",
      "        (1): Dropout(p=0, inplace=False)\n",
      "      )\n",
      "    )\n",
      "    (net_zu_u): ModuleList(\n",
      "      (0): Sequential(\n",
      "        (0): Linear(in_features=128, out_features=128, bias=True)\n",
      "        (1): Dropout(p=0, inplace=False)\n",
      "      )\n",
      "      (1): Sequential(\n",
      "        (0): Linear(in_features=128, out_features=128, bias=True)\n",
      "        (1): Dropout(p=0, inplace=False)\n",
      "      )\n",
      "    )\n",
      "    (net_z_zu): ModuleList(\n",
      "      (0): Sequential(\n",
      "        (0): Linear(in_features=128, out_features=128, bias=False)\n",
      "        (1): Dropout(p=0, inplace=False)\n",
      "      )\n",
      "      (1): Sequential(\n",
      "        (0): Linear(in_features=128, out_features=1, bias=False)\n",
      "        (1): Dropout(p=0, inplace=False)\n",
      "      )\n",
      "    )\n",
      "    (net_yu_u): ModuleList(\n",
      "      (0): Sequential(\n",
      "        (0): Linear(in_features=5, out_features=1, bias=True)\n",
      "        (1): Dropout(p=0, inplace=False)\n",
      "      )\n",
      "      (1): Sequential(\n",
      "        (0): Linear(in_features=128, out_features=1, bias=True)\n",
      "        (1): Dropout(p=0, inplace=False)\n",
      "      )\n",
      "      (2): Sequential(\n",
      "        (0): Linear(in_features=128, out_features=1, bias=True)\n",
      "        (1): Dropout(p=0, inplace=False)\n",
      "      )\n",
      "    )\n",
      "    (net_z_yu): ModuleList(\n",
      "      (0): Sequential(\n",
      "        (0): Linear(in_features=1, out_features=128, bias=False)\n",
      "        (1): Dropout(p=0, inplace=False)\n",
      "      )\n",
      "      (1): Sequential(\n",
      "        (0): Linear(in_features=1, out_features=128, bias=False)\n",
      "        (1): Dropout(p=0, inplace=False)\n",
      "      )\n",
      "      (2): Sequential(\n",
      "        (0): Linear(in_features=1, out_features=1, bias=False)\n",
      "        (1): Dropout(p=0, inplace=False)\n",
      "      )\n",
      "    )\n",
      "    (net_z_u): ModuleList(\n",
      "      (0): Sequential(\n",
      "        (0): Linear(in_features=5, out_features=128, bias=True)\n",
      "        (1): Dropout(p=0, inplace=False)\n",
      "      )\n",
      "      (1): Sequential(\n",
      "        (0): Linear(in_features=128, out_features=128, bias=True)\n",
      "        (1): Dropout(p=0, inplace=False)\n",
      "      )\n",
      "      (2): Sequential(\n",
      "        (0): Linear(in_features=128, out_features=1, bias=True)\n",
      "        (1): Dropout(p=0, inplace=False)\n",
      "      )\n",
      "    )\n",
      "  )\n",
      ")\n"
     ]
    },
    {
     "data": {
      "text/plain": "SingleBVPNet(\n  (net): FCBlock(\n    (nl): ReLU(inplace=True)\n    (net_u): ModuleList(\n      (0): Sequential(\n        (0): Linear(in_features=5, out_features=128, bias=True)\n        (1): Dropout(p=0, inplace=False)\n      )\n      (1): Sequential(\n        (0): Linear(in_features=128, out_features=128, bias=True)\n        (1): Dropout(p=0, inplace=False)\n      )\n    )\n    (net_zu_u): ModuleList(\n      (0): Sequential(\n        (0): Linear(in_features=128, out_features=128, bias=True)\n        (1): Dropout(p=0, inplace=False)\n      )\n      (1): Sequential(\n        (0): Linear(in_features=128, out_features=128, bias=True)\n        (1): Dropout(p=0, inplace=False)\n      )\n    )\n    (net_z_zu): ModuleList(\n      (0): Sequential(\n        (0): Linear(in_features=128, out_features=128, bias=False)\n        (1): Dropout(p=0, inplace=False)\n      )\n      (1): Sequential(\n        (0): Linear(in_features=128, out_features=1, bias=False)\n        (1): Dropout(p=0, inplace=False)\n      )\n    )\n    (net_yu_u): ModuleList(\n      (0): Sequential(\n        (0): Linear(in_features=5, out_features=1, bias=True)\n        (1): Dropout(p=0, inplace=False)\n      )\n      (1): Sequential(\n        (0): Linear(in_features=128, out_features=1, bias=True)\n        (1): Dropout(p=0, inplace=False)\n      )\n      (2): Sequential(\n        (0): Linear(in_features=128, out_features=1, bias=True)\n        (1): Dropout(p=0, inplace=False)\n      )\n    )\n    (net_z_yu): ModuleList(\n      (0): Sequential(\n        (0): Linear(in_features=1, out_features=128, bias=False)\n        (1): Dropout(p=0, inplace=False)\n      )\n      (1): Sequential(\n        (0): Linear(in_features=1, out_features=128, bias=False)\n        (1): Dropout(p=0, inplace=False)\n      )\n      (2): Sequential(\n        (0): Linear(in_features=1, out_features=1, bias=False)\n        (1): Dropout(p=0, inplace=False)\n      )\n    )\n    (net_z_u): ModuleList(\n      (0): Sequential(\n        (0): Linear(in_features=5, out_features=128, bias=True)\n        (1): Dropout(p=0, inplace=False)\n      )\n      (1): Sequential(\n        (0): Linear(in_features=128, out_features=128, bias=True)\n        (1): Dropout(p=0, inplace=False)\n      )\n      (2): Sequential(\n        (0): Linear(in_features=128, out_features=1, bias=True)\n        (1): Dropout(p=0, inplace=False)\n      )\n    )\n  )\n)"
     },
     "execution_count": 18,
     "metadata": {},
     "output_type": "execute_result"
    }
   ],
   "source": [
    "# ckpt_path = '../experiment_scripts/logs/train_new_case_funnel_grad/t_10/checkpoints_dir/model_final.pth'\n",
    "# model_2 = '../experiment_scripts/logs/train_new_case_funnel_adaptive_scale/t_9/checkpoints_dir/model_final.pth'\n",
    "#\n",
    "ckpt_path = '../logs/train_new_case_follow_zero_shallow/t_10/checkpoints_dir/model_final.pth'\n",
    "model_2 = '../logs/train_new_case_follow_zero_shallow/t_9/checkpoints_dir/model_final.pth'\n",
    "\n",
    "# ckpt_path = '../logs/train_new_case_funnel_scale/t_10/checkpoints_dir/model_final.pth'\n",
    "# model_2 = '../logs/train_new_case_funnel_scale/t_9/checkpoints_dir/model_final.pth'\n",
    "\n",
    "activation = 'relu'\n",
    "\n",
    "model = icnn_pytorch.SingleBVPNet(in_features=6, out_features=1, type=activation, mode='mlp', hidden_features=128, num_hidden_layers=2, dropout=0)\n",
    "# model = modules.SingleBVPNet(in_features=3, out_features=1, type=activation, mode='mlp', hidden_features=32, num_hidden_layers=3, dropout=0)\n",
    "model2 = icnn_pytorch.SingleBVPNet(in_features=6, out_features=1, type=activation, mode='mlp', hidden_features=128, num_hidden_layers=2, dropout=0)\n",
    "\n",
    "checkpoint = torch.load(ckpt_path, map_location=torch.device(\"cpu\"))\n",
    "c2 = torch.load(model_2, map_location=torch.device(\"cpu\"))\n",
    "\n",
    "try:\n",
    "    model_weights = checkpoint['model']\n",
    "except:\n",
    "    model_weights = checkpoint\n",
    "\n",
    "try:\n",
    "    mw = c2['model']\n",
    "except:\n",
    "    mw = c2\n",
    "\n",
    "model.load_state_dict(model_weights)\n",
    "model2.load_state_dict(mw)\n",
    "model.eval()\n",
    "model2.eval()"
   ]
  },
  {
   "cell_type": "code",
   "execution_count": 25,
   "metadata": {
    "pycharm": {
     "name": "#%%\n"
    }
   },
   "outputs": [],
   "source": [
    "## check min max value for t = T - delta t\n",
    "delta_t = 0.1\n",
    "V1 = []\n",
    "t = 0.9\n",
    "actions = []\n",
    "values = []\n",
    "# X = torch.tensor([[t, delta_x, delta_v]], dtype=torch.float32)\n",
    "for p in torch.linspace(0, 1, 100):\n",
    "    X = torch.zeros((1, 5))\n",
    "    X[:, 1] = 0.1\n",
    "    X[:, 2] = 0.\n",
    "    X[:, 3] = 0.1\n",
    "    X[:, 4] = 0.\n",
    "    p_T = torch.linspace(0, 1, 9).reshape(-1, 1)\n",
    "    p_T[:, ] = p\n",
    "    # X[:, 1] = delta_x\n",
    "    # X[:, 2] = delta_v\n",
    "    # X_new = torch.from_numpy(utils.dynamics_4d(X, 1, 0.8, DT=delta_t))\n",
    "    X_new = torch.from_numpy(utils.dynamics_4d_follow_zero(X, 1, 1, DT=delta_t))\n",
    "    X_new = torch.cat((torch.ones(X_new.shape[0], 1), X_new), dim=1)\n",
    "    X_new = np.array([utils.make_payoff_zero(X_new[0, :], X_new[1, :], X_new[2, :])]).reshape(-1, 5)\n",
    "    X_new = torch.from_numpy(X_new.astype(np.float32))\n",
    "    X = torch.cat((X_new, p_T), dim=1)\n",
    "    X[:, 0] = t\n",
    "    X_in = {'coords': X}\n",
    "    value = model2(X_in)['model_out'].detach().cpu().numpy()\n",
    "    # value = utils.final_value_minmax((X[:, 1] - X[:, 3]), X[:, -1]).numpy()\n",
    "    values.append(value)\n",
    "    minmaxV = value.reshape(3, 3)\n",
    "\n",
    "    a_idx = np.argmin(np.max(minmaxV, axis=1))\n",
    "    d_idx = np.argmax(np.min(minmaxV, axis=0))\n",
    "\n",
    "\n",
    "    V1.append(np.min(np.max(minmaxV, 1)))\n",
    "    a_choices = [-1, 0, 1]\n",
    "    actions.append(a_choices[a_idx])"
   ]
  },
  {
   "cell_type": "code",
   "execution_count": 26,
   "metadata": {
    "pycharm": {
     "name": "#%%\n"
    }
   },
   "outputs": [],
   "source": [
    "X = torch.zeros((100, 5))\n",
    "p_T = torch.linspace(0, 1, 100).reshape(-1, 1)\n",
    "\n",
    "X = torch.cat((X, p_T), dim=1)\n",
    "\n",
    "\n",
    "# also plot value at next time step\n",
    "X[:, 0] = 1\n",
    "X[:, 1] = 0.1\n",
    "X[:, 2] = 0.\n",
    "X[:, 3] = 0.1\n",
    "X[:, 4] = 0.\n",
    "X_in = {'coords': X}\n",
    "v2 = model(X_in)['model_out'].detach().cpu().numpy()"
   ]
  },
  {
   "cell_type": "code",
   "execution_count": 27,
   "metadata": {
    "pycharm": {
     "name": "#%%\n"
    }
   },
   "outputs": [],
   "source": [
    "from itertools import product"
   ]
  },
  {
   "cell_type": "code",
   "execution_count": 28,
   "metadata": {
    "pycharm": {
     "name": "#%%\n"
    }
   },
   "outputs": [],
   "source": [
    "p = p_T.numpy()\n",
    "points = zip(V1, p)\n",
    "from utils import cav_vex"
   ]
  },
  {
   "cell_type": "code",
   "execution_count": 29,
   "metadata": {
    "pycharm": {
     "name": "#%%\n"
    }
   },
   "outputs": [],
   "source": [
    "ps = np.linspace(0, 1, 100)\n",
    "vex = []\n",
    "for p in ps:\n",
    "    vex.append(cav_vex(V1, p, type='vex', num_ps=100))"
   ]
  },
  {
   "cell_type": "code",
   "execution_count": 30,
   "metadata": {
    "pycharm": {
     "name": "#%%\n"
    }
   },
   "outputs": [
    {
     "data": {
      "text/plain": "<Figure size 576x432 with 1 Axes>",
      "image/png": "[encoded data removed]"
     },
     "metadata": {
      "needs_background": "light"
     },
     "output_type": "display_data"
    }
   ],
   "source": [
    "plt.plot(np.linspace(0, 1, 100), V1, label=f'$\\min \\max V(t={1 - t:.1f})$')\n",
    "plt.plot(np.linspace(0, 1, 100), v2, '-.', label=f'$V(t={1-t-0.1:.1f})$')\n",
    "plt.plot(np.linspace(0, 1, 100), vex, label='vex')\n",
    "plt.title('Value vs belief Forward Time')\n",
    "plt.xlabel('p')\n",
    "plt.ylabel('V')\n",
    "plt.legend()\n",
    "# plt.ylim([-2, 0])\n",
    "plt.rcParams['figure.figsize'] = (8, 6)"
   ]
  },
  {
   "cell_type": "markdown",
   "metadata": {
    "pycharm": {
     "name": "#%% md\n"
    }
   },
   "source": [
    "TEST FOR LAST TWO TIMESTEPS"
   ]
  },
  {
   "cell_type": "code",
   "execution_count": 11,
   "metadata": {
    "pycharm": {
     "name": "#%%\n"
    }
   },
   "outputs": [
    {
     "name": "stdout",
     "output_type": "stream",
     "text": [
      "SingleBVPNet(\n",
      "  (net): FCBlock(\n",
      "    (nl): ReLU(inplace=True)\n",
      "    (net_u): ModuleList(\n",
      "      (0): Sequential(\n",
      "        (0): Linear(in_features=5, out_features=64, bias=True)\n",
      "        (1): Dropout(p=0, inplace=False)\n",
      "      )\n",
      "      (1): Sequential(\n",
      "        (0): Linear(in_features=64, out_features=64, bias=True)\n",
      "        (1): Dropout(p=0, inplace=False)\n",
      "      )\n",
      "      (2): Sequential(\n",
      "        (0): Linear(in_features=64, out_features=64, bias=True)\n",
      "        (1): Dropout(p=0, inplace=False)\n",
      "      )\n",
      "    )\n",
      "    (net_zu_u): ModuleList(\n",
      "      (0): Sequential(\n",
      "        (0): Linear(in_features=64, out_features=64, bias=True)\n",
      "        (1): Dropout(p=0, inplace=False)\n",
      "      )\n",
      "      (1): Sequential(\n",
      "        (0): Linear(in_features=64, out_features=64, bias=True)\n",
      "        (1): Dropout(p=0, inplace=False)\n",
      "      )\n",
      "      (2): Sequential(\n",
      "        (0): Linear(in_features=64, out_features=64, bias=True)\n",
      "        (1): Dropout(p=0, inplace=False)\n",
      "      )\n",
      "    )\n",
      "    (net_z_zu): ModuleList(\n",
      "      (0): Sequential(\n",
      "        (0): Linear(in_features=64, out_features=64, bias=False)\n",
      "        (1): Dropout(p=0, inplace=False)\n",
      "      )\n",
      "      (1): Sequential(\n",
      "        (0): Linear(in_features=64, out_features=64, bias=False)\n",
      "        (1): Dropout(p=0, inplace=False)\n",
      "      )\n",
      "      (2): Sequential(\n",
      "        (0): Linear(in_features=64, out_features=1, bias=False)\n",
      "        (1): Dropout(p=0, inplace=False)\n",
      "      )\n",
      "    )\n",
      "    (net_yu_u): ModuleList(\n",
      "      (0): Sequential(\n",
      "        (0): Linear(in_features=5, out_features=1, bias=True)\n",
      "        (1): Dropout(p=0, inplace=False)\n",
      "      )\n",
      "      (1): Sequential(\n",
      "        (0): Linear(in_features=64, out_features=1, bias=True)\n",
      "        (1): Dropout(p=0, inplace=False)\n",
      "      )\n",
      "      (2): Sequential(\n",
      "        (0): Linear(in_features=64, out_features=1, bias=True)\n",
      "        (1): Dropout(p=0, inplace=False)\n",
      "      )\n",
      "      (3): Sequential(\n",
      "        (0): Linear(in_features=64, out_features=1, bias=True)\n",
      "        (1): Dropout(p=0, inplace=False)\n",
      "      )\n",
      "    )\n",
      "    (net_z_yu): ModuleList(\n",
      "      (0): Sequential(\n",
      "        (0): Linear(in_features=1, out_features=64, bias=False)\n",
      "        (1): Dropout(p=0, inplace=False)\n",
      "      )\n",
      "      (1): Sequential(\n",
      "        (0): Linear(in_features=1, out_features=64, bias=False)\n",
      "        (1): Dropout(p=0, inplace=False)\n",
      "      )\n",
      "      (2): Sequential(\n",
      "        (0): Linear(in_features=1, out_features=64, bias=False)\n",
      "        (1): Dropout(p=0, inplace=False)\n",
      "      )\n",
      "      (3): Sequential(\n",
      "        (0): Linear(in_features=1, out_features=1, bias=False)\n",
      "        (1): Dropout(p=0, inplace=False)\n",
      "      )\n",
      "    )\n",
      "    (net_z_u): ModuleList(\n",
      "      (0): Sequential(\n",
      "        (0): Linear(in_features=5, out_features=64, bias=True)\n",
      "        (1): Dropout(p=0, inplace=False)\n",
      "      )\n",
      "      (1): Sequential(\n",
      "        (0): Linear(in_features=64, out_features=64, bias=True)\n",
      "        (1): Dropout(p=0, inplace=False)\n",
      "      )\n",
      "      (2): Sequential(\n",
      "        (0): Linear(in_features=64, out_features=64, bias=True)\n",
      "        (1): Dropout(p=0, inplace=False)\n",
      "      )\n",
      "      (3): Sequential(\n",
      "        (0): Linear(in_features=64, out_features=1, bias=True)\n",
      "        (1): Dropout(p=0, inplace=False)\n",
      "      )\n",
      "    )\n",
      "  )\n",
      ")\n",
      "SingleBVPNet(\n",
      "  (net): FCBlock(\n",
      "    (nl): ReLU(inplace=True)\n",
      "    (net_u): ModuleList(\n",
      "      (0): Sequential(\n",
      "        (0): Linear(in_features=5, out_features=64, bias=True)\n",
      "        (1): Dropout(p=0, inplace=False)\n",
      "      )\n",
      "      (1): Sequential(\n",
      "        (0): Linear(in_features=64, out_features=64, bias=True)\n",
      "        (1): Dropout(p=0, inplace=False)\n",
      "      )\n",
      "      (2): Sequential(\n",
      "        (0): Linear(in_features=64, out_features=64, bias=True)\n",
      "        (1): Dropout(p=0, inplace=False)\n",
      "      )\n",
      "    )\n",
      "    (net_zu_u): ModuleList(\n",
      "      (0): Sequential(\n",
      "        (0): Linear(in_features=64, out_features=64, bias=True)\n",
      "        (1): Dropout(p=0, inplace=False)\n",
      "      )\n",
      "      (1): Sequential(\n",
      "        (0): Linear(in_features=64, out_features=64, bias=True)\n",
      "        (1): Dropout(p=0, inplace=False)\n",
      "      )\n",
      "      (2): Sequential(\n",
      "        (0): Linear(in_features=64, out_features=64, bias=True)\n",
      "        (1): Dropout(p=0, inplace=False)\n",
      "      )\n",
      "    )\n",
      "    (net_z_zu): ModuleList(\n",
      "      (0): Sequential(\n",
      "        (0): Linear(in_features=64, out_features=64, bias=False)\n",
      "        (1): Dropout(p=0, inplace=False)\n",
      "      )\n",
      "      (1): Sequential(\n",
      "        (0): Linear(in_features=64, out_features=64, bias=False)\n",
      "        (1): Dropout(p=0, inplace=False)\n",
      "      )\n",
      "      (2): Sequential(\n",
      "        (0): Linear(in_features=64, out_features=1, bias=False)\n",
      "        (1): Dropout(p=0, inplace=False)\n",
      "      )\n",
      "    )\n",
      "    (net_yu_u): ModuleList(\n",
      "      (0): Sequential(\n",
      "        (0): Linear(in_features=5, out_features=1, bias=True)\n",
      "        (1): Dropout(p=0, inplace=False)\n",
      "      )\n",
      "      (1): Sequential(\n",
      "        (0): Linear(in_features=64, out_features=1, bias=True)\n",
      "        (1): Dropout(p=0, inplace=False)\n",
      "      )\n",
      "      (2): Sequential(\n",
      "        (0): Linear(in_features=64, out_features=1, bias=True)\n",
      "        (1): Dropout(p=0, inplace=False)\n",
      "      )\n",
      "      (3): Sequential(\n",
      "        (0): Linear(in_features=64, out_features=1, bias=True)\n",
      "        (1): Dropout(p=0, inplace=False)\n",
      "      )\n",
      "    )\n",
      "    (net_z_yu): ModuleList(\n",
      "      (0): Sequential(\n",
      "        (0): Linear(in_features=1, out_features=64, bias=False)\n",
      "        (1): Dropout(p=0, inplace=False)\n",
      "      )\n",
      "      (1): Sequential(\n",
      "        (0): Linear(in_features=1, out_features=64, bias=False)\n",
      "        (1): Dropout(p=0, inplace=False)\n",
      "      )\n",
      "      (2): Sequential(\n",
      "        (0): Linear(in_features=1, out_features=64, bias=False)\n",
      "        (1): Dropout(p=0, inplace=False)\n",
      "      )\n",
      "      (3): Sequential(\n",
      "        (0): Linear(in_features=1, out_features=1, bias=False)\n",
      "        (1): Dropout(p=0, inplace=False)\n",
      "      )\n",
      "    )\n",
      "    (net_z_u): ModuleList(\n",
      "      (0): Sequential(\n",
      "        (0): Linear(in_features=5, out_features=64, bias=True)\n",
      "        (1): Dropout(p=0, inplace=False)\n",
      "      )\n",
      "      (1): Sequential(\n",
      "        (0): Linear(in_features=64, out_features=64, bias=True)\n",
      "        (1): Dropout(p=0, inplace=False)\n",
      "      )\n",
      "      (2): Sequential(\n",
      "        (0): Linear(in_features=64, out_features=64, bias=True)\n",
      "        (1): Dropout(p=0, inplace=False)\n",
      "      )\n",
      "      (3): Sequential(\n",
      "        (0): Linear(in_features=64, out_features=1, bias=True)\n",
      "        (1): Dropout(p=0, inplace=False)\n",
      "      )\n",
      "    )\n",
      "  )\n",
      ")\n"
     ]
    },
    {
     "data": {
      "text/plain": [
       "SingleBVPNet(\n",
       "  (net): FCBlock(\n",
       "    (nl): ReLU(inplace=True)\n",
       "    (net_u): ModuleList(\n",
       "      (0): Sequential(\n",
       "        (0): Linear(in_features=5, out_features=64, bias=True)\n",
       "        (1): Dropout(p=0, inplace=False)\n",
       "      )\n",
       "      (1): Sequential(\n",
       "        (0): Linear(in_features=64, out_features=64, bias=True)\n",
       "        (1): Dropout(p=0, inplace=False)\n",
       "      )\n",
       "      (2): Sequential(\n",
       "        (0): Linear(in_features=64, out_features=64, bias=True)\n",
       "        (1): Dropout(p=0, inplace=False)\n",
       "      )\n",
       "    )\n",
       "    (net_zu_u): ModuleList(\n",
       "      (0): Sequential(\n",
       "        (0): Linear(in_features=64, out_features=64, bias=True)\n",
       "        (1): Dropout(p=0, inplace=False)\n",
       "      )\n",
       "      (1): Sequential(\n",
       "        (0): Linear(in_features=64, out_features=64, bias=True)\n",
       "        (1): Dropout(p=0, inplace=False)\n",
       "      )\n",
       "      (2): Sequential(\n",
       "        (0): Linear(in_features=64, out_features=64, bias=True)\n",
       "        (1): Dropout(p=0, inplace=False)\n",
       "      )\n",
       "    )\n",
       "    (net_z_zu): ModuleList(\n",
       "      (0): Sequential(\n",
       "        (0): Linear(in_features=64, out_features=64, bias=False)\n",
       "        (1): Dropout(p=0, inplace=False)\n",
       "      )\n",
       "      (1): Sequential(\n",
       "        (0): Linear(in_features=64, out_features=64, bias=False)\n",
       "        (1): Dropout(p=0, inplace=False)\n",
       "      )\n",
       "      (2): Sequential(\n",
       "        (0): Linear(in_features=64, out_features=1, bias=False)\n",
       "        (1): Dropout(p=0, inplace=False)\n",
       "      )\n",
       "    )\n",
       "    (net_yu_u): ModuleList(\n",
       "      (0): Sequential(\n",
       "        (0): Linear(in_features=5, out_features=1, bias=True)\n",
       "        (1): Dropout(p=0, inplace=False)\n",
       "      )\n",
       "      (1): Sequential(\n",
       "        (0): Linear(in_features=64, out_features=1, bias=True)\n",
       "        (1): Dropout(p=0, inplace=False)\n",
       "      )\n",
       "      (2): Sequential(\n",
       "        (0): Linear(in_features=64, out_features=1, bias=True)\n",
       "        (1): Dropout(p=0, inplace=False)\n",
       "      )\n",
       "      (3): Sequential(\n",
       "        (0): Linear(in_features=64, out_features=1, bias=True)\n",
       "        (1): Dropout(p=0, inplace=False)\n",
       "      )\n",
       "    )\n",
       "    (net_z_yu): ModuleList(\n",
       "      (0): Sequential(\n",
       "        (0): Linear(in_features=1, out_features=64, bias=False)\n",
       "        (1): Dropout(p=0, inplace=False)\n",
       "      )\n",
       "      (1): Sequential(\n",
       "        (0): Linear(in_features=1, out_features=64, bias=False)\n",
       "        (1): Dropout(p=0, inplace=False)\n",
       "      )\n",
       "      (2): Sequential(\n",
       "        (0): Linear(in_features=1, out_features=64, bias=False)\n",
       "        (1): Dropout(p=0, inplace=False)\n",
       "      )\n",
       "      (3): Sequential(\n",
       "        (0): Linear(in_features=1, out_features=1, bias=False)\n",
       "        (1): Dropout(p=0, inplace=False)\n",
       "      )\n",
       "    )\n",
       "    (net_z_u): ModuleList(\n",
       "      (0): Sequential(\n",
       "        (0): Linear(in_features=5, out_features=64, bias=True)\n",
       "        (1): Dropout(p=0, inplace=False)\n",
       "      )\n",
       "      (1): Sequential(\n",
       "        (0): Linear(in_features=64, out_features=64, bias=True)\n",
       "        (1): Dropout(p=0, inplace=False)\n",
       "      )\n",
       "      (2): Sequential(\n",
       "        (0): Linear(in_features=64, out_features=64, bias=True)\n",
       "        (1): Dropout(p=0, inplace=False)\n",
       "      )\n",
       "      (3): Sequential(\n",
       "        (0): Linear(in_features=64, out_features=1, bias=True)\n",
       "        (1): Dropout(p=0, inplace=False)\n",
       "      )\n",
       "    )\n",
       "  )\n",
       ")"
      ]
     },
     "execution_count": 11,
     "metadata": {},
     "output_type": "execute_result"
    }
   ],
   "source": [
    "# ckpt_path = '../experiment_scripts/logs/train_new_case_more_time/t_1/checkpoints_dir/model_final.pth'\n",
    "# model_2 = '../experiment_scripts/logs/train_new_case_more_time/t_1/checkpoints_dir/model_final.pth'\n",
    "\n",
    "ckpt_path = '../experiment_scripts/logs/train_new_case_funnel/t_1/checkpoints_dir/model_final.pth'\n",
    "model_2 = '../experiment_scripts/logs/train_new_case_funnel/t_1/checkpoints_dir/model_final.pth'\n",
    "activation = 'relu'\n",
    "\n",
    "model = icnn_pytorch.SingleBVPNet(in_features=6, out_features=1, type=activation, mode='mlp', hidden_features=64, num_hidden_layers=3, dropout=0)\n",
    "# model = modules.SingleBVPNet(in_features=4, out_features=1, type=activation, mode='mlp', hidden_features=64, num_hidden_layers=2, dropout=0)\n",
    "model2 = icnn_pytorch.SingleBVPNet(in_features=6, out_features=1, type=activation, mode='mlp', hidden_features=64, num_hidden_layers=3, dropout=0)\n",
    "\n",
    "checkpoint = torch.load(ckpt_path, map_location=torch.device(\"cpu\"))\n",
    "c2 = torch.load(model_2, map_location=torch.device(\"cpu\"))\n",
    "\n",
    "try:\n",
    "    model_weights = checkpoint['model']\n",
    "except:\n",
    "    model_weights = checkpoint\n",
    "\n",
    "try:\n",
    "    mw = c2['model']\n",
    "except:\n",
    "    mw = c2\n",
    "\n",
    "model.load_state_dict(model_weights)\n",
    "model2.load_state_dict(mw)\n",
    "model.eval()\n",
    "model2.eval()"
   ]
  },
  {
   "cell_type": "code",
   "execution_count": 12,
   "metadata": {
    "pycharm": {
     "name": "#%%\n"
    }
   },
   "outputs": [],
   "source": [
    "## check min max value for t = T - delta t\n",
    "delta_t = 0.1\n",
    "delta_x = 0\n",
    "delta_v = 0\n",
    "V1 = []\n",
    "t = 0.1\n",
    "actions = []\n",
    "values = []\n",
    "# X = torch.tensor([[t, delta_x, delta_v]], dtype=torch.float32)\n",
    "for p in torch.linspace(0, 1, 100):\n",
    "    X = torch.zeros((1, 5))\n",
    "    X[:, 1] = 0\n",
    "    X[:, 2] = 0\n",
    "    X[:, 3] = 0\n",
    "    X[:, 4] = 0\n",
    "    p_T = torch.linspace(0, 1, 4).reshape(-1, 1)\n",
    "    p_T[:, ] = p\n",
    "    X_new = torch.from_numpy(utils.dynamics_4d_follow(X, 1, 1, DT=delta_t))\n",
    "    X_new = torch.cat((torch.ones(X_new.shape[0], 1), X_new), dim=1)\n",
    "    X_new = np.array([utils.make_payoff(X_new[0, :], X_new[1, :])]).reshape(-1, X_new.shape[1])\n",
    "    X_new = torch.from_numpy(X_new.astype(np.float32))\n",
    "    X = torch.cat((X_new, p_T), dim=1)\n",
    "    X[:, 0] = t\n",
    "    X_in = {'coords': X}\n",
    "    # value = model2(X_in)['model_out'].detach().cpu().numpy()\n",
    "    value = utils.final_value_minmax((X[:, 1] - X[:, 3]), X[:, -1]).numpy()\n",
    "    values.append(value)\n",
    "    minmaxV = value.reshape(2, 2)\n",
    "\n",
    "    a_idx = np.argmin(np.max(minmaxV, axis=1))\n",
    "    d_idx = np.argmax(np.min(minmaxV, axis=0))\n",
    "\n",
    "    V1.append(np.min(np.max(minmaxV, 1)))\n",
    "    a_choices = [-1, 1]\n",
    "    actions.append(a_choices[a_idx])"
   ]
  },
  {
   "cell_type": "code",
   "execution_count": 13,
   "metadata": {
    "pycharm": {
     "name": "#%%\n"
    }
   },
   "outputs": [],
   "source": [
    "X = torch.zeros((100, 5))\n",
    "p_T = torch.linspace(0, 1, 100).reshape(-1, 1)\n",
    "\n",
    "X = torch.cat((X, p_T), dim=1)\n",
    "\n",
    "\n",
    "# also plot value at t = 0.5\n",
    "X[:, 0] = 0.1\n",
    "X[:, 1] = 0.0\n",
    "X[:, 2] = 0.0\n",
    "X[:, 3] = 0.0\n",
    "X[:, 4] = 0.0\n",
    "X_in = {'coords': X}\n",
    "v2 = model(X_in)['model_out'].detach().cpu().numpy()"
   ]
  },
  {
   "cell_type": "code",
   "execution_count": 14,
   "metadata": {
    "pycharm": {
     "name": "#%%\n"
    }
   },
   "outputs": [
    {
     "data": {
      "image/png": "[encoded data removed]",
      "text/plain": [
       "<Figure size 576x432 with 1 Axes>"
      ]
     },
     "metadata": {
      "needs_background": "light"
     },
     "output_type": "display_data"
    }
   ],
   "source": [
    "p = p_T.numpy()\n",
    "points = zip(V1, p)\n",
    "from utils import cav_vex\n",
    "\n",
    "ps = np.linspace(0, 1, 100)\n",
    "vex = []\n",
    "for p in ps:\n",
    "    vex.append(cav_vex(V1, p, type='vex', num_ps=100))\n",
    "plt.plot(np.linspace(0, 1, 100), V1, label='$\\min \\max V(t=0.1)$')\n",
    "plt.plot(np.linspace(0, 1, 100), v2, '-.', label='$V(t=0)$')\n",
    "plt.plot(np.linspace(0, 1, 100), vex, label='vex')\n",
    "plt.title('Value vs belief Forward Time')\n",
    "plt.xlabel('p')\n",
    "plt.ylabel('V')\n",
    "plt.legend()\n",
    "# plt.ylim([-0.004, 0.00])\n",
    "plt.rcParams['figure.figsize'] = (8, 6)"
   ]
  },
  {
   "cell_type": "code",
   "execution_count": 10,
   "metadata": {
    "pycharm": {
     "name": "#%%\n"
    }
   },
   "outputs": [],
   "source": [
    "import scipy.io as scio"
   ]
  },
  {
   "cell_type": "code",
   "execution_count": 11,
   "metadata": {
    "pycharm": {
     "name": "#%%\n"
    }
   },
   "outputs": [],
   "source": [
    "data = scio.loadmat('../new_case_data_follow_zero_sig/train_data_t_1.0.mat')"
   ]
  },
  {
   "cell_type": "code",
   "execution_count": 12,
   "metadata": {
    "pycharm": {
     "name": "#%%\n"
    }
   },
   "outputs": [],
   "source": [
    "x1 = data['states'][:, 1]\n",
    "p = data['states'][:, -1]\n",
    "v = data['values']"
   ]
  },
  {
   "cell_type": "code",
   "execution_count": 13,
   "metadata": {
    "pycharm": {
     "name": "#%%\n"
    }
   },
   "outputs": [
    {
     "data": {
      "image/png": "[encoded data removed]",
      "text/plain": [
       "<Figure size 576x432 with 1 Axes>"
      ]
     },
     "metadata": {
      "needs_background": "light"
     },
     "output_type": "display_data"
    }
   ],
   "source": [
    "fig = plt.figure()\n",
    "ax = fig.add_subplot(projection='3d')\n",
    "ax.scatter(x1, p, v)\n",
    "plt.show()"
   ]
  },
  {
   "cell_type": "code",
   "execution_count": 14,
   "metadata": {
    "pycharm": {
     "name": "#%%\n"
    }
   },
   "outputs": [],
   "source": [
    "import pandas as pd"
   ]
  },
  {
   "cell_type": "code",
   "execution_count": 15,
   "metadata": {},
   "outputs": [],
   "source": [
    "states = data['states']\n",
    "values = data['values']"
   ]
  },
  {
   "cell_type": "code",
   "execution_count": 16,
   "metadata": {},
   "outputs": [],
   "source": [
    "gt = np.hstack((states, values))"
   ]
  },
  {
   "cell_type": "code",
   "execution_count": 17,
   "metadata": {},
   "outputs": [],
   "source": [
    "df = pd.DataFrame(gt)"
   ]
  },
  {
   "cell_type": "code",
   "execution_count": 18,
   "metadata": {},
   "outputs": [],
   "source": [
    "cols = ['t', 'x1', 'v1', 'x2', 'v2', 'p', 'value']\n",
    "df.columns = cols"
   ]
  },
  {
   "cell_type": "code",
   "execution_count": 19,
   "metadata": {},
   "outputs": [
    {
     "data": {
      "text/html": [
       "<div>\n",
       "<style scoped>\n",
       "    .dataframe tbody tr th:only-of-type {\n",
       "        vertical-align: middle;\n",
       "    }\n",
       "\n",
       "    .dataframe tbody tr th {\n",
       "        vertical-align: top;\n",
       "    }\n",
       "\n",
       "    .dataframe thead th {\n",
       "        text-align: right;\n",
       "    }\n",
       "</style>\n",
       "<table border=\"1\" class=\"dataframe\">\n",
       "  <thead>\n",
       "    <tr style=\"text-align: right;\">\n",
       "      <th></th>\n",
       "      <th>t</th>\n",
       "      <th>x1</th>\n",
       "      <th>v1</th>\n",
       "      <th>x2</th>\n",
       "      <th>v2</th>\n",
       "      <th>p</th>\n",
       "      <th>value</th>\n",
       "    </tr>\n",
       "  </thead>\n",
       "  <tbody>\n",
       "    <tr>\n",
       "      <th>0</th>\n",
       "      <td>1.0</td>\n",
       "      <td>1.349299e-02</td>\n",
       "      <td>-0.105280</td>\n",
       "      <td>0.105912</td>\n",
       "      <td>-0.108158</td>\n",
       "      <td>0.000000</td>\n",
       "      <td>-0.127141</td>\n",
       "    </tr>\n",
       "    <tr>\n",
       "      <th>1</th>\n",
       "      <td>1.0</td>\n",
       "      <td>1.349299e-02</td>\n",
       "      <td>-0.105280</td>\n",
       "      <td>0.105912</td>\n",
       "      <td>-0.108158</td>\n",
       "      <td>0.010101</td>\n",
       "      <td>-0.138550</td>\n",
       "    </tr>\n",
       "    <tr>\n",
       "      <th>2</th>\n",
       "      <td>1.0</td>\n",
       "      <td>1.349299e-02</td>\n",
       "      <td>-0.105280</td>\n",
       "      <td>0.105912</td>\n",
       "      <td>-0.108158</td>\n",
       "      <td>0.020202</td>\n",
       "      <td>-0.149959</td>\n",
       "    </tr>\n",
       "    <tr>\n",
       "      <th>3</th>\n",
       "      <td>1.0</td>\n",
       "      <td>1.349299e-02</td>\n",
       "      <td>-0.105280</td>\n",
       "      <td>0.105912</td>\n",
       "      <td>-0.108158</td>\n",
       "      <td>0.030303</td>\n",
       "      <td>-0.161367</td>\n",
       "    </tr>\n",
       "    <tr>\n",
       "      <th>4</th>\n",
       "      <td>1.0</td>\n",
       "      <td>1.349299e-02</td>\n",
       "      <td>-0.105280</td>\n",
       "      <td>0.105912</td>\n",
       "      <td>-0.108158</td>\n",
       "      <td>0.040404</td>\n",
       "      <td>-0.172776</td>\n",
       "    </tr>\n",
       "    <tr>\n",
       "      <th>...</th>\n",
       "      <td>...</td>\n",
       "      <td>...</td>\n",
       "      <td>...</td>\n",
       "      <td>...</td>\n",
       "      <td>...</td>\n",
       "      <td>...</td>\n",
       "      <td>...</td>\n",
       "    </tr>\n",
       "    <tr>\n",
       "      <th>799995</th>\n",
       "      <td>1.0</td>\n",
       "      <td>7.237196e-07</td>\n",
       "      <td>-0.000703</td>\n",
       "      <td>0.000617</td>\n",
       "      <td>0.000486</td>\n",
       "      <td>0.959596</td>\n",
       "      <td>-0.328883</td>\n",
       "    </tr>\n",
       "    <tr>\n",
       "      <th>799996</th>\n",
       "      <td>1.0</td>\n",
       "      <td>7.237196e-07</td>\n",
       "      <td>-0.000703</td>\n",
       "      <td>0.000617</td>\n",
       "      <td>0.000486</td>\n",
       "      <td>0.969697</td>\n",
       "      <td>-0.318080</td>\n",
       "    </tr>\n",
       "    <tr>\n",
       "      <th>799997</th>\n",
       "      <td>1.0</td>\n",
       "      <td>7.237196e-07</td>\n",
       "      <td>-0.000703</td>\n",
       "      <td>0.000617</td>\n",
       "      <td>0.000486</td>\n",
       "      <td>0.979798</td>\n",
       "      <td>-0.307276</td>\n",
       "    </tr>\n",
       "    <tr>\n",
       "      <th>799998</th>\n",
       "      <td>1.0</td>\n",
       "      <td>7.237196e-07</td>\n",
       "      <td>-0.000703</td>\n",
       "      <td>0.000617</td>\n",
       "      <td>0.000486</td>\n",
       "      <td>0.989899</td>\n",
       "      <td>-0.296472</td>\n",
       "    </tr>\n",
       "    <tr>\n",
       "      <th>799999</th>\n",
       "      <td>1.0</td>\n",
       "      <td>7.237196e-07</td>\n",
       "      <td>-0.000703</td>\n",
       "      <td>0.000617</td>\n",
       "      <td>0.000486</td>\n",
       "      <td>1.000000</td>\n",
       "      <td>-0.285668</td>\n",
       "    </tr>\n",
       "  </tbody>\n",
       "</table>\n",
       "<p>800000 rows × 7 columns</p>\n",
       "</div>"
      ],
      "text/plain": [
       "          t            x1        v1        x2        v2         p     value\n",
       "0       1.0  1.349299e-02 -0.105280  0.105912 -0.108158  0.000000 -0.127141\n",
       "1       1.0  1.349299e-02 -0.105280  0.105912 -0.108158  0.010101 -0.138550\n",
       "2       1.0  1.349299e-02 -0.105280  0.105912 -0.108158  0.020202 -0.149959\n",
       "3       1.0  1.349299e-02 -0.105280  0.105912 -0.108158  0.030303 -0.161367\n",
       "4       1.0  1.349299e-02 -0.105280  0.105912 -0.108158  0.040404 -0.172776\n",
       "...     ...           ...       ...       ...       ...       ...       ...\n",
       "799995  1.0  7.237196e-07 -0.000703  0.000617  0.000486  0.959596 -0.328883\n",
       "799996  1.0  7.237196e-07 -0.000703  0.000617  0.000486  0.969697 -0.318080\n",
       "799997  1.0  7.237196e-07 -0.000703  0.000617  0.000486  0.979798 -0.307276\n",
       "799998  1.0  7.237196e-07 -0.000703  0.000617  0.000486  0.989899 -0.296472\n",
       "799999  1.0  7.237196e-07 -0.000703  0.000617  0.000486  1.000000 -0.285668\n",
       "\n",
       "[800000 rows x 7 columns]"
      ]
     },
     "execution_count": 19,
     "metadata": {},
     "output_type": "execute_result"
    }
   ],
   "source": [
    "df"
   ]
  },
  {
   "cell_type": "code",
   "execution_count": 20,
   "metadata": {},
   "outputs": [],
   "source": [
    "d = df['x1'] - df['x2']\n",
    "v = df['value']"
   ]
  },
  {
   "cell_type": "code",
   "execution_count": 21,
   "metadata": {},
   "outputs": [
    {
     "data": {
      "text/plain": [
       "<matplotlib.collections.PathCollection at 0x16e0504f0>"
      ]
     },
     "execution_count": 21,
     "metadata": {},
     "output_type": "execute_result"
    },
    {
     "data": {
      "image/png": "[encoded data removed]",
      "text/plain": [
       "<Figure size 576x432 with 1 Axes>"
      ]
     },
     "metadata": {
      "needs_background": "light"
     },
     "output_type": "display_data"
    }
   ],
   "source": [
    "plt.scatter(d, v)"
   ]
  },
  {
   "cell_type": "code",
   "execution_count": 41,
   "metadata": {},
   "outputs": [
    {
     "data": {
      "text/plain": [
       "0        -0.092419\n",
       "1        -0.092419\n",
       "2        -0.092419\n",
       "3        -0.092419\n",
       "4        -0.092419\n",
       "            ...   \n",
       "799995   -0.000616\n",
       "799996   -0.000616\n",
       "799997   -0.000616\n",
       "799998   -0.000616\n",
       "799999   -0.000616\n",
       "Length: 800000, dtype: float64"
      ]
     },
     "execution_count": 41,
     "metadata": {},
     "output_type": "execute_result"
    }
   ],
   "source": []
  },
  {
   "cell_type": "code",
   "execution_count": null,
   "metadata": {},
   "outputs": [],
   "source": []
  }
 ],
 "metadata": {
  "kernelspec": {
   "display_name": "Python 3 (ipykernel)",
   "language": "python",
   "name": "python3"
  },
  "language_info": {
   "codemirror_mode": {
    "name": "ipython",
    "version": 3
   },
   "file_extension": ".py",
   "mimetype": "text/x-python",
   "name": "python",
   "nbconvert_exporter": "python",
   "pygments_lexer": "ipython3",
   "version": "3.8.13"
  }
 },
 "nbformat": 4,
 "nbformat_minor": 1
}