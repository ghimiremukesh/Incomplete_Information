{
 "cells": [
  {
   "cell_type": "markdown",
   "metadata": {},
   "source": [
    "## Code for Non-Revealing Game"
   ]
  },
  {
   "cell_type": "code",
   "execution_count": 159,
   "metadata": {},
   "outputs": [],
   "source": [
    "import numpy as np\n",
    "import itertools\n",
    "import matplotlib.pyplot as plt\n",
    "import copy"
   ]
  },
  {
   "cell_type": "markdown",
   "metadata": {},
   "source": [
    "### Helper Functions"
   ]
  },
  {
   "cell_type": "code",
   "execution_count": 160,
   "metadata": {},
   "outputs": [],
   "source": [
    "# Helper function to print the payoff table\n",
    "def printMatrix(s):\n",
    "\n",
    "    # Do heading\n",
    "    print(\"     \", end=\"\")\n",
    "    for j in range(len(s[0])):\n",
    "        print(\"%5s \" % j, end=\"\")\n",
    "    print()\n",
    "    print(\"     \", end=\"\")\n",
    "    for j in range(len(s[0])):\n",
    "        print(\"------\", end=\"\")\n",
    "    print()\n",
    "    # Matrix contents\n",
    "    for i in range(len(s)):\n",
    "        print(\"%3s |\" % (i), end=\"\") # Row nums\n",
    "        for j in range(len(s[0])):\n",
    "            if type(s[i][j]) == np.float64:\n",
    "                temp = round(s[i][j], 2)\n",
    "            else:\n",
    "                temp = s[i][j]\n",
    "            print(\"%5s \" % (temp), end=\"\")\n",
    "        print()"
   ]
  },
  {
   "cell_type": "code",
   "execution_count": 161,
   "metadata": {},
   "outputs": [],
   "source": [
    "# get average payoff matrix of two types\n",
    "def get_av_val(val_r, val_l, p):\n",
    "    return p*val_l + (1-p)*val_r"
   ]
  },
  {
   "cell_type": "markdown",
   "metadata": {},
   "source": [
    "In the non-revealing game, we need to build the value function as: $V(x, t, p) = cav\\;\\;\\min_u \\max_v V(x', t+1, p)$. Previously we just built it as: $V(x, t, p) = \\min_u \\max_v V(x', t+1, p)$"
   ]
  },
  {
   "cell_type": "markdown",
   "metadata": {},
   "source": [
    "### Game Settings"
   ]
  },
  {
   "cell_type": "code",
   "execution_count": 162,
   "metadata": {},
   "outputs": [],
   "source": [
    "num_states = 5\n",
    "s = np.linspace(0, num_states-1, num_states)\n",
    "states = np.array(list(itertools.product(s, repeat=2)))"
   ]
  },
  {
   "cell_type": "markdown",
   "metadata": {},
   "source": [
    "### Value Function for any time t"
   ]
  },
  {
   "cell_type": "code",
   "execution_count": 163,
   "metadata": {},
   "outputs": [],
   "source": [
    "def get_inter_value(timestep, game_dict, states, returnstate=0):\n",
    "    \n",
    "    def get_game_dict(timestep, game_dict, states, valuefun = get_inter_value):\n",
    "        return valuefun(timestep, game_dict, states, returnstate=1)\n",
    "    \n",
    "    # get game dict for t-1 timestep to calculate value at t\n",
    "    if timestep > 1 and returnstate ==0:\n",
    "        temp_game = copy.deepcopy(game_dict)\n",
    "        for i in range(1, timestep):\n",
    "            average, _ = get_game_dict(i, temp_game, states)\n",
    "            temp_game = dict(zip(states.flatten(), average.flatten()))\n",
    "\n",
    "        game_dict = copy.deepcopy(temp_game)\n",
    "#         printMatrix(average)\n",
    "    \n",
    "    \n",
    "    temp = np.full(states.shape, np.nan)\n",
    "    action = np.full(states.shape, '%', dtype='U25')\n",
    "    p1_amap = {'0': 'l', '1': 'L', '2': 'r', '3': 'R'}\n",
    "    p2_amap = {'0': 'l', '1': 'r'}\n",
    "        \n",
    "        \n",
    "    # first row value # min max\n",
    "    for i in range(timestep):\n",
    "        for j in range(timestep, num_states-timestep):\n",
    "#             temp[i, j] = game_dict[states[i, j]]\n",
    "            payoff = np.zeros((4, 2)) \n",
    "            if i - 1 < 0:\n",
    "                new_L = i\n",
    "                new_l = i\n",
    "            elif i - 2 < 0:\n",
    "                new_L = i - 1\n",
    "                new_l = i - 1\n",
    "            else:\n",
    "                new_l = i - 1\n",
    "                new_L = i - 2\n",
    "            \n",
    "            payoff[0, 0] = game_dict[states[new_l, j-1]] # left left\n",
    "            payoff[0, 1] = game_dict[states[new_l, j+1]] # left right\n",
    "            payoff[1, 0] = game_dict[states[new_L, j-1]] # Left left\n",
    "            payoff[1, 1] = game_dict[states[new_L, j+1]] # Left right\n",
    "            payoff[2, 0] = game_dict[states[i+1, j-1]] # right left\n",
    "            payoff[2, 1] = game_dict[states[i+1, j+1]] # right right\n",
    "            payoff[3, 0] = game_dict[states[i+2, j-1]] # Right left\n",
    "            payoff[3, 1] = game_dict[states[i+2, j+1]] # Right right\n",
    "        \n",
    "            # find maximin\n",
    "            temp[i, j] = np.max(np.min(payoff, 1))\n",
    "            action_idx = np.where(np.min(payoff, 1) == temp[i, j])[0] # check for same values\n",
    "            if len(action_idx) == 1:\n",
    "                action[i, j] = p1_amap[str(action_idx[0])] \n",
    "            elif len(action_idx) == 4:\n",
    "                action[i, j] = 'A'\n",
    "            else:\n",
    "                ac = ''\n",
    "                for a in action_idx:\n",
    "                    ac += p1_amap[str(a)]\n",
    "                action[i, j] = ac\n",
    "    \n",
    "#     printMatrix(temp)\n",
    "    # last row value\n",
    "    for i in range(num_states - timestep, num_states):\n",
    "        for j in range(timestep, num_states-timestep):\n",
    "#             temp[i, j] = game_dict[states[i, j]]\n",
    "            payoff = np.zeros((4, 2)) \n",
    "            if i + 1 > num_states - 1:\n",
    "                new_R = i\n",
    "                new_r = i\n",
    "            elif i + 2 > num_states - 1:\n",
    "                new_r = i + 1 \n",
    "                new_R = i + 1\n",
    "            else:\n",
    "                new_r = i + 1\n",
    "                new_R = i + 2\n",
    "            \n",
    "            payoff[0, 0] = game_dict[states[i-1, j-1]] # left left\n",
    "            payoff[0, 1] = game_dict[states[i-1, j+1]] # left right\n",
    "            payoff[1, 0] = game_dict[states[i-2, j-1]] # Left left\n",
    "            payoff[1, 1] = game_dict[states[i-2, j+1]] # Left right\n",
    "            payoff[2, 0] = game_dict[states[new_r, j-1]] # right left\n",
    "            payoff[2, 1] = game_dict[states[new_r, j+1]] # right right\n",
    "            payoff[3, 0] = game_dict[states[new_R, j-1]] # Right left\n",
    "            payoff[3, 1] = game_dict[states[new_R, j+1]] # Right right\n",
    "        \n",
    "            # find maximin\n",
    "            temp[i, j] = np.max(np.min(payoff, 1))\n",
    "            action_idx = np.where(np.min(payoff, 1) == temp[i, j])[0] # check for same values\n",
    "            if len(action_idx) == 1:\n",
    "                action[i, j] = p1_amap[str(action_idx[0])] \n",
    "            elif len(action_idx) == 4:\n",
    "                action[i, j] = 'A'\n",
    "            else:\n",
    "                ac = ''\n",
    "                for a in action_idx:\n",
    "                    ac += p1_amap[str(a)]\n",
    "                action[i, j] = ac\n",
    "\n",
    "        \n",
    "    for i in range(timestep, num_states - timestep): # row\n",
    "        for j in range(timestep, num_states - timestep): # column\n",
    "            payoff = np.zeros((4, 2)) # payoff matrix for each game\n",
    "            if i - 2 < 0:\n",
    "                new_l = i - 1\n",
    "            else:\n",
    "                new_l = i - 2\n",
    "            if i + 2 > num_states - 1: #14:\n",
    "                new_r = i + 1\n",
    "            else:\n",
    "                new_r = i + 2\n",
    "                \n",
    "            payoff[0, 0] = game_dict[states[i-1, j-1]] # left left\n",
    "            payoff[0, 1] = game_dict[states[i-1, j+1]] # left right\n",
    "            payoff[1, 0] = game_dict[states[new_l, j-1]] # Left left\n",
    "            payoff[1, 1] = game_dict[states[new_l, j+1]] # Left right\n",
    "            payoff[2, 0] = game_dict[states[i+1, j-1]] # right left\n",
    "            payoff[2, 1] = game_dict[states[i+1, j+1]] # right right\n",
    "            payoff[3, 0] = game_dict[states[new_r, j-1]] # Right left\n",
    "            payoff[3, 1] = game_dict[states[new_r, j+1]] # Right right\n",
    "\n",
    "            # find maximin\n",
    "            temp[i, j] = np.max(np.min(payoff, 1))\n",
    "            action_idx = np.where(np.min(payoff, 1) == temp[i, j])[0] # check for same values\n",
    "            if len(action_idx) == 1:\n",
    "                action[i, j] = p1_amap[str(action_idx[0])] \n",
    "            elif len(action_idx) == 4:\n",
    "                action[i, j] = 'A'\n",
    "            else:\n",
    "                ac = ''\n",
    "                for a in action_idx:\n",
    "                    ac += p1_amap[str(a)]\n",
    "                action[i, j] = ac\n",
    "\n",
    "    return temp, action"
   ]
  },
  {
   "cell_type": "markdown",
   "metadata": {},
   "source": [
    "### Some Tests"
   ]
  },
  {
   "cell_type": "code",
   "execution_count": 164,
   "metadata": {},
   "outputs": [],
   "source": [
    "# payoff for P1: Type Left\n",
    "val_L_T = np.zeros((len(s), len(s)))\n",
    "for i in range(num_states):\n",
    "    val_L_T[np.triu_indices(num_states, k = i)] = i\n",
    "\n",
    "val_L_T = val_L_T.reshape(num_states, num_states)\n",
    "val_R_T = val_L_T.T"
   ]
  },
  {
   "cell_type": "code",
   "execution_count": 165,
   "metadata": {},
   "outputs": [],
   "source": [
    "s_pairs = np.array([[''.join(str(states[i, :])) for i in range(len(states))]])\n",
    "s_pairs = s_pairs.reshape(num_states, num_states)"
   ]
  },
  {
   "cell_type": "code",
   "execution_count": 351,
   "metadata": {},
   "outputs": [
    {
     "name": "stdout",
     "output_type": "stream",
     "text": [
      "0.0\n"
     ]
    }
   ],
   "source": [
    "# set p\n",
    "p = 0.9\n",
    "timestep = 1\n",
    "\n",
    "average_game = get_av_val(val_R_T, val_L_T, p=p)\n",
    "average_dict = dict(zip(s_pairs.flatten(), average_game.flatten()))\n",
    "cav_v, _, = get_inter_value(1, average_dict, s_pairs)\n",
    "ps = np.linspace(0, 1, 50)\n",
    "cav_test = np.zeros((5, 5, len(ps)))\n",
    "for i in range(len(ps)):\n",
    "    average_game = get_av_val(val_R_T, val_L_T, p=ps[i])\n",
    "    average_dict = dict(zip(s_pairs.flatten(), average_game.flatten()))\n",
    "    temp, _ = get_inter_value(1, average_dict, s_pairs)\n",
    "    cav_test[:, :, i] = temp\n",
    "    \n",
    "for row in range(5):\n",
    "    for col in range(timestep, num_states-timestep):\n",
    "        vals = cav_test[row, col, :]\n",
    "        if len(np.where(vals == np.max(vals))[0]) > 1:\n",
    "            p_min = ps[np.where(vals == np.max(vals))[0][0]]\n",
    "            if row == 2 and col == 2:\n",
    "                print(p_min)\n",
    "            if p > p_min:\n",
    "                cav_v[row, col] = np.max(vals)"
   ]
  },
  {
   "cell_type": "code",
   "execution_count": 352,
   "metadata": {},
   "outputs": [
    {
     "name": "stdout",
     "output_type": "stream",
     "text": [
      "         0     1     2     3     4 \n",
      "     ------------------------------\n",
      "  0 |  nan  0.49   0.9   1.8   nan \n",
      "  1 |  nan   0.1   0.9   1.8   nan \n",
      "  2 |  nan   0.2   1.0   1.8   nan \n",
      "  3 |  nan   0.2   0.1   0.9   nan \n",
      "  4 |  nan   0.2   0.1  0.49   nan \n"
     ]
    }
   ],
   "source": [
    "printMatrix(cav_v)"
   ]
  },
  {
   "cell_type": "code",
   "execution_count": 168,
   "metadata": {},
   "outputs": [
    {
     "name": "stdout",
     "output_type": "stream",
     "text": [
      "         0     1     2     3     4 \n",
      "     ------------------------------\n",
      "  0 |  nan   0.4   0.4   0.8   nan \n",
      "  1 |  nan   0.6   0.4   0.8   nan \n",
      "  2 |  nan   1.2   1.0   0.8   nan \n",
      "  3 |  nan   1.2   0.6   0.4   nan \n",
      "  4 |  nan   1.2   0.6   0.4   nan \n"
     ]
    }
   ],
   "source": [
    "printMatrix(cav_v)"
   ]
  },
  {
   "cell_type": "code",
   "execution_count": 169,
   "metadata": {},
   "outputs": [
    {
     "data": {
      "text/plain": [
       "[<matplotlib.lines.Line2D at 0x7fe971760438>]"
      ]
     },
     "execution_count": 169,
     "metadata": {},
     "output_type": "execute_result"
    },
    {
     "data": {
      "image/png": "[encoded data removed]",
      "text/plain": [
       "<Figure size 432x288 with 1 Axes>"
      ]
     },
     "metadata": {
      "needs_background": "light"
     },
     "output_type": "display_data"
    }
   ],
   "source": [
    "plt.plot(ps, cav_test[2, 2, :])"
   ]
  },
  {
   "cell_type": "code",
   "execution_count": 170,
   "metadata": {},
   "outputs": [
    {
     "data": {
      "text/plain": [
       "1.0"
      ]
     },
     "execution_count": 170,
     "metadata": {},
     "output_type": "execute_result"
    }
   ],
   "source": [
    "cav_v[2, 2]"
   ]
  },
  {
   "cell_type": "code",
   "execution_count": 171,
   "metadata": {},
   "outputs": [
    {
     "data": {
      "text/plain": [
       "2"
      ]
     },
     "execution_count": 171,
     "metadata": {},
     "output_type": "execute_result"
    }
   ],
   "source": [
    "len(np.where(cav_test[2, 2, :] == np.max(cav_test[2, 2, :]))[0])"
   ]
  },
  {
   "cell_type": "markdown",
   "metadata": {},
   "source": [
    "### Calculate Cav of V -- For 2 Time steps (state_dim = 5)"
   ]
  },
  {
   "cell_type": "code",
   "execution_count": 329,
   "metadata": {},
   "outputs": [],
   "source": [
    "def get_cav_v(timestep, game_dict, states, p, returnstate=0):\n",
    "    \n",
    "    def get_game_dict(timestep, game_dict, states, p, valuefun = get_cav_v):\n",
    "        return valuefun(timestep, game_dict, states, p, returnstate=1)\n",
    "    \n",
    "    if timestep == 1:\n",
    "        cav_v, _, = get_inter_value(1, game_dict, states)\n",
    "        ps = np.linspace(0, 1, 50)\n",
    "        cav_test = np.zeros((5, 5, len(ps)))\n",
    "        ps = np.linspace(0, 1, 50)\n",
    "        cav_test = np.zeros((5, 5, len(ps)))\n",
    "        for i in range(len(ps)):\n",
    "            average_game = get_av_val(val_R_T, val_L_T, p=ps[i])\n",
    "            average_dict = dict(zip(s_pairs.flatten(), average_game.flatten()))\n",
    "            temp, _ = get_inter_value(1, average_dict, s_pairs)\n",
    "            cav_test[:, :, i] = temp\n",
    "\n",
    "        for row in range(5):\n",
    "            for col in range(timestep, num_states-timestep):\n",
    "                vals = cav_test[row, col, :]\n",
    "                if len(np.where(vals == np.max(vals))[0]) > 1:\n",
    "                    p_min = ps[np.where(vals == np.max(vals))[0][0]]\n",
    "                    if p > p_min:\n",
    "                        cav_v[row, col] = np.max(vals)\n",
    "#         print(p)\n",
    "#         if p > 0.37:\n",
    "#             printMatrix(cav_v)\n",
    "#             input()\n",
    "    \n",
    "    if timestep > 1 and returnstate==0:\n",
    "        ps = np.linspace(0, 1, 50)\n",
    "        cav_v, _, = get_inter_value(timestep, game_dict, states)\n",
    "        for i in range(1, timestep):\n",
    "            cavs = np.zeros((num_states, num_states, len(ps)))\n",
    "            for j in range(len(ps)):\n",
    "                av_game = get_av_val(val_R_T, val_L_T, p=ps[j])\n",
    "                av_dict = dict(zip(states.flatten(), av_game.flatten()))\n",
    "                cavs[:, :, j] = get_game_dict(i, av_dict, states, p=ps[j])\n",
    "            \n",
    "            for row in range(num_states):\n",
    "                for col in range(i, num_states-i):\n",
    "                    vals = cavs[row, col, :]\n",
    "#                     if row == 0 and col == 1:\n",
    "#                         print(np.where(vals == np.max(vals)))\n",
    "                    if len(np.where(vals == np.max(vals))[0]) > 1:\n",
    "                        p_min = ps[np.where(vals == np.max(vals))[0][0]]\n",
    "                        p_max = ps[np.where(vals == np.max(vals))[0][-1]]\n",
    "#                         print(p_max)\n",
    "                        if p > p_min and p < p_max:\n",
    "                            cav_v[row, col] = np.max(vals)\n",
    "    return cav_v"
   ]
  },
  {
   "cell_type": "code",
   "execution_count": 353,
   "metadata": {},
   "outputs": [
    {
     "name": "stdout",
     "output_type": "stream",
     "text": [
      "         0     1     2     3     4 \n",
      "     ------------------------------\n",
      "  0 |  nan  0.49   0.1   0.2   nan \n",
      "  1 |  nan   0.9   0.1   0.2   nan \n",
      "  2 |  nan   1.8   1.0   0.2   nan \n",
      "  3 |  nan   1.8   0.9   0.1   nan \n",
      "  4 |  nan   1.8   0.9  0.49   nan \n"
     ]
    }
   ],
   "source": [
    "num_states = 5\n",
    "average_game = get_av_val(val_R_T, val_L_T, p=0.1)\n",
    "average_dict = dict(zip(s_pairs.flatten(), average_game.flatten()))\n",
    "printMatrix(get_cav_v(1, average_dict, s_pairs, p=0.9))"
   ]
  },
  {
   "cell_type": "code",
   "execution_count": null,
   "metadata": {},
   "outputs": [],
   "source": [
    "get_cav_v(1, average_dict, s_pairs, p=0.1)"
   ]
  },
  {
   "cell_type": "code",
   "execution_count": 370,
   "metadata": {},
   "outputs": [],
   "source": [
    "from scipy.optimize import minimize\n",
    "import random\n",
    "from itertools import product\n",
    "\n",
    "def get_strategy(game_dict, states, p):\n",
    "    '''\n",
    "    @params: lambda_j >= 0\n",
    "             p_j \\in {p_1, 1-p_1}\n",
    "             \n",
    "    constraints: \\sum lambda_j = 1\n",
    "                 \\sum lambda_j*p_j = p\n",
    "    '''\n",
    "    # first get strategy at initial time-step\n",
    "    # initial state is always (2, 2)\n",
    "    \n",
    "    def optimization(p, V_curr, curr_x, game_dict):\n",
    "    \n",
    "        def constraint(var):\n",
    "            lam_1 = var[0]\n",
    "            lam_2 = 1 - lam_1\n",
    "            p_1 = var[1]\n",
    "            p_2 = var[2]\n",
    "\n",
    "            lam_j = np.array([[lam_1], [lam_2]])\n",
    "            p_j = np.array([[p_1], [p_2]])\n",
    "\n",
    "            return abs((np.matmul(lam_j.T, p_j) - p).item()) <= 5e-4\n",
    "\n",
    "        def objective(var):\n",
    "\n",
    "            # here, V_curr is the value at the current state\n",
    "            # V_next is the max min value at the previous state leading to current state\n",
    "            lam_1 = var[0]\n",
    "            lam_2 = 1 - lam_1\n",
    "            p_1 = var[1]\n",
    "            p_2 = var[2]\n",
    "\n",
    "            lam_j = np.array([[lam_1], [lam_2]])\n",
    "            v_next = np.zeros((2, 1))\n",
    "            if curr_x == [2, 2]:\n",
    "                v_next_0 = get_cav_v(1, game_dict, states, p_1)\n",
    "                v_next_1 = get_cav_v(1, game_dict, states, p_2)\n",
    "                \n",
    "                pay_0 = np.zeros((4, 2))\n",
    "                pay_1 = np.zeros((4, 2))\n",
    "                \n",
    "                pay_0[0, 0] = v_next_0[1, 1]\n",
    "                pay_0[0, 1] = v_next_0[1, 3]\n",
    "                pay_0[1, 0] = v_next_0[0, 1]\n",
    "                pay_0[1, 1] = v_next_0[0, 3]\n",
    "                pay_0[2, 0] = v_next_0[3, 1]\n",
    "                pay_0[2, 1] = v_next_0[3, 3]\n",
    "                pay_0[3, 0] = v_next_0[4, 1]\n",
    "                pay_0[3, 1] = v_next_0[4, 3]\n",
    "                \n",
    "                pay_1[0, 0] = v_next_1[1, 1]\n",
    "                pay_1[0, 1] = v_next_1[1, 3]\n",
    "                pay_1[1, 0] = v_next_1[0, 1]\n",
    "                pay_1[1, 1] = v_next_1[0, 3]\n",
    "                pay_1[2, 0] = v_next_1[3, 1]\n",
    "                pay_1[2, 1] = v_next_1[3, 3]\n",
    "                pay_1[3, 0] = v_next_1[4, 1]\n",
    "                pay_1[3, 1] = v_next_1[4, 3]\n",
    "                \n",
    "                # do min max on v_next\n",
    "                v_next[0] = np.max(np.min(pay_0, 1))\n",
    "                v_next[1] = np.max(np.min(pay_1, 1))\n",
    "                \n",
    "            else: # that is, some other state in the second time-step\n",
    "                \n",
    "                i = curr_x[0]\n",
    "                j = curr_x[1]\n",
    "                \n",
    "                v_next_0 = get_av_val(val_R_T, val_L_T, p_1)\n",
    "                v_next_1 = get_av_val(val_R_T, val_L_T, p_1)\n",
    "                \n",
    "                pay_0 = np.zeros((4, 2))\n",
    "                pay_1 = np.zeros((4, 2))\n",
    "                \n",
    "                if i - 1 < 0:\n",
    "                    new_L = i\n",
    "                    new_l = i\n",
    "                elif i - 2 < 0:\n",
    "                    new_L = i - 1\n",
    "                    new_l = i - 1\n",
    "                else:\n",
    "                    new_l = i - 1\n",
    "                    new_L = i - 2\n",
    "                    \n",
    "                if i + 1 > num_states - 1:\n",
    "                    new_R = i\n",
    "                    new_r = i\n",
    "                elif i + 2 > num_states - 1:\n",
    "                    new_r = i + 1 \n",
    "                    new_R = i + 1\n",
    "                else:\n",
    "                    new_r = i + 1\n",
    "                    new_R = i + 2\n",
    "\n",
    "                pay_0[0, 0] = v_next_0[new_l, j-1] # left left\n",
    "                pay_0[0, 1] = v_next_0[new_l, j+1] # left right\n",
    "                pay_0[1, 0] = v_next_0[new_L, j-1] # Left left\n",
    "                pay_0[1, 1] = v_next_0[new_L, j+1] # Left right\n",
    "                pay_0[2, 0] = v_next_0[new_r, j-1] # right left\n",
    "                pay_0[2, 1] = v_next_0[new_r, j+1] # right right\n",
    "                pay_0[3, 0] = v_next_0[new_R, j-1] # Right left\n",
    "                pay_0[3, 1] = v_next_0[new_R, j+1] # Right right\n",
    "                \n",
    "                pay_0[0, 0] = v_next_0[new_l, j-1] # left left\n",
    "                pay_0[0, 1] = v_next_0[new_l, j+1] # left right\n",
    "                pay_0[1, 0] = v_next_0[new_L, j-1] # Left left\n",
    "                pay_0[1, 1] = v_next_0[new_L, j+1] # Left right\n",
    "                pay_0[2, 0] = v_next_0[new_r, j-1] # right left\n",
    "                pay_0[2, 1] = v_next_0[new_r, j+1] # right right\n",
    "                pay_0[3, 0] = v_next_0[new_R, j-1] # Right left\n",
    "                pay_0[3, 1] = v_next_0[new_R, j+1] # Right right\n",
    "                \n",
    "                # do min max on v_next\n",
    "                v_next[0] = np.max(np.min(pay_0, 1))\n",
    "                v_next[1] = np.max(np.min(pay_1, 1))\n",
    "    \n",
    "            return (V_curr -  np.matmul(lam_j.T, v_next)).item()\n",
    "    \n",
    "        \n",
    "        cons = ({'type': 'eq', 'fun': constraint})\n",
    "        bnds = ((0, 1), (0, 1), (0, 1), (p, p))\n",
    "#         x0 = [0, 0, 0, p]\n",
    "        \n",
    "        # cannot use scipy optimization\n",
    "#         res = minimize(objective, x0, bounds = bnds, constraints = cons, options={'disp': True})\n",
    "#         print(objective(x0))\n",
    "\n",
    "        lam = np.linspace(0, 1, 50)\n",
    "#         p_1 = np.arange(0, 1, 0.25)\n",
    "#         p_2 = np.arange(0, 1, 0.25)\n",
    "        \n",
    "        grid = product(lam, repeat=3)\n",
    "        reduced = filter(constraint, grid)\n",
    "        res = min(reduced, key=objective)\n",
    "        \n",
    "        \n",
    "        return res\n",
    "       \n",
    "    \n",
    "    p_t = p\n",
    "    a_map = {'0': 'l', '1': 'L', '2': 'r', '3': 'R'}\n",
    "    # first get strategy for initial state (2, 2)\n",
    "    start_x = [2, 2]\n",
    "    V_curr = get_cav_v(2, game_dict, states, p)[2, 2]\n",
    "    \n",
    "    lam_j, p_1, p_2 = optimization(p, V_curr, start_x, game_dict)\n",
    "    print(lam_j, p_1, p_2)\n",
    "    input()\n",
    "    \n",
    "    \n",
    "    # action for lam_1 \n",
    "    game_dict_1 = get_av_val(val_R_T, val_L_T, p_1)\n",
    "    game_dict_1 = dict(zip(s_pairs.flatten(), game_dict_1.flatten()))\n",
    "    game_dict_2 = get_av_val(val_R_T, val_L_T, p_2)\n",
    "    game_dict_2 = dict(zip(s_pairs.flatten(), game_dict_2.flatten()))\n",
    "\n",
    "    v_next_0 = get_cav_v(1, game_dict_1, states, p_1)\n",
    "    v_next_1 = get_cav_v(1, game_dict_2, states, p_2)\n",
    "    \n",
    "    pay_0 = np.zeros((4, 2))\n",
    "    pay_1 = np.zeros((4, 2))\n",
    "\n",
    "    pay_0[0, 0] = v_next_0[1, 1]\n",
    "    pay_0[0, 1] = v_next_0[1, 3]\n",
    "    pay_0[1, 0] = v_next_0[0, 1]\n",
    "    pay_0[1, 1] = v_next_0[0, 3]\n",
    "    pay_0[2, 0] = v_next_0[3, 1]\n",
    "    pay_0[2, 1] = v_next_0[3, 3]\n",
    "    pay_0[3, 0] = v_next_0[4, 1]\n",
    "    pay_0[3, 1] = v_next_0[4, 3]\n",
    "    \n",
    "    v_0 = np.max(np.min(pay_0, 1))\n",
    "    a_0 = None\n",
    "    a_0_idx = np.where(np.min(pay_0, 1) == v_0)[0] # check for same values\n",
    "    if len(a_0_idx) == 1:\n",
    "        a_0 = a_map[str(a_0_idx[0])]\n",
    "    elif len(a_0_idx) == 4:\n",
    "        a_0 = 'A'\n",
    "    else:\n",
    "        ac = ''\n",
    "        for a in a_0_idx:\n",
    "            ac += a_map[str(a)]\n",
    "        a_0 = ac\n",
    "\n",
    "    pay_1[0, 0] = v_next_1[1, 1]\n",
    "    pay_1[0, 1] = v_next_1[1, 3]\n",
    "    pay_1[1, 0] = v_next_1[0, 1]\n",
    "    pay_1[1, 1] = v_next_1[0, 3]\n",
    "    pay_1[2, 0] = v_next_1[3, 1]\n",
    "    pay_1[2, 1] = v_next_1[3, 3]\n",
    "    pay_1[3, 0] = v_next_1[4, 1]\n",
    "    pay_1[3, 1] = v_next_1[4, 3]\n",
    "    \n",
    "    v_1 = np.max(np.min(pay_1, 1))\n",
    "    a_1 = None\n",
    "    a_1_idx = np.where(np.min(pay_1, 1) == v_1)[0] # check for same values\n",
    "    if len(a_1_idx) == 1:\n",
    "        a_1 = a_map[str(a_1_idx[0])]\n",
    "    elif len(a_1_idx) == 4:\n",
    "        a_1 = 'A'\n",
    "    else:\n",
    "        ac = ''\n",
    "        for a in a_1_idx:\n",
    "            ac += a_map[str(a)]\n",
    "        a_1 = ac\n",
    "        \n",
    "    # calculate probability of each action\n",
    "    if p1_type == 0:\n",
    "        p_i = 1 - p\n",
    "        p_1j = 1 - p_1\n",
    "        p_2j = 1 - p_2\n",
    "    else:\n",
    "        p_i = p \n",
    "        p_1j = p_1\n",
    "        p_2j = p_2\n",
    "    \n",
    "    a0_p = (lam_j * p_1j)/p_i\n",
    "    a1_p = ((1-lam_j) * p_2j)/p_i\n",
    "    \n",
    "    print('At initial time, P1 has the following options: \\n')\n",
    "    print(f'P1 takes action {a_0} with probability {a0_p} and moves belief to {p_1}\\n')\n",
    "    print(f'P1 takes action {a_1} with probability {a1_p} and moves belief to {p_2}')\n",
    "    \n",
    "    # Now get strategy for second stage:\n",
    "    # assume we know action at t0 is A (anything)\n",
    "    \n",
    "#     a_0 = np.random.choice(list(a_map.keys()), size=1, p=[0.25, 0.25, 0.25, 0.25])\n",
    "#     print(a_map[a_0.item()])\n",
    "    p_t = p_2\n",
    "    \n",
    "    \n",
    "    return (a_0, lam_j, p_1), (a_1, 1-lam_j, p_2)"
   ]
  },
  {
   "cell_type": "code",
   "execution_count": 371,
   "metadata": {},
   "outputs": [],
   "source": [
    "num_states = 5\n",
    "# curr_x = [2, 2]\n",
    "p = 0.15\n",
    "p1_type = 1 # 0 for right, 1 for left\n",
    "average_game = get_av_val(val_R_T, val_L_T, p=p)\n",
    "average_dict = dict(zip(s_pairs.flatten(), average_game.flatten()))"
   ]
  },
  {
   "cell_type": "code",
   "execution_count": 372,
   "metadata": {},
   "outputs": [
    {
     "name": "stdout",
     "output_type": "stream",
     "text": [
      "0.7346938775510203 0.02040816326530612 0.5102040816326531\n",
      "\n",
      "At initial time, P1 has the following options: \n",
      "\n",
      "P1 takes action l with probability 0.09995835068721365 and moves belief to 0.02040816326530612\n",
      "\n",
      "P1 takes action r with probability 0.9024017770373459 and moves belief to 0.5102040816326531\n"
     ]
    }
   ],
   "source": [
    "l_1, l_2 = get_strategy(average_dict, s_pairs, p=p)"
   ]
  },
  {
   "cell_type": "code",
   "execution_count": null,
   "metadata": {},
   "outputs": [],
   "source": []
  },
  {
   "cell_type": "code",
   "execution_count": null,
   "metadata": {},
   "outputs": [],
   "source": []
  }
 ],
 "metadata": {
  "celltoolbar": "Tags",
  "kernelspec": {
   "display_name": "Python 3 (ipykernel)",
   "language": "python",
   "name": "python3"
  },
  "language_info": {
   "codemirror_mode": {
    "name": "ipython",
    "version": 3
   },
   "file_extension": ".py",
   "mimetype": "text/x-python",
   "name": "python",
   "nbconvert_exporter": "python",
   "pygments_lexer": "ipython3",
   "version": "3.6.10"
  }
 },
 "nbformat": 4,
 "nbformat_minor": 5
}
