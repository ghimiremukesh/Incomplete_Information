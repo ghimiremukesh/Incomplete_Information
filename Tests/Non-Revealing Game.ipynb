{
 "cells": [
  {
   "cell_type": "markdown",
   "metadata": {},
   "source": [
    "## Code for Non-Revealing Game"
   ]
  },
  {
   "cell_type": "code",
   "execution_count": 2,
   "metadata": {},
   "outputs": [
    {
     "name": "stderr",
     "output_type": "stream",
     "text": [
      "In /home/doi5/anaconda3/envs/siren/lib/python3.6/site-packages/matplotlib/mpl-data/stylelib/_classic_test.mplstyle: \n",
      "The text.latex.unicode rcparam was deprecated in Matplotlib 3.0 and will be removed in 3.2.\n",
      "In /home/doi5/anaconda3/envs/siren/lib/python3.6/site-packages/matplotlib/mpl-data/stylelib/_classic_test.mplstyle: \n",
      "The savefig.frameon rcparam was deprecated in Matplotlib 3.1 and will be removed in 3.3.\n",
      "In /home/doi5/anaconda3/envs/siren/lib/python3.6/site-packages/matplotlib/mpl-data/stylelib/_classic_test.mplstyle: \n",
      "The pgf.debug rcparam was deprecated in Matplotlib 3.0 and will be removed in 3.2.\n",
      "In /home/doi5/anaconda3/envs/siren/lib/python3.6/site-packages/matplotlib/mpl-data/stylelib/_classic_test.mplstyle: \n",
      "The verbose.level rcparam was deprecated in Matplotlib 3.1 and will be removed in 3.3.\n",
      "In /home/doi5/anaconda3/envs/siren/lib/python3.6/site-packages/matplotlib/mpl-data/stylelib/_classic_test.mplstyle: \n",
      "The verbose.fileo rcparam was deprecated in Matplotlib 3.1 and will be removed in 3.3.\n"
     ]
    }
   ],
   "source": [
    "import numpy as np\n",
    "import itertools\n",
    "import matplotlib.pyplot as plt\n",
    "import copy"
   ]
  },
  {
   "cell_type": "markdown",
   "metadata": {},
   "source": [
    "### Helper Functions"
   ]
  },
  {
   "cell_type": "code",
   "execution_count": 3,
   "metadata": {},
   "outputs": [],
   "source": [
    "# Helper function to print the payoff table\n",
    "def printMatrix(s):\n",
    "\n",
    "    # Do heading\n",
    "    print(\"     \", end=\"\")\n",
    "    for j in range(len(s[0])):\n",
    "        print(\"%5s \" % j, end=\"\")\n",
    "    print()\n",
    "    print(\"     \", end=\"\")\n",
    "    for j in range(len(s[0])):\n",
    "        print(\"------\", end=\"\")\n",
    "    print()\n",
    "    # Matrix contents\n",
    "    for i in range(len(s)):\n",
    "        print(\"%3s |\" % (i), end=\"\") # Row nums\n",
    "        for j in range(len(s[0])):\n",
    "            if type(s[i][j]) == np.float64:\n",
    "                temp = round(s[i][j], 2)\n",
    "            else:\n",
    "                temp = s[i][j]\n",
    "            print(\"%5s \" % (temp), end=\"\")\n",
    "        print()"
   ]
  },
  {
   "cell_type": "code",
   "execution_count": 4,
   "metadata": {},
   "outputs": [],
   "source": [
    "# get average payoff matrix of two types\n",
    "def get_av_val(val_r, val_l, p):\n",
    "    return p*val_l + (1-p)*val_r"
   ]
  },
  {
   "cell_type": "markdown",
   "metadata": {},
   "source": [
    "In the non-revealing game, we need to build the value function as: $V(x, t, p) = cav\\;\\;\\min_u \\max_v V(x', t+1, p)$. Previously we just built it as: $V(x, t, p) = \\min_u \\max_v V(x', t+1, p)$"
   ]
  },
  {
   "cell_type": "markdown",
   "metadata": {},
   "source": [
    "### Game Settings"
   ]
  },
  {
   "cell_type": "code",
   "execution_count": 5,
   "metadata": {},
   "outputs": [],
   "source": [
    "num_states = 5\n",
    "s = np.linspace(0, num_states-1, num_states)\n",
    "states = np.array(list(itertools.product(s, repeat=2)))"
   ]
  },
  {
   "cell_type": "markdown",
   "metadata": {},
   "source": [
    "### Value Function for any time t"
   ]
  },
  {
   "cell_type": "code",
   "execution_count": 6,
   "metadata": {},
   "outputs": [],
   "source": [
    "def get_inter_value(timestep, game_dict, states, returnstate=0):\n",
    "    \n",
    "    def get_game_dict(timestep, game_dict, states, valuefun = get_inter_value):\n",
    "        return valuefun(timestep, game_dict, states, returnstate=1)\n",
    "    \n",
    "    # get game dict for t-1 timestep to calculate value at t\n",
    "    if timestep > 1 and returnstate ==0:\n",
    "        temp_game = copy.deepcopy(game_dict)\n",
    "        for i in range(1, timestep):\n",
    "            average, _ = get_game_dict(i, temp_game, states)\n",
    "            temp_game = dict(zip(states.flatten(), average.flatten()))\n",
    "\n",
    "        game_dict = copy.deepcopy(temp_game)\n",
    "#         printMatrix(average)\n",
    "    \n",
    "    \n",
    "    temp = np.full(states.shape, np.nan)\n",
    "    action = np.full(states.shape, '%', dtype='U25')\n",
    "    p1_amap = {'0': 'l', '1': 'L', '2': 'r', '3': 'R'}\n",
    "    p2_amap = {'0': 'l', '1': 'r'}\n",
    "        \n",
    "        \n",
    "    # first row value # min max\n",
    "    for i in range(timestep):\n",
    "        for j in range(timestep, num_states-timestep):\n",
    "#             temp[i, j] = game_dict[states[i, j]]\n",
    "            payoff = np.zeros((4, 2)) \n",
    "            if i - 1 < 0:\n",
    "                new_L = i\n",
    "                new_l = i\n",
    "            elif i - 2 < 0:\n",
    "                new_L = i - 1\n",
    "                new_l = i - 1\n",
    "            else:\n",
    "                new_l = i - 1\n",
    "                new_L = i - 2\n",
    "            \n",
    "            payoff[0, 0] = game_dict[states[new_l, j-1]] # left left\n",
    "            payoff[0, 1] = game_dict[states[new_l, j+1]] # left right\n",
    "            payoff[1, 0] = game_dict[states[new_L, j-1]] # Left left\n",
    "            payoff[1, 1] = game_dict[states[new_L, j+1]] # Left right\n",
    "            payoff[2, 0] = game_dict[states[i+1, j-1]] # right left\n",
    "            payoff[2, 1] = game_dict[states[i+1, j+1]] # right right\n",
    "            payoff[3, 0] = game_dict[states[i+2, j-1]] # Right left\n",
    "            payoff[3, 1] = game_dict[states[i+2, j+1]] # Right right\n",
    "        \n",
    "            # find maximin\n",
    "            temp[i, j] = np.max(np.min(payoff, 1))\n",
    "            action_idx = np.where(np.min(payoff, 1) == temp[i, j])[0] # check for same values\n",
    "            if len(action_idx) == 1:\n",
    "                action[i, j] = p1_amap[str(action_idx[0])] \n",
    "            elif len(action_idx) == 4:\n",
    "                action[i, j] = 'A'\n",
    "            else:\n",
    "                ac = ''\n",
    "                for a in action_idx:\n",
    "                    ac += p1_amap[str(a)]\n",
    "                action[i, j] = ac\n",
    "    \n",
    "#     printMatrix(temp)\n",
    "    # last row value\n",
    "    for i in range(num_states - timestep, num_states):\n",
    "        for j in range(timestep, num_states-timestep):\n",
    "#             temp[i, j] = game_dict[states[i, j]]\n",
    "            payoff = np.zeros((4, 2)) \n",
    "            if i + 1 > num_states - 1:\n",
    "                new_R = i\n",
    "                new_r = i\n",
    "            elif i + 2 > num_states - 1:\n",
    "                new_r = i + 1 \n",
    "                new_R = i + 1\n",
    "            else:\n",
    "                new_r = i + 1\n",
    "                new_R = i + 2\n",
    "            \n",
    "            payoff[0, 0] = game_dict[states[i-1, j-1]] # left left\n",
    "            payoff[0, 1] = game_dict[states[i-1, j+1]] # left right\n",
    "            payoff[1, 0] = game_dict[states[i-2, j-1]] # Left left\n",
    "            payoff[1, 1] = game_dict[states[i-2, j+1]] # Left right\n",
    "            payoff[2, 0] = game_dict[states[new_r, j-1]] # right left\n",
    "            payoff[2, 1] = game_dict[states[new_r, j+1]] # right right\n",
    "            payoff[3, 0] = game_dict[states[new_R, j-1]] # Right left\n",
    "            payoff[3, 1] = game_dict[states[new_R, j+1]] # Right right\n",
    "        \n",
    "            # find maximin\n",
    "            temp[i, j] = np.max(np.min(payoff, 1))\n",
    "            action_idx = np.where(np.min(payoff, 1) == temp[i, j])[0] # check for same values\n",
    "            if len(action_idx) == 1:\n",
    "                action[i, j] = p1_amap[str(action_idx[0])] \n",
    "            elif len(action_idx) == 4:\n",
    "                action[i, j] = 'A'\n",
    "            else:\n",
    "                ac = ''\n",
    "                for a in action_idx:\n",
    "                    ac += p1_amap[str(a)]\n",
    "                action[i, j] = ac\n",
    "\n",
    "        \n",
    "    for i in range(timestep, num_states - timestep): # row\n",
    "        for j in range(timestep, num_states - timestep): # column\n",
    "            payoff = np.zeros((4, 2)) # payoff matrix for each game\n",
    "            if i - 2 < 0:\n",
    "                new_l = i - 1\n",
    "            else:\n",
    "                new_l = i - 2\n",
    "            if i + 2 > num_states - 1: #14:\n",
    "                new_r = i + 1\n",
    "            else:\n",
    "                new_r = i + 2\n",
    "                \n",
    "            payoff[0, 0] = game_dict[states[i-1, j-1]] # left left\n",
    "            payoff[0, 1] = game_dict[states[i-1, j+1]] # left right\n",
    "            payoff[1, 0] = game_dict[states[new_l, j-1]] # Left left\n",
    "            payoff[1, 1] = game_dict[states[new_l, j+1]] # Left right\n",
    "            payoff[2, 0] = game_dict[states[i+1, j-1]] # right left\n",
    "            payoff[2, 1] = game_dict[states[i+1, j+1]] # right right\n",
    "            payoff[3, 0] = game_dict[states[new_r, j-1]] # Right left\n",
    "            payoff[3, 1] = game_dict[states[new_r, j+1]] # Right right\n",
    "\n",
    "            # find maximin\n",
    "            temp[i, j] = np.max(np.min(payoff, 1))\n",
    "            action_idx = np.where(np.min(payoff, 1) == temp[i, j])[0] # check for same values\n",
    "            if len(action_idx) == 1:\n",
    "                action[i, j] = p1_amap[str(action_idx[0])] \n",
    "            elif len(action_idx) == 4:\n",
    "                action[i, j] = 'A'\n",
    "            else:\n",
    "                ac = ''\n",
    "                for a in action_idx:\n",
    "                    ac += p1_amap[str(a)]\n",
    "                action[i, j] = ac\n",
    "\n",
    "    return temp, action"
   ]
  },
  {
   "cell_type": "markdown",
   "metadata": {},
   "source": [
    "### Some Tests"
   ]
  },
  {
   "cell_type": "code",
   "execution_count": 7,
   "metadata": {},
   "outputs": [],
   "source": [
    "# payoff for P1: Type Left\n",
    "val_L_T = np.zeros((len(s), len(s)))\n",
    "for i in range(num_states):\n",
    "    val_L_T[np.triu_indices(num_states, k = i)] = i\n",
    "\n",
    "val_L_T = val_L_T.reshape(num_states, num_states)\n",
    "val_R_T = val_L_T.T"
   ]
  },
  {
   "cell_type": "code",
   "execution_count": 8,
   "metadata": {},
   "outputs": [],
   "source": [
    "s_pairs = np.array([[''.join(str(states[i, :])) for i in range(len(states))]])\n",
    "s_pairs = s_pairs.reshape(num_states, num_states)"
   ]
  },
  {
   "cell_type": "code",
   "execution_count": 9,
   "metadata": {},
   "outputs": [],
   "source": [
    "# set p\n",
    "p = 0.4\n",
    "\n",
    "average_game = get_av_val(val_R_T, val_L_T, p=p)\n",
    "average_dict = dict(zip(s_pairs.flatten(), average_game.flatten()))\n",
    "vi, _, = get_inter_value(1, average_dict, s_pairs)"
   ]
  },
  {
   "cell_type": "code",
   "execution_count": 10,
   "metadata": {},
   "outputs": [
    {
     "name": "stdout",
     "output_type": "stream",
     "text": [
      "         0     1     2     3     4 \n",
      "     ------------------------------\n",
      "  0 |  nan   0.4   0.4   0.8   nan \n",
      "  1 |  nan   0.6   0.4   0.8   nan \n",
      "  2 |  nan   1.2   0.6   0.8   nan \n",
      "  3 |  nan   1.2   0.6   0.4   nan \n",
      "  4 |  nan   1.2   0.6   0.4   nan \n"
     ]
    }
   ],
   "source": [
    "printMatrix(vi)"
   ]
  },
  {
   "cell_type": "code",
   "execution_count": 16,
   "metadata": {},
   "outputs": [
    {
     "data": {
      "text/plain": [
       "[<matplotlib.lines.Line2D at 0x7fe9802f5a90>]"
      ]
     },
     "execution_count": 16,
     "metadata": {},
     "output_type": "execute_result"
    },
    {
     "data": {
      "image/png": "[encoded data removed]",
      "text/plain": [
       "<Figure size 432x288 with 1 Axes>"
      ]
     },
     "metadata": {
      "needs_background": "light"
     },
     "output_type": "display_data"
    }
   ],
   "source": []
  },
  {
   "cell_type": "markdown",
   "metadata": {},
   "source": [
    "### Calculate Cav of V"
   ]
  },
  {
   "cell_type": "code",
   "execution_count": null,
   "metadata": {},
   "outputs": [],
   "source": []
  }
 ],
 "metadata": {
  "kernelspec": {
   "display_name": "Python 3 (ipykernel)",
   "language": "python",
   "name": "python3"
  },
  "language_info": {
   "codemirror_mode": {
    "name": "ipython",
    "version": 3
   },
   "file_extension": ".py",
   "mimetype": "text/x-python",
   "name": "python",
   "nbconvert_exporter": "python",
   "pygments_lexer": "ipython3",
   "version": "3.6.10"
  }
 },
 "nbformat": 4,
 "nbformat_minor": 5
}
