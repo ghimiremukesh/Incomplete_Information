{
 "cells": [
  {
   "cell_type": "markdown",
   "id": "4589ff6f",
   "metadata": {},
   "source": [
    "## Code for Non-Revealing Game"
   ]
  },
  {
   "cell_type": "code",
   "execution_count": 3,
   "id": "0981d73f",
   "metadata": {},
   "outputs": [],
   "source": [
    "import numpy as np\n",
    "import itertools\n",
    "import matplotlib.pyplot as plt\n",
    "import copy"
   ]
  },
  {
   "cell_type": "code",
   "execution_count": 201,
   "id": "e112e93c",
   "metadata": {},
   "outputs": [],
   "source": [
    "import scipy"
   ]
  },
  {
   "cell_type": "code",
   "execution_count": 202,
   "id": "3ee730f0",
   "metadata": {},
   "outputs": [
    {
     "data": {
      "text/plain": [
       "'1.7.3'"
      ]
     },
     "execution_count": 202,
     "metadata": {},
     "output_type": "execute_result"
    }
   ],
   "source": [
    "scipy.__version__"
   ]
  },
  {
   "cell_type": "markdown",
   "id": "238be156",
   "metadata": {},
   "source": [
    "### Helper Functions"
   ]
  },
  {
   "cell_type": "code",
   "execution_count": 4,
   "id": "f0c6df79",
   "metadata": {},
   "outputs": [],
   "source": [
    "# Helper function to print the payoff table\n",
    "def printMatrix(s):\n",
    "\n",
    "    # Do heading\n",
    "    print(\"     \", end=\"\")\n",
    "    for j in range(len(s[0])):\n",
    "        print(\"%5s \" % j, end=\"\")\n",
    "    print()\n",
    "    print(\"     \", end=\"\")\n",
    "    for j in range(len(s[0])):\n",
    "        print(\"------\", end=\"\")\n",
    "    print()\n",
    "    # Matrix contents\n",
    "    for i in range(len(s)):\n",
    "        print(\"%3s |\" % (i), end=\"\") # Row nums\n",
    "        for j in range(len(s[0])):\n",
    "            if type(s[i][j]) == np.float64:\n",
    "                temp = round(s[i][j], 2)\n",
    "            else:\n",
    "                temp = s[i][j]\n",
    "            print(\"%5s \" % (temp), end=\"\")\n",
    "        print()"
   ]
  },
  {
   "cell_type": "code",
   "execution_count": 5,
   "id": "2b093599",
   "metadata": {},
   "outputs": [],
   "source": [
    "# get average payoff matrix of two types\n",
    "def get_av_val(val_r, val_l, p):\n",
    "    return p*val_l + (1-p)*val_r"
   ]
  },
  {
   "cell_type": "markdown",
   "id": "0bda1fa1",
   "metadata": {},
   "source": [
    "In the non-revealing game, we need to build the value function as: $V(x, t, p) = cav\\;\\;\\max_u \\min_v V(x', t+1, p)$. Previously we just built it as: $V(x, t, p) = \\max_u \\min_v V(x', t+1, p)$"
   ]
  },
  {
   "cell_type": "markdown",
   "id": "c9427936",
   "metadata": {},
   "source": [
    "### Game Settings"
   ]
  },
  {
   "cell_type": "code",
   "execution_count": 6,
   "id": "3e4e2188",
   "metadata": {},
   "outputs": [],
   "source": [
    "num_states = 5\n",
    "s = np.linspace(0, num_states-1, num_states)\n",
    "states = np.array(list(itertools.product(s, repeat=2)))"
   ]
  },
  {
   "cell_type": "markdown",
   "id": "e8a66c33",
   "metadata": {},
   "source": [
    "### Value Function for any time t"
   ]
  },
  {
   "cell_type": "code",
   "execution_count": 7,
   "id": "556ffd4a",
   "metadata": {},
   "outputs": [],
   "source": [
    "def get_inter_value(timestep, game_dict, states, returnstate=0):\n",
    "    \n",
    "    def get_game_dict(timestep, game_dict, states, valuefun = get_inter_value):\n",
    "        return valuefun(timestep, game_dict, states, returnstate=1)\n",
    "    \n",
    "    # get game dict for t-1 timestep to calculate value at t\n",
    "    if timestep > 1 and returnstate ==0:\n",
    "        temp_game = copy.deepcopy(game_dict)\n",
    "        for i in range(1, timestep):\n",
    "            average, _ = get_game_dict(i, temp_game, states)\n",
    "            temp_game = dict(zip(states.flatten(), average.flatten()))\n",
    "\n",
    "        game_dict = copy.deepcopy(temp_game)\n",
    "#         printMatrix(average)\n",
    "    \n",
    "    \n",
    "    temp = np.full(states.shape, np.nan)\n",
    "    action = np.full(states.shape, '%', dtype='U25')\n",
    "    p1_amap = {'0': 'l', '1': 'L', '2': 'r', '3': 'R'}\n",
    "    p2_amap = {'0': 'l', '1': 'r'}\n",
    "        \n",
    "        \n",
    "    # first row value # min max\n",
    "    for i in range(timestep):\n",
    "        for j in range(timestep, num_states-timestep):\n",
    "#             temp[i, j] = game_dict[states[i, j]]\n",
    "            payoff = np.zeros((4, 2)) \n",
    "            if i - 1 < 0:\n",
    "                new_L = i\n",
    "                new_l = i\n",
    "            elif i - 2 < 0:\n",
    "                new_L = i - 1\n",
    "                new_l = i - 1\n",
    "            else:\n",
    "                new_l = i - 1\n",
    "                new_L = i - 2\n",
    "            \n",
    "            payoff[0, 0] = game_dict[states[new_l, j-1]] # left left\n",
    "            payoff[0, 1] = game_dict[states[new_l, j+1]] # left right\n",
    "            payoff[1, 0] = game_dict[states[new_L, j-1]] # Left left\n",
    "            payoff[1, 1] = game_dict[states[new_L, j+1]] # Left right\n",
    "            payoff[2, 0] = game_dict[states[i+1, j-1]] # right left\n",
    "            payoff[2, 1] = game_dict[states[i+1, j+1]] # right right\n",
    "            payoff[3, 0] = game_dict[states[i+2, j-1]] # Right left\n",
    "            payoff[3, 1] = game_dict[states[i+2, j+1]] # Right right\n",
    "        \n",
    "            # find maximin\n",
    "            temp[i, j] = np.max(np.min(payoff, 1))\n",
    "            action_idx = np.where(np.min(payoff, 1) == temp[i, j])[0] # check for same values\n",
    "            if len(action_idx) == 1:\n",
    "                action[i, j] = p1_amap[str(action_idx[0])] \n",
    "            elif len(action_idx) == 4:\n",
    "                action[i, j] = 'A'\n",
    "            else:\n",
    "                ac = ''\n",
    "                for a in action_idx:\n",
    "                    ac += p1_amap[str(a)]\n",
    "                action[i, j] = ac\n",
    "    \n",
    "#     printMatrix(temp)\n",
    "    # last row value\n",
    "    for i in range(num_states - timestep, num_states):\n",
    "        for j in range(timestep, num_states-timestep):\n",
    "#             temp[i, j] = game_dict[states[i, j]]\n",
    "            payoff = np.zeros((4, 2)) \n",
    "            if i + 1 > num_states - 1:\n",
    "                new_R = i\n",
    "                new_r = i\n",
    "            elif i + 2 > num_states - 1:\n",
    "                new_r = i + 1 \n",
    "                new_R = i + 1\n",
    "            else:\n",
    "                new_r = i + 1\n",
    "                new_R = i + 2\n",
    "            \n",
    "            payoff[0, 0] = game_dict[states[i-1, j-1]] # left left\n",
    "            payoff[0, 1] = game_dict[states[i-1, j+1]] # left right\n",
    "            payoff[1, 0] = game_dict[states[i-2, j-1]] # Left left\n",
    "            payoff[1, 1] = game_dict[states[i-2, j+1]] # Left right\n",
    "            payoff[2, 0] = game_dict[states[new_r, j-1]] # right left\n",
    "            payoff[2, 1] = game_dict[states[new_r, j+1]] # right right\n",
    "            payoff[3, 0] = game_dict[states[new_R, j-1]] # Right left\n",
    "            payoff[3, 1] = game_dict[states[new_R, j+1]] # Right right\n",
    "        \n",
    "            # find maximin\n",
    "            temp[i, j] = np.max(np.min(payoff, 1))\n",
    "            action_idx = np.where(np.min(payoff, 1) == temp[i, j])[0] # check for same values\n",
    "            if len(action_idx) == 1:\n",
    "                action[i, j] = p1_amap[str(action_idx[0])] \n",
    "            elif len(action_idx) == 4:\n",
    "                action[i, j] = 'A'\n",
    "            else:\n",
    "                ac = ''\n",
    "                for a in action_idx:\n",
    "                    ac += p1_amap[str(a)]\n",
    "                action[i, j] = ac\n",
    "\n",
    "        \n",
    "    for i in range(timestep, num_states - timestep): # row\n",
    "        for j in range(timestep, num_states - timestep): # column\n",
    "            payoff = np.zeros((4, 2)) # payoff matrix for each game\n",
    "            if i - 2 < 0:\n",
    "                new_l = i - 1\n",
    "            else:\n",
    "                new_l = i - 2\n",
    "            if i + 2 > num_states - 1: #14:\n",
    "                new_r = i + 1\n",
    "            else:\n",
    "                new_r = i + 2\n",
    "                \n",
    "            payoff[0, 0] = game_dict[states[i-1, j-1]] # left left\n",
    "            payoff[0, 1] = game_dict[states[i-1, j+1]] # left right\n",
    "            payoff[1, 0] = game_dict[states[new_l, j-1]] # Left left\n",
    "            payoff[1, 1] = game_dict[states[new_l, j+1]] # Left right\n",
    "            payoff[2, 0] = game_dict[states[i+1, j-1]] # right left\n",
    "            payoff[2, 1] = game_dict[states[i+1, j+1]] # right right\n",
    "            payoff[3, 0] = game_dict[states[new_r, j-1]] # Right left\n",
    "            payoff[3, 1] = game_dict[states[new_r, j+1]] # Right right\n",
    "\n",
    "            # find maximin\n",
    "            temp[i, j] = np.max(np.min(payoff, 1))\n",
    "            action_idx = np.where(np.min(payoff, 1) == temp[i, j])[0] # check for same values\n",
    "            if len(action_idx) == 1:\n",
    "                action[i, j] = p1_amap[str(action_idx[0])] \n",
    "            elif len(action_idx) == 4:\n",
    "                action[i, j] = 'A'\n",
    "            else:\n",
    "                ac = ''\n",
    "                for a in action_idx:\n",
    "                    ac += p1_amap[str(a)]\n",
    "                action[i, j] = ac\n",
    "\n",
    "    return temp, action"
   ]
  },
  {
   "cell_type": "markdown",
   "id": "a07fa7f8",
   "metadata": {},
   "source": [
    "### Some Tests"
   ]
  },
  {
   "cell_type": "code",
   "execution_count": 8,
   "id": "37318917",
   "metadata": {},
   "outputs": [],
   "source": [
    "# payoff for P1: Type Left\n",
    "val_L_T = np.zeros((len(s), len(s)))\n",
    "for i in range(num_states):\n",
    "    val_L_T[np.triu_indices(num_states, k = i)] = i\n",
    "\n",
    "val_L_T = val_L_T.reshape(num_states, num_states)\n",
    "val_R_T = val_L_T.T"
   ]
  },
  {
   "cell_type": "code",
   "execution_count": 9,
   "id": "5bdeab59",
   "metadata": {},
   "outputs": [],
   "source": [
    "s_pairs = np.array([[''.join(str(states[i, :])) for i in range(len(states))]])\n",
    "s_pairs = s_pairs.reshape(num_states, num_states)"
   ]
  },
  {
   "cell_type": "code",
   "execution_count": 10,
   "id": "883490f1",
   "metadata": {},
   "outputs": [],
   "source": [
    "# set p\n",
    "p = 0.33\n",
    "timestep = 1\n",
    "\n",
    "average_game = get_av_val(val_R_T, val_L_T, p=p)\n",
    "average_dict = dict(zip(s_pairs.flatten(), average_game.flatten()))\n",
    "cav_v, _, = get_inter_value(1, average_dict, s_pairs)\n",
    "ps = np.linspace(0, 1, 50)\n",
    "cav_test = np.zeros((5, 5, len(ps)))\n",
    "for i in range(len(ps)):\n",
    "    average_game = get_av_val(val_R_T, val_L_T, p=ps[i])\n",
    "    average_dict = dict(zip(s_pairs.flatten(), average_game.flatten()))\n",
    "    temp, _ = get_inter_value(1, average_dict, s_pairs)\n",
    "    cav_test[:, :, i] = temp\n",
    "    \n",
    "for row in range(5):\n",
    "    for col in range(timestep, num_states-timestep):\n",
    "        vals = cav_test[row, col, :]\n",
    "        if len(np.where(vals == np.max(vals))[0]) > 1:\n",
    "            p_min = ps[np.where(vals == np.max(vals))[0][0]]\n",
    "            p_max = ps[np.where(vals == np.max(vals))[0][-1]]    \n",
    "            if p > p_min and p < p_max:\n",
    "                cav_v[row, col] = np.max(vals)"
   ]
  },
  {
   "cell_type": "code",
   "execution_count": 11,
   "id": "99a238e8",
   "metadata": {},
   "outputs": [
    {
     "name": "stdout",
     "output_type": "stream",
     "text": [
      "         0     1     2     3     4 \n",
      "     ------------------------------\n",
      "  0 |  nan  0.33  0.33  0.66   nan \n",
      "  1 |  nan  0.67  0.33  0.66   nan \n",
      "  2 |  nan  1.34   1.0  0.66   nan \n",
      "  3 |  nan  1.34  0.67  0.33   nan \n",
      "  4 |  nan  1.34  0.67  0.33   nan \n"
     ]
    }
   ],
   "source": [
    "printMatrix(cav_v)"
   ]
  },
  {
   "cell_type": "code",
   "execution_count": 12,
   "id": "076dc460",
   "metadata": {},
   "outputs": [
    {
     "name": "stdout",
     "output_type": "stream",
     "text": [
      "         0     1     2     3     4 \n",
      "     ------------------------------\n",
      "  0 |  nan  0.33  0.33  0.66   nan \n",
      "  1 |  nan  0.67  0.33  0.66   nan \n",
      "  2 |  nan  1.34   1.0  0.66   nan \n",
      "  3 |  nan  1.34  0.67  0.33   nan \n",
      "  4 |  nan  1.34  0.67  0.33   nan \n"
     ]
    }
   ],
   "source": [
    "printMatrix(cav_v)"
   ]
  },
  {
   "cell_type": "code",
   "execution_count": 13,
   "id": "c6f49281",
   "metadata": {},
   "outputs": [
    {
     "data": {
      "text/plain": [
       "[<matplotlib.lines.Line2D at 0x10fe81ac0>]"
      ]
     },
     "execution_count": 13,
     "metadata": {},
     "output_type": "execute_result"
    },
    {
     "data": {
      "image/png": "[encoded data removed]",
      "text/plain": [
       "<Figure size 432x288 with 1 Axes>"
      ]
     },
     "metadata": {
      "needs_background": "light"
     },
     "output_type": "display_data"
    }
   ],
   "source": [
    "plt.plot(ps, cav_test[1, 1, :])"
   ]
  },
  {
   "cell_type": "code",
   "execution_count": 14,
   "id": "09ed9dff",
   "metadata": {},
   "outputs": [
    {
     "data": {
      "text/plain": [
       "1.0"
      ]
     },
     "execution_count": 14,
     "metadata": {},
     "output_type": "execute_result"
    }
   ],
   "source": [
    "cav_v[2, 2]"
   ]
  },
  {
   "cell_type": "code",
   "execution_count": 13,
   "id": "7771d2e7",
   "metadata": {},
   "outputs": [
    {
     "name": "stdout",
     "output_type": "stream",
     "text": [
      "         0     1     2     3     4 \n",
      "     ------------------------------\n",
      "  0 |  0.0   0.5   1.0   1.5   2.0 \n",
      "  1 |  0.5   0.0   0.5   1.0   1.5 \n",
      "  2 |  1.0   0.5   0.0   0.5   1.0 \n",
      "  3 |  1.5   1.0   0.5   0.0   0.5 \n",
      "  4 |  2.0   1.5   1.0   0.5   0.0 \n"
     ]
    }
   ],
   "source": [
    "printMatrix(get_av_val(val_R_T, val_L_T, p = 0.5))"
   ]
  },
  {
   "cell_type": "markdown",
   "id": "7f672e8d",
   "metadata": {},
   "source": [
    "### Calculate Cav of V -- For 2 Time steps (state_dim = 5)"
   ]
  },
  {
   "cell_type": "code",
   "execution_count": 231,
   "id": "b3ff14be",
   "metadata": {},
   "outputs": [],
   "source": [
    "from scipy.spatial import ConvexHull, convex_hull_plot_2d\n",
    "\n",
    "def get_cav_v(timestep, game_dict, states, p, returnstate=0):\n",
    "    \n",
    "    def get_game_dict(timestep, game_dict, states, p, valuefun = get_cav_v):\n",
    "        return valuefun(timestep, game_dict, states, p, returnstate=1)\n",
    "    \n",
    "    if timestep == 1:\n",
    "        cavs = None # for bebugging \n",
    "        cav_v, _, = get_inter_value(1, game_dict, states)\n",
    "        ps = np.linspace(0, 1, 100)\n",
    "        cavs = np.zeros((5, 5, len(ps)))\n",
    "        for i in range(len(ps)):\n",
    "            average_game = get_av_val(val_R_T, val_L_T, p=ps[i])\n",
    "            average_dict = dict(zip(s_pairs.flatten(), average_game.flatten()))\n",
    "            temp, _ = get_inter_value(1, average_dict, s_pairs)\n",
    "            cavs[:, :, i] = temp\n",
    "\n",
    "        for row in range(5):\n",
    "            for col in range(timestep, num_states-timestep):\n",
    "                vals = cavs[row, col, :]\n",
    "                v = vals.reshape(-1, 1)\n",
    "                x = ps.reshape(-1, 1)\n",
    "                points = np.hstack((x, v))\n",
    "                try:\n",
    "                    hull = ConvexHull(points)\n",
    "#                     convex_hull_plot_2d(hull)\n",
    "                    p_min = points[hull.vertices[2:]][1, 0]\n",
    "                    p_max = points[hull.vertices[2:]][0, 0]\n",
    "                    if p_min <= p <= p_max:\n",
    "                        cav_v[row, col] = points[hull.vertices[2:]][1, 1]\n",
    "                except:\n",
    "                    pass\n",
    "\n",
    "    # FORGOT TO IMPLEMENT MAX MIN AT SECOND TIMESTEP\n",
    "    # TODO: IMPLEMENT MAX MIN \n",
    "    # cavs stores max min V(t=1)\n",
    "    \n",
    "    if timestep > 1 and returnstate==0:\n",
    "        ps = np.linspace(0, 1, 100)\n",
    "        cavs = np.zeros((num_states, num_states, len(ps)))\n",
    "        for k in range(len(ps)):\n",
    "            av_game = get_av_val(val_R_T, val_L_T, p=ps[k])\n",
    "            av_dict = dict(zip(states.flatten(), av_game.flatten()))\n",
    "            temp = get_game_dict(1, av_dict, states, p=ps[k])\n",
    "            maximin = np.full(states.shape, np.nan)\n",
    "            # Now do max min\n",
    "            for i in range(num_states):\n",
    "                for j in range(timestep, num_states-timestep): \n",
    "                    payoff = np.zeros((4, 2))\n",
    "                    if i - 1 < 0:\n",
    "                        new_L = i\n",
    "                        new_l = i\n",
    "                    elif i - 2 < 0:\n",
    "                        new_L = i - 1\n",
    "                        new_l = i - 1\n",
    "                    else:\n",
    "                        new_l = i - 1\n",
    "                        new_L = i - 2\n",
    "\n",
    "                    if i + 1 > num_states - 1:\n",
    "                        new_R = i\n",
    "                        new_r = i\n",
    "                    elif i + 2 > num_states - 1:\n",
    "                        new_r = i + 1 \n",
    "                        new_R = i + 1\n",
    "                    else:\n",
    "                        new_r = i + 1\n",
    "                        new_R = i + 2\n",
    "                        \n",
    "                    payoff[0, 0] = temp[new_l, j-1] # left left\n",
    "                    payoff[0, 1] = temp[new_l, j+1] # left right\n",
    "                    payoff[1, 0] = temp[new_L, j-1] # Left left\n",
    "                    payoff[1, 1] = temp[new_L, j+1] # Left right\n",
    "                    payoff[2, 0] = temp[new_r, j-1] # right left\n",
    "                    payoff[2, 1] = temp[new_r, j+1] # right right\n",
    "                    payoff[3, 0] = temp[new_R, j-1] # Right left\n",
    "                    payoff[3, 1] = temp[new_R, j+1] # Right right\n",
    "                    \n",
    "                    maximin[i, j] = np.max(np.min(payoff, 1))\n",
    "#                     printMatrix(temp)\n",
    "#                     print(payoff)\n",
    "#                     input()\n",
    "            \n",
    "            cavs[:, :, k] = maximin\n",
    "        \n",
    "        # find value at t = 2 \n",
    "        av_game = get_av_val(val_R_T, val_L_T, p=p)\n",
    "        av_dict = dict(zip(states.flatten(), av_game.flatten())) \n",
    "        cav_v, _, = get_inter_value(timestep, av_dict, states)\n",
    "        temp = get_game_dict(1, av_dict, states, p=p)\n",
    "        for i in range(num_states):\n",
    "            for j in range(timestep, num_states-timestep):\n",
    "                payoff = np.zeros((4, 2))\n",
    "                if i - 1 < 0:\n",
    "                    new_L = i\n",
    "                    new_l = i\n",
    "                elif i - 2 < 0:\n",
    "                    new_L = i - 1\n",
    "                    new_l = i - 1\n",
    "                else:\n",
    "                    new_l = i - 1\n",
    "                    new_L = i - 2\n",
    "\n",
    "                if i + 1 > num_states - 1:\n",
    "                    new_R = i\n",
    "                    new_r = i\n",
    "                elif i + 2 > num_states - 1:\n",
    "                    new_r = i + 1 \n",
    "                    new_R = i + 1\n",
    "                else:\n",
    "                    new_r = i + 1\n",
    "                    new_R = i + 2\n",
    "\n",
    "                payoff[0, 0] = temp[new_l, j-1] # left left\n",
    "                payoff[0, 1] = temp[new_l, j+1] # left right\n",
    "                payoff[1, 0] = temp[new_L, j-1] # Left left\n",
    "                payoff[1, 1] = temp[new_L, j+1] # Left right\n",
    "                payoff[2, 0] = temp[new_r, j-1] # right left\n",
    "                payoff[2, 1] = temp[new_r, j+1] # right right\n",
    "                payoff[3, 0] = temp[new_R, j-1] # Right left\n",
    "                payoff[3, 1] = temp[new_R, j+1] # Right right\n",
    "\n",
    "                cav_v[i, j] = np.max(np.min(payoff, 1))\n",
    "                 \n",
    "                \n",
    "        for row in range(num_states):\n",
    "            for col in range(timestep, num_states-timestep):\n",
    "                vals = cavs[row, col, :]\n",
    "                v = vals.reshape(-1, 1)\n",
    "                x = ps.reshape(-1, 1)\n",
    "                points = np.hstack((x, v))\n",
    "                try:\n",
    "                    hull = ConvexHull(points)\n",
    "                    convex_hull_plot_2d(hull)\n",
    "                    plt.show()\n",
    "                    p_min = points[hull.vertices[2:]][1, 0]\n",
    "                    p_max = points[hull.vertices[2:]][0, 0]\n",
    "                    if p_min <= p <= p_max:\n",
    "                        cav_v[row, col] = points[hull.vertices[2:]][1, 1]\n",
    "                except:\n",
    "                    pass\n",
    "                        \n",
    "\n",
    "    return cav_v"
   ]
  },
  {
   "cell_type": "code",
   "execution_count": 232,
   "id": "9c763d0d",
   "metadata": {},
   "outputs": [
    {
     "data": {
      "image/png": "[encoded data removed]",
      "text/plain": [
       "<Figure size 432x288 with 1 Axes>"
      ]
     },
     "metadata": {
      "needs_background": "light"
     },
     "output_type": "display_data"
    },
    {
     "data": {
      "image/png": "[encoded data removed]",
      "text/plain": [
       "<Figure size 432x288 with 1 Axes>"
      ]
     },
     "metadata": {
      "needs_background": "light"
     },
     "output_type": "display_data"
    },
    {
     "data": {
      "image/png": "[encoded data removed]",
      "text/plain": [
       "<Figure size 432x288 with 1 Axes>"
      ]
     },
     "metadata": {
      "needs_background": "light"
     },
     "output_type": "display_data"
    },
    {
     "data": {
      "image/png": "[encoded data removed]",
      "text/plain": [
       "<Figure size 432x288 with 1 Axes>"
      ]
     },
     "metadata": {
      "needs_background": "light"
     },
     "output_type": "display_data"
    },
    {
     "data": {
      "image/png": "[encoded data removed]",
      "text/plain": [
       "<Figure size 432x288 with 1 Axes>"
      ]
     },
     "metadata": {
      "needs_background": "light"
     },
     "output_type": "display_data"
    },
    {
     "name": "stdout",
     "output_type": "stream",
     "text": [
      "         0     1     2     3     4 \n",
      "     ------------------------------\n",
      "  0 |  nan   nan   0.8   nan   nan \n",
      "  1 |  nan   nan   0.8   nan   nan \n",
      "  2 |  nan   nan  0.67   nan   nan \n",
      "  3 |  nan   nan   0.8   nan   nan \n",
      "  4 |  nan   nan   0.8   nan   nan \n"
     ]
    }
   ],
   "source": [
    "num_states = 5\n",
    "average_game = get_av_val(val_R_T, val_L_T, p=0.5)\n",
    "average_dict = dict(zip(s_pairs.flatten(), average_game.flatten()))\n",
    "printMatrix(get_cav_v(2, average_dict, s_pairs, p=0.4))"
   ]
  },
  {
   "cell_type": "code",
   "execution_count": 168,
   "id": "fcbe8587",
   "metadata": {},
   "outputs": [
    {
     "data": {
      "text/plain": [
       "0"
      ]
     },
     "execution_count": 168,
     "metadata": {},
     "output_type": "execute_result"
    }
   ],
   "source": []
  },
  {
   "cell_type": "code",
   "execution_count": 111,
   "id": "4a84580f",
   "metadata": {},
   "outputs": [],
   "source": [
    "def get_cav_v(timestep, game_dict, states, p, returnstate=0):\n",
    "    \n",
    "    def get_game_dict(timestep, game_dict, states, p, valuefun = get_cav_v):\n",
    "        return valuefun(timestep, game_dict, states, p, returnstate=1)\n",
    "    \n",
    "    if timestep == 1:\n",
    "        cavs = None # for bebugging \n",
    "        cav_v, _, = get_inter_value(1, game_dict, states)\n",
    "        ps = np.linspace(0, 1, 60)\n",
    "        cav_test = np.zeros((5, 5, len(ps)))\n",
    "        for i in range(len(ps)):\n",
    "            average_game = get_av_val(val_R_T, val_L_T, p=ps[i])\n",
    "            average_dict = dict(zip(s_pairs.flatten(), average_game.flatten()))\n",
    "            temp, _ = get_inter_value(1, average_dict, s_pairs)\n",
    "            cav_test[:, :, i] = temp\n",
    "\n",
    "        for row in range(5):\n",
    "            for col in range(timestep, num_states-timestep):\n",
    "                vals = cav_test[row, col, :]\n",
    "                if len(np.where(vals == np.max(vals))[0]) > 1:\n",
    "                    p_min = ps[np.where(vals == np.max(vals))[0][0]]\n",
    "                    p_max = ps[np.where(vals == np.max(vals))[0][-1]]\n",
    "                    if p > p_min and p < p_max:\n",
    "                        cav_v[row, col] = np.max(vals)\n",
    "\n",
    "    # FORGOT TO IMPLEMENT MAX MIN AT SECOND TIMESTEP\n",
    "    # TODO: IMPLEMENT MAX MIN \n",
    "    # cavs stores max min V(t=1)\n",
    "    \n",
    "    if timestep > 1 and returnstate==0:\n",
    "        ps = np.linspace(0, 1, 60)\n",
    "        cavs = np.zeros((num_states, num_states, len(ps)))\n",
    "        for k in range(len(ps)):\n",
    "            av_game = get_av_val(val_R_T, val_L_T, p=ps[k])\n",
    "            av_dict = dict(zip(states.flatten(), av_game.flatten()))\n",
    "            temp = get_game_dict(1, av_dict, states, p=ps[k])\n",
    "            maximin = np.full(states.shape, np.nan)\n",
    "            # Now do max min\n",
    "            for i in range(num_states):\n",
    "                for j in range(timestep, num_states-timestep): \n",
    "                    payoff = np.zeros((4, 2))\n",
    "                    if i - 1 < 0:\n",
    "                        new_L = i\n",
    "                        new_l = i\n",
    "                    elif i - 2 < 0:\n",
    "                        new_L = i - 1\n",
    "                        new_l = i - 1\n",
    "                    else:\n",
    "                        new_l = i - 1\n",
    "                        new_L = i - 2\n",
    "\n",
    "                    if i + 1 > num_states - 1:\n",
    "                        new_R = i\n",
    "                        new_r = i\n",
    "                    elif i + 2 > num_states - 1:\n",
    "                        new_r = i + 1 \n",
    "                        new_R = i + 1\n",
    "                    else:\n",
    "                        new_r = i + 1\n",
    "                        new_R = i + 2\n",
    "                        \n",
    "                    payoff[0, 0] = temp[new_l, j-1] # left left\n",
    "                    payoff[0, 1] = temp[new_l, j+1] # left right\n",
    "                    payoff[1, 0] = temp[new_L, j-1] # Left left\n",
    "                    payoff[1, 1] = temp[new_L, j+1] # Left right\n",
    "                    payoff[2, 0] = temp[new_r, j-1] # right left\n",
    "                    payoff[2, 1] = temp[new_r, j+1] # right right\n",
    "                    payoff[3, 0] = temp[new_R, j-1] # Right left\n",
    "                    payoff[3, 1] = temp[new_R, j+1] # Right right\n",
    "                    \n",
    "                    maximin[i, j] = np.max(np.min(payoff, 1))\n",
    "#                     printMatrix(temp)\n",
    "#                     print(payoff)\n",
    "#                     input()\n",
    "            \n",
    "            cavs[:, :, k] = maximin\n",
    "        \n",
    "        # find value at t = 2 \n",
    "        av_game = get_av_val(val_R_T, val_L_T, p=p)\n",
    "        av_dict = dict(zip(states.flatten(), av_game.flatten())) \n",
    "        cav_v, _, = get_inter_value(timestep, av_dict, states)\n",
    "        temp = get_game_dict(1, av_dict, states, p=p)\n",
    "        for i in range(num_states):\n",
    "            for j in range(timestep, num_states-timestep):\n",
    "                payoff = np.zeros((4, 2))\n",
    "                if i - 1 < 0:\n",
    "                    new_L = i\n",
    "                    new_l = i\n",
    "                elif i - 2 < 0:\n",
    "                    new_L = i - 1\n",
    "                    new_l = i - 1\n",
    "                else:\n",
    "                    new_l = i - 1\n",
    "                    new_L = i - 2\n",
    "\n",
    "                if i + 1 > num_states - 1:\n",
    "                    new_R = i\n",
    "                    new_r = i\n",
    "                elif i + 2 > num_states - 1:\n",
    "                    new_r = i + 1 \n",
    "                    new_R = i + 1\n",
    "                else:\n",
    "                    new_r = i + 1\n",
    "                    new_R = i + 2\n",
    "\n",
    "                payoff[0, 0] = temp[new_l, j-1] # left left\n",
    "                payoff[0, 1] = temp[new_l, j+1] # left right\n",
    "                payoff[1, 0] = temp[new_L, j-1] # Left left\n",
    "                payoff[1, 1] = temp[new_L, j+1] # Left right\n",
    "                payoff[2, 0] = temp[new_r, j-1] # right left\n",
    "                payoff[2, 1] = temp[new_r, j+1] # right right\n",
    "                payoff[3, 0] = temp[new_R, j-1] # Right left\n",
    "                payoff[3, 1] = temp[new_R, j+1] # Right right\n",
    "\n",
    "                cav_v[i, j] = np.max(np.min(payoff, 1))\n",
    "                 \n",
    "                \n",
    "        for row in range(num_states):\n",
    "            for col in range(timestep, num_states-timestep):\n",
    "                vals = cavs[row, col, :]\n",
    "                if len(np.where(vals == np.max(vals))[0]) > 1:\n",
    "                    p_min = ps[np.where(vals == np.max(vals))[0][0]]\n",
    "                    p_max = ps[np.where(vals == np.max(vals))[0][-1]]\n",
    "                    \n",
    "                    if p >= p_min and p <= p_max:\n",
    "                        cav_v[row, col] = np.max(vals)  \n",
    "                        \n",
    "#         for i in range(len(ps)):\n",
    "#             plt.plot(cavs[:, :, i])\n",
    "                    \n",
    "    return cav_v"
   ]
  },
  {
   "cell_type": "code",
   "execution_count": 87,
   "id": "64d388db",
   "metadata": {},
   "outputs": [
    {
     "name": "stdout",
     "output_type": "stream",
     "text": [
      "         0     1     2     3     4 \n",
      "     ------------------------------\n",
      "  0 |  nan  0.33  0.67  1.34   nan \n",
      "  1 |  nan  0.33  0.67  1.34   nan \n",
      "  2 |  nan  0.66   1.0  1.34   nan \n",
      "  3 |  nan  0.66  0.33  0.67   nan \n",
      "  4 |  nan  0.66  0.33  0.33   nan \n"
     ]
    }
   ],
   "source": [
    "num_states = 5\n",
    "average_game = get_av_val(val_R_T, val_L_T, p=0.67)\n",
    "average_dict = dict(zip(s_pairs.flatten(), average_game.flatten()))\n",
    "printMatrix(get_cav_v(1, average_dict, s_pairs, p=0.9))"
   ]
  },
  {
   "cell_type": "code",
   "execution_count": 88,
   "id": "5aefe171",
   "metadata": {},
   "outputs": [
    {
     "name": "stdout",
     "output_type": "stream",
     "text": [
      "         0     1     2     3     4 \n",
      "     ------------------------------\n",
      "  0 |  nan  0.33  0.67  1.34   nan \n",
      "  1 |  nan  0.33  0.67  1.34   nan \n",
      "  2 |  nan  0.66   1.0  1.34   nan \n",
      "  3 |  nan  0.66  0.33  0.67   nan \n",
      "  4 |  nan  0.66  0.33  0.33   nan \n"
     ]
    }
   ],
   "source": [
    "printMatrix(get_cav_v(1, average_dict, s_pairs, p=0.66))"
   ]
  },
  {
   "cell_type": "code",
   "execution_count": 89,
   "id": "3426e112",
   "metadata": {},
   "outputs": [
    {
     "name": "stdout",
     "output_type": "stream",
     "text": [
      "         0     1     2     3     4 \n",
      "     ------------------------------\n",
      "  0 |  nan   nan   0.8   nan   nan \n",
      "  1 |  nan   nan   0.8   nan   nan \n",
      "  2 |  nan   nan  0.66   nan   nan \n",
      "  3 |  nan   nan   0.8   nan   nan \n",
      "  4 |  nan   nan   0.8   nan   nan \n"
     ]
    }
   ],
   "source": [
    "printMatrix(get_cav_v(2, average_dict, s_pairs, p=0.4))"
   ]
  },
  {
   "cell_type": "code",
   "execution_count": 233,
   "id": "4c6f88c9",
   "metadata": {},
   "outputs": [],
   "source": [
    "from scipy.optimize import minimize\n",
    "import random\n",
    "from itertools import product\n",
    "import multiprocess as mp\n",
    "\n",
    "def get_strategy(game_dict, states, p):\n",
    "    '''\n",
    "    @params: lambda_j >= 0\n",
    "             p_j \\in {p_1, 1-p_1}\n",
    "             \n",
    "    @constraints: \\sum lambda_j = 1\n",
    "                 \\sum lambda_j*p_j = p\n",
    "    '''\n",
    "    # first get strategy at initial time-step\n",
    "    # initial state is always (2, 2)\n",
    "    \n",
    "    def optimization(p, V_curr, curr_x, game_dict):\n",
    "    \n",
    "        def constraint(var):\n",
    "            lam_1 = var[0]\n",
    "            lam_2 = 1 - lam_1\n",
    "            p_1 = var[1]\n",
    "#             p_2 = var[2]\n",
    "            p_2 = (p - lam_1*p_1)/(lam_2)\n",
    "\n",
    "            lam_j = np.array([[lam_1], [lam_2]])\n",
    "            p_j = np.array([[p_1], [p_2]])\n",
    "            \n",
    "            return p_2 >= 0 and p_2 <= 1\n",
    "#\n",
    "#             return abs((np.matmul(lam_j.T, p_j) - p).item()) <= 1e-5\n",
    "\n",
    "        def objective(var):\n",
    "\n",
    "            # here, V_curr is the value at the current state\n",
    "            # V_next is the max min value at the previous state leading to current state\n",
    "            lam_1 = var[0]\n",
    "            lam_2 = 1 - lam_1\n",
    "            p_1 = var[1]\n",
    "#             p_2 = var[2]\n",
    "            p_2 = (p - lam_1*p_1)/(lam_2)\n",
    "\n",
    "            lam_j = np.array([[lam_1], [lam_2]])\n",
    "            v_next = np.zeros((2, 1))\n",
    "            if curr_x == [2, 2]:\n",
    "                game_dict_1 = get_av_val(val_R_T, val_L_T, p_1)\n",
    "                game_dict_1 = dict(zip(states.flatten(), game_dict_1.flatten()))\n",
    "                game_dict_2 = get_av_val(val_R_T, val_L_T, p_2)\n",
    "                game_dict_2 = dict(zip(states.flatten(), game_dict_2.flatten()))\n",
    "                v_next_0 = get_cav_v(1, game_dict_1, states, p_1)\n",
    "                v_next_1 = get_cav_v(1, game_dict_2, states, p_2)\n",
    "                \n",
    "                pay_0 = np.zeros((4, 2))\n",
    "                pay_1 = np.zeros((4, 2))\n",
    "                \n",
    "                pay_0[0, 0] = v_next_0[1, 1]\n",
    "                pay_0[0, 1] = v_next_0[1, 3]\n",
    "                pay_0[1, 0] = v_next_0[0, 1]\n",
    "                pay_0[1, 1] = v_next_0[0, 3]\n",
    "                pay_0[2, 0] = v_next_0[3, 1]\n",
    "                pay_0[2, 1] = v_next_0[3, 3]\n",
    "                pay_0[3, 0] = v_next_0[4, 1]\n",
    "                pay_0[3, 1] = v_next_0[4, 3]\n",
    "                \n",
    "                pay_1[0, 0] = v_next_1[1, 1]\n",
    "                pay_1[0, 1] = v_next_1[1, 3]\n",
    "                pay_1[1, 0] = v_next_1[0, 1]\n",
    "                pay_1[1, 1] = v_next_1[0, 3]\n",
    "                pay_1[2, 0] = v_next_1[3, 1]\n",
    "                pay_1[2, 1] = v_next_1[3, 3]\n",
    "                pay_1[3, 0] = v_next_1[4, 1]\n",
    "                pay_1[3, 1] = v_next_1[4, 3]\n",
    "                \n",
    "                # do min max on v_next\n",
    "                v_next[0] = np.max(np.min(pay_0, 1))\n",
    "                v_next[1] = np.max(np.min(pay_1, 1))\n",
    "                \n",
    "            else: # that is, some other state in the second time-step\n",
    "                \n",
    "                i = curr_x[0]\n",
    "                j = curr_x[1]\n",
    "                \n",
    "                v_next_0 = get_av_val(val_R_T, val_L_T, p_1)\n",
    "                v_next_1 = get_av_val(val_R_T, val_L_T, p_2)\n",
    "                \n",
    "                pay_0 = np.zeros((4, 2))\n",
    "                pay_1 = np.zeros((4, 2))\n",
    "                \n",
    "                if i - 1 < 0:\n",
    "                    new_L = i\n",
    "                    new_l = i\n",
    "                elif i - 2 < 0:\n",
    "                    new_L = i - 1\n",
    "                    new_l = i - 1\n",
    "                else:\n",
    "                    new_l = i - 1\n",
    "                    new_L = i - 2\n",
    "                    \n",
    "                if i + 1 > num_states - 1:\n",
    "                    new_R = i\n",
    "                    new_r = i\n",
    "                elif i + 2 > num_states - 1:\n",
    "                    new_r = i + 1 \n",
    "                    new_R = i + 1\n",
    "                else:\n",
    "                    new_r = i + 1\n",
    "                    new_R = i + 2\n",
    "\n",
    "                pay_0[0, 0] = v_next_0[new_l, j-1] # left left\n",
    "                pay_0[0, 1] = v_next_0[new_l, j+1] # left right\n",
    "                pay_0[1, 0] = v_next_0[new_L, j-1] # Left left\n",
    "                pay_0[1, 1] = v_next_0[new_L, j+1] # Left right\n",
    "                pay_0[2, 0] = v_next_0[new_r, j-1] # right left\n",
    "                pay_0[2, 1] = v_next_0[new_r, j+1] # right right\n",
    "                pay_0[3, 0] = v_next_0[new_R, j-1] # Right left\n",
    "                pay_0[3, 1] = v_next_0[new_R, j+1] # Right right\n",
    "                \n",
    "                pay_1[0, 0] = v_next_1[new_l, j-1] # left left\n",
    "                pay_1[0, 1] = v_next_1[new_l, j+1] # left right\n",
    "                pay_1[1, 0] = v_next_1[new_L, j-1] # Left left\n",
    "                pay_1[1, 1] = v_next_1[new_L, j+1] # Left right\n",
    "                pay_1[2, 0] = v_next_1[new_r, j-1] # right left\n",
    "                pay_1[2, 1] = v_next_1[new_r, j+1] # right right\n",
    "                pay_1[3, 0] = v_next_1[new_R, j-1] # Right left\n",
    "                pay_1[3, 1] = v_next_1[new_R, j+1] # Right right\n",
    "                \n",
    "                # do min max on v_next\n",
    "                v_next[0] = np.max(np.min(pay_0, 1))\n",
    "                v_next[1] = np.max(np.min(pay_1, 1))\n",
    "                    \n",
    "            \n",
    "            return lam_1, p_1, abs((V_curr -  np.matmul(lam_j.T, v_next)).item())\n",
    "    \n",
    "        \n",
    "        cons = ({'type': 'eq', 'fun': constraint})\n",
    "        bnds = ((0, 1), (0, 1), (0, 1), (p, p))\n",
    "#         x0 = [0, 0, 0, p]\n",
    "        \n",
    "        # cannot use scipy optimization\n",
    "#         res = minimize(objective, x0, bounds = bnds, constraints = cons, options={'disp': True})\n",
    "#         print(objective(x0))\n",
    "\n",
    "        lam = np.linspace(1e-6, 0.999999, 200)\n",
    "#         p_1 = np.arange(0, 1, 0.25)\n",
    "#         p_2 = np.arange(0, 1, 0.25)\n",
    "        \n",
    "        grid = product(lam, repeat=2)\n",
    "        reduced = filter(constraint, grid)\n",
    "        l_1 = float('inf')\n",
    "        p_1 = float('inf')\n",
    "        curr_min = float('inf')\n",
    "        with mp.Pool(mp.cpu_count()) as pool:\n",
    "            res = pool.imap_unordered(objective, reduced)\n",
    "            \n",
    "            for lam_1, P_1, val in res:\n",
    "                if val < curr_min:\n",
    "                    curr_min = val\n",
    "                    l_1 = lam_1\n",
    "                    p_1 = P_1\n",
    "            \n",
    "#         res = min(reduced, key=objective)\n",
    "#         res = min(grid, key=objective)\n",
    "        res = (l_1, p_1)\n",
    "    \n",
    "        print(objective(res)[-1])\n",
    "        \n",
    "        \n",
    "        return res\n",
    "       \n",
    "    print(f'Current position is center (2, 2) and the belief is {p}\\n')\n",
    "    p_t = p\n",
    "    a_map = {'0': 'l', '1': 'L', '2': 'r', '3': 'R'}\n",
    "    # first get strategy for initial state (2, 2)\n",
    "    start_x = [2, 2]\n",
    "    V_curr = get_cav_v(2, game_dict, states, p_t)[2, 2]\n",
    "    \n",
    "#     lam_j, p_1, p_2 = optimization(p_t, V_curr, start_x, game_dict)\n",
    "    lam_j, p_1 = optimization(p_t, V_curr, start_x, game_dict)\n",
    "    p_2 = (p_t - lam_j*p_1)/(1 - lam_j)\n",
    "    print(f'lamda_1 = {lam_j:.2f}, p_1 = {p_1:.2f},  p_2 = {p_2:.2f}\\n')\n",
    "#     input()\n",
    "    \n",
    "    \n",
    "    # action for lam_1 \n",
    "    game_dict_1 = get_av_val(val_R_T, val_L_T, p_1)\n",
    "    game_dict_1 = dict(zip(s_pairs.flatten(), game_dict_1.flatten()))\n",
    "    game_dict_2 = get_av_val(val_R_T, val_L_T, p_2)\n",
    "    game_dict_2 = dict(zip(s_pairs.flatten(), game_dict_2.flatten()))\n",
    "\n",
    "    v_next_0 = get_cav_v(1, game_dict_1, states, p_1)\n",
    "    v_next_1 = get_cav_v(1, game_dict_2, states, p_2)\n",
    "    \n",
    "    pay_0 = np.zeros((4, 2))\n",
    "    pay_1 = np.zeros((4, 2))\n",
    "\n",
    "    pay_0[0, 0] = v_next_0[1, 1]\n",
    "    pay_0[0, 1] = v_next_0[1, 3]\n",
    "    pay_0[1, 0] = v_next_0[0, 1]\n",
    "    pay_0[1, 1] = v_next_0[0, 3]\n",
    "    pay_0[2, 0] = v_next_0[3, 1]\n",
    "    pay_0[2, 1] = v_next_0[3, 3]\n",
    "    pay_0[3, 0] = v_next_0[4, 1]\n",
    "    pay_0[3, 1] = v_next_0[4, 3]\n",
    "    \n",
    "    v_0 = np.max(np.min(pay_0, 1))\n",
    "    a_0 = None\n",
    "    a_0_idx = np.where(np.min(pay_0, 1) == v_0)[0] # check for same values\n",
    "    \n",
    "#     printMatrix(pay_0)\n",
    "    \n",
    "    if len(a_0_idx) == 1:\n",
    "        a_0 = a_map[str(a_0_idx[0])]\n",
    "    elif len(a_0_idx) == 4:\n",
    "        a_0 = 'A'\n",
    "    else:\n",
    "        ac = ''\n",
    "        for a in a_0_idx:\n",
    "            ac += a_map[str(a)]\n",
    "        a_0 = ac\n",
    "\n",
    "    pay_1[0, 0] = v_next_1[1, 1]\n",
    "    pay_1[0, 1] = v_next_1[1, 3]\n",
    "    pay_1[1, 0] = v_next_1[0, 1]\n",
    "    pay_1[1, 1] = v_next_1[0, 3]\n",
    "    pay_1[2, 0] = v_next_1[3, 1]\n",
    "    pay_1[2, 1] = v_next_1[3, 3]\n",
    "    pay_1[3, 0] = v_next_1[4, 1]\n",
    "    pay_1[3, 1] = v_next_1[4, 3]\n",
    "    \n",
    "    v_1 = np.max(np.min(pay_1, 1))\n",
    "    a_1 = None\n",
    "    a_1_idx = np.where(np.min(pay_1, 1) == v_1)[0] # check for same values\n",
    "    if len(a_1_idx) == 1:\n",
    "        a_1 = a_map[str(a_1_idx[0])]\n",
    "    elif len(a_1_idx) == 4:\n",
    "        a_1 = 'A'\n",
    "    else:\n",
    "        ac = ''\n",
    "        for a in a_1_idx:\n",
    "            ac += a_map[str(a)]\n",
    "        a_1 = ac\n",
    "        \n",
    "    # calculate probability of each action\n",
    "    if p1_type == 0:\n",
    "        p_i = 1 - p_t\n",
    "        p_1j = 1 - p_1\n",
    "        p_2j = 1 - p_2\n",
    "    else:\n",
    "        p_i = p_t \n",
    "        p_1j = p_1\n",
    "        p_2j = p_2\n",
    "    \n",
    "    a0_p = (lam_j * p_1j)/p_i\n",
    "    a1_p = ((1-lam_j) * p_2j)/p_i\n",
    "    \n",
    "    print('At initial time, P1 has the following options: \\n')\n",
    "    print(f'P1 takes action {a_0} with probability {a0_p:.2f} and moves belief to {p_1:.2f}')\n",
    "    print(f'P1 takes action {a_1} with probability {a1_p:.2f} and moves belief to {p_2:.2f}\\n')\n",
    "    \n",
    "    # Now get strategy for second stage:\n",
    "    \n",
    "#     a_0 = np.random.choice(list(a_map.keys()), size=1, p=[0.25, 0.25, 0.25, 0.25])\n",
    "#     print(a_map[a_0.item()])\n",
    "    dist = [a0_p, a1_p]\n",
    "    a_idx = [0, 1]\n",
    "    action_idx = random.choices(a_idx, dist)[0]\n",
    "    if action_idx == 0:\n",
    "        action_1 = a_0\n",
    "        p_t = p_1\n",
    "    else:\n",
    "        action_1 = a_1\n",
    "        p_t = p_2\n",
    "        \n",
    "     # for simulation purpose select p2's action randomly\n",
    "    p2_a = random.choices([1, -1], [0.5, 0.5])[0] # left or right\n",
    "    p2_action = 'l' if p2_a == -1 else 'r'\n",
    "    \n",
    "    \n",
    "    print(f'P1 chooses action: {action_1} and moves the belief to p_t = {p_t:.2f}')\n",
    "    print(f'P2 chooses action: {p2_action} at random\\n')\n",
    "    ##########################################################################################\n",
    "    #################################### NEXT TIME-STEP ######################################\n",
    "    ##########################################################################################\n",
    "    \n",
    "   \n",
    "    \n",
    "    if action_1 == 'l':\n",
    "        step = -1\n",
    "    elif action_1 == 'r':\n",
    "        step = 1\n",
    "    elif action_1 == 'L':\n",
    "        step = -2\n",
    "    elif aciton_1 == 'R':\n",
    "        step = 2\n",
    "    \n",
    "    curr_x = start_x\n",
    "    curr_x = np.array(curr_x) + np.array([step, p2_a])  # get current position\n",
    "    \n",
    "    print(f'The current position is: {curr_x}\\n')\n",
    "    \n",
    "    game = get_av_val(val_R_T, val_L_T, p=p_t) \n",
    "    pay_0 = np.zeros((4, 2))\n",
    "   \n",
    "    i = curr_x[0]\n",
    "    j = curr_x[1]\n",
    "    \n",
    "    if i - 1 < 0:\n",
    "        new_L = i\n",
    "        new_l = i\n",
    "    elif i - 2 < 0:\n",
    "        new_L = i - 1\n",
    "        new_l = i - 1\n",
    "    else:\n",
    "        new_l = i - 1\n",
    "        new_L = i - 2\n",
    "\n",
    "    if i + 1 > num_states - 1:\n",
    "        new_R = i\n",
    "        new_r = i\n",
    "    elif i + 2 > num_states - 1:\n",
    "        new_r = i + 1 \n",
    "        new_R = i + 1\n",
    "    else:\n",
    "        new_r = i + 1\n",
    "        new_R = i + 2\n",
    "\n",
    "#     print(new_l, new_L, new_r, new_R)\n",
    "    \n",
    "    pay_0[0, 0] = game[new_l, j-1] # left left\n",
    "    pay_0[0, 1] = game[new_l, j+1] # left right\n",
    "    pay_0[1, 0] = game[new_L, j-1] # Left left\n",
    "    pay_0[1, 1] = game[new_L, j+1] # Left right\n",
    "    pay_0[2, 0] = game[new_r, j-1] # right left\n",
    "    pay_0[2, 1] = game[new_r, j+1] # right right\n",
    "    pay_0[3, 0] = game[new_R, j-1] # Right left\n",
    "    pay_0[3, 1] = game[new_R, j+1] # Right right\n",
    "\n",
    "    v_0 = np.max(np.min(pay_0, 1))\n",
    "    a_0 = None\n",
    "#     printMatrix(pay_0)\n",
    "    a_0_idx = np.where(np.min(pay_0, 1) == v_0)[0] # check for same values\n",
    "#     print(a_0_idx)\n",
    "    if len(a_0_idx) == 1:\n",
    "        a_0 = a_map[str(a_0_idx[0])]\n",
    "    elif len(a_0_idx) == 4:\n",
    "        a_0 = 'A'\n",
    "    else:\n",
    "        ac = ''\n",
    "        for a in a_0_idx:\n",
    "            ac += a_map[str(a)]\n",
    "        a_0 = ac\n",
    "#     print(a_0)    \n",
    "    print(f'At second time-step P1 takes action {a_0} and maintains the belief at {p_t:.2f}')"
   ]
  },
  {
   "cell_type": "code",
   "execution_count": 234,
   "id": "43110ed2",
   "metadata": {},
   "outputs": [],
   "source": [
    "num_states = 5\n",
    "# curr_x = [2, 2]\n",
    "p = 0.4\n",
    "p1_type = 1 # 0 for right, 1 for left\n",
    "average_game = get_av_val(val_R_T, val_L_T, p=p)\n",
    "average_dict = dict(zip(s_pairs.flatten(), average_game.flatten()))"
   ]
  },
  {
   "cell_type": "code",
   "execution_count": 235,
   "id": "1e21b3ea",
   "metadata": {},
   "outputs": [
    {
     "name": "stdout",
     "output_type": "stream",
     "text": [
      "Current position is center (2, 2) and the belief is 0.4\n",
      "\n"
     ]
    },
    {
     "data": {
      "image/png": "[encoded data removed]",
      "text/plain": [
       "<Figure size 432x288 with 1 Axes>"
      ]
     },
     "metadata": {
      "needs_background": "light"
     },
     "output_type": "display_data"
    },
    {
     "data": {
      "image/png": "[encoded data removed]",
      "text/plain": [
       "<Figure size 432x288 with 1 Axes>"
      ]
     },
     "metadata": {
      "needs_background": "light"
     },
     "output_type": "display_data"
    },
    {
     "data": {
      "image/png": "[encoded data removed]",
      "text/plain": [
       "<Figure size 432x288 with 1 Axes>"
      ]
     },
     "metadata": {
      "needs_background": "light"
     },
     "output_type": "display_data"
    },
    {
     "data": {
      "image/png": "[encoded data removed]",
      "text/plain": [
       "<Figure size 432x288 with 1 Axes>"
      ]
     },
     "metadata": {
      "needs_background": "light"
     },
     "output_type": "display_data"
    },
    {
     "data": {
      "image/png": "[encoded data removed]",
      "text/plain": [
       "<Figure size 432x288 with 1 Axes>"
      ]
     },
     "metadata": {
      "needs_background": "light"
     },
     "output_type": "display_data"
    },
    {
     "name": "stdout",
     "output_type": "stream",
     "text": [
      "0.0010116949491714156\n",
      "lamda_1 = 0.20, p_1 = 0.66,  p_2 = 0.33\n",
      "\n",
      "At initial time, P1 has the following options: \n",
      "\n",
      "P1 takes action r with probability 0.33 and moves belief to 0.66\n",
      "P1 takes action l with probability 0.67 and moves belief to 0.33\n",
      "\n",
      "P1 chooses action: r and moves the belief to p_t = 0.66\n",
      "P2 chooses action: r at random\n",
      "\n",
      "The current position is: [3 3]\n",
      "\n",
      "At second time-step P1 takes action L and maintains the belief at 0.66\n"
     ]
    }
   ],
   "source": [
    "get_strategy(average_dict, s_pairs, p=p)"
   ]
  },
  {
   "cell_type": "markdown",
   "id": "42b15f1f",
   "metadata": {},
   "source": [
    "### SPLITTING POINT VISUALIZATION  (AT INTIAL TIME STEP)"
   ]
  },
  {
   "cell_type": "code",
   "execution_count": 191,
   "id": "689d6ba0",
   "metadata": {},
   "outputs": [],
   "source": [
    "P_1 = np.linspace(0, 1, 100)\n",
    "\n",
    "V_next = []\n",
    "cav_v = []\n",
    "for p_1 in P_1:\n",
    "    game_dict_1 = get_av_val(val_R_T, val_L_T, p_1)\n",
    "    game_dict_1 = dict(zip(s_pairs.flatten(), game_dict_1.flatten()))\n",
    "    v_next_0 = get_cav_v(1, game_dict_1, s_pairs, p_1)\n",
    "    \n",
    "    cav_v.append(get_cav_v(2, game_dict_1, s_pairs, p_1)[2, 2])\n",
    "\n",
    "    pay_0 = np.zeros((4, 2))\n",
    "    pay_1 = np.zeros((4, 2))\n",
    "\n",
    "    pay_0[0, 0] = v_next_0[1, 1]\n",
    "    pay_0[0, 1] = v_next_0[1, 3]\n",
    "    pay_0[1, 0] = v_next_0[0, 1]\n",
    "    pay_0[1, 1] = v_next_0[0, 3]\n",
    "    pay_0[2, 0] = v_next_0[3, 1]\n",
    "    pay_0[2, 1] = v_next_0[3, 3]\n",
    "    pay_0[3, 0] = v_next_0[4, 1]\n",
    "    pay_0[3, 1] = v_next_0[4, 3]\n",
    "    \n",
    "    V_next.append(np.max(np.min(pay_0, 1)))"
   ]
  },
  {
   "cell_type": "code",
   "execution_count": 192,
   "id": "d4aaf744",
   "metadata": {},
   "outputs": [
    {
     "data": {
      "image/png": "[encoded data removed]",
      "text/plain": [
       "<Figure size 720x432 with 1 Axes>"
      ]
     },
     "metadata": {
      "needs_background": "light"
     },
     "output_type": "display_data"
    }
   ],
   "source": [
    "plt.figure(figsize=(10, 6))\n",
    "plt.plot(P_1, V_next, label='$\\max\\;\\min\\;V(t=1)$')\n",
    "plt.plot(P_1, cav_v, label='V(t=2)')\n",
    "plt.vlines(x=0.33, ymin=0, ymax=0.7, linestyle='-.')\n",
    "plt.vlines(x=0.67, ymin=0, ymax=0.7, linestyle='-.')\n",
    "plt.xlabel(\"$p$\")\n",
    "plt.ylabel(\"$V$\")\n",
    "plt.title(\"First Time-Step\")\n",
    "plt.legend(loc='upper right')\n",
    "plt.show()"
   ]
  },
  {
   "cell_type": "markdown",
   "id": "75812251",
   "metadata": {},
   "source": [
    "### More Tests"
   ]
  },
  {
   "cell_type": "code",
   "execution_count": 53,
   "id": "645d0cdc",
   "metadata": {},
   "outputs": [],
   "source": [
    "game_dict_1 = get_av_val(val_R_T, val_L_T, p=0.67)\n",
    "game_dict_1 = dict(zip(s_pairs.flatten(), game_dict_1.flatten()))\n",
    "v_next_0 = get_cav_v(1, game_dict_1, s_pairs, p=0.67)\n",
    "\n",
    "pay_0 = np.zeros((4, 2))\n",
    "pay_0[0, 0] = v_next_0[1, 1]\n",
    "pay_0[0, 1] = v_next_0[1, 3]\n",
    "pay_0[1, 0] = v_next_0[0, 1]\n",
    "pay_0[1, 1] = v_next_0[0, 3]\n",
    "pay_0[2, 0] = v_next_0[3, 1]\n",
    "pay_0[2, 1] = v_next_0[3, 3]\n",
    "pay_0[3, 0] = v_next_0[4, 1]\n",
    "pay_0[3, 1] = v_next_0[4, 3]"
   ]
  },
  {
   "cell_type": "code",
   "execution_count": 55,
   "id": "1cb6fda5",
   "metadata": {},
   "outputs": [
    {
     "data": {
      "text/plain": [
       "array([[ nan, 0.33, 0.67, 1.34,  nan],\n",
       "       [ nan, 0.33, 0.67, 1.34,  nan],\n",
       "       [ nan, 0.66, 1.  , 1.34,  nan],\n",
       "       [ nan, 0.66, 0.33, 0.67,  nan],\n",
       "       [ nan, 0.66, 0.33, 0.33,  nan]])"
      ]
     },
     "execution_count": 55,
     "metadata": {},
     "output_type": "execute_result"
    }
   ],
   "source": [
    "v_next_0"
   ]
  },
  {
   "cell_type": "markdown",
   "id": "4e07139a",
   "metadata": {},
   "source": [
    "### SPLITTING POINTS VIZ. (SECOND TIME-STEP)"
   ]
  },
  {
   "cell_type": "code",
   "execution_count": 322,
   "id": "65d5de3b",
   "metadata": {},
   "outputs": [],
   "source": [
    "P_2 = np.linspace(0, 1, 100)\n",
    "\n",
    "V_next_2 = []\n",
    "\n",
    "# enter current location\n",
    "i = 3\n",
    "j = 1\n",
    "for p_1 in P_2:\n",
    "    v_next_0 = get_av_val(val_R_T, val_L_T, p_1)\n",
    "    \n",
    "    pay_0 = np.zeros((4, 2))\n",
    "    pay_1 = np.zeros((4, 2))\n",
    "\n",
    "    if i - 1 < 0:\n",
    "        new_L = i\n",
    "        new_l = i\n",
    "    elif i - 2 < 0:\n",
    "        new_L = i - 1\n",
    "        new_l = i - 1\n",
    "    else:\n",
    "        new_l = i - 1\n",
    "        new_L = i - 2\n",
    "\n",
    "    if i + 1 > num_states - 1:\n",
    "        new_R = i\n",
    "        new_r = i\n",
    "    elif i + 2 > num_states - 1:\n",
    "        new_r = i + 1 \n",
    "        new_R = i + 1\n",
    "    else:\n",
    "        new_r = i + 1\n",
    "        new_R = i + 2\n",
    "\n",
    "    pay_0[0, 0] = v_next_0[new_l, j-1] # left left\n",
    "    pay_0[0, 1] = v_next_0[new_l, j+1] # left right\n",
    "    pay_0[1, 0] = v_next_0[new_L, j-1] # Left left\n",
    "    pay_0[1, 1] = v_next_0[new_L, j+1] # Left right\n",
    "    pay_0[2, 0] = v_next_0[new_r, j-1] # right left\n",
    "    pay_0[2, 1] = v_next_0[new_r, j+1] # right right\n",
    "    pay_0[3, 0] = v_next_0[new_R, j-1] # Right left\n",
    "    pay_0[3, 1] = v_next_0[new_R, j+1] # Right right\n",
    "    \n",
    "    V_next_2.append(np.max(np.min(pay_0, 1)))"
   ]
  },
  {
   "cell_type": "code",
   "execution_count": 323,
   "id": "4738d2cf",
   "metadata": {},
   "outputs": [
    {
     "data": {
      "image/png": "[encoded data removed]",
      "text/plain": [
       "<Figure size 432x288 with 1 Axes>"
      ]
     },
     "metadata": {
      "needs_background": "light"
     },
     "output_type": "display_data"
    }
   ],
   "source": [
    "plt.plot(P_2, V_next_2)\n",
    "plt.xlabel(\"$p$\")\n",
    "plt.ylabel(\"$\\max_u\\;\\min_v\\;V$\")\n",
    "plt.title(\"Second Time Step\")\n",
    "plt.show()"
   ]
  },
  {
   "cell_type": "code",
   "execution_count": 331,
   "id": "890fbc32",
   "metadata": {},
   "outputs": [],
   "source": [
    "a = np.random.uniform(0, 4, size=(4, 2))"
   ]
  },
  {
   "cell_type": "code",
   "execution_count": 332,
   "id": "48c2e1dc",
   "metadata": {},
   "outputs": [
    {
     "data": {
      "text/plain": [
       "array([[1.46520104, 3.94258096],\n",
       "       [3.55570597, 1.12345916],\n",
       "       [0.50732659, 1.57145034],\n",
       "       [1.62603349, 2.33723362]])"
      ]
     },
     "execution_count": 332,
     "metadata": {},
     "output_type": "execute_result"
    }
   ],
   "source": [
    "a"
   ]
  },
  {
   "cell_type": "code",
   "execution_count": 333,
   "id": "009bedf7",
   "metadata": {},
   "outputs": [
    {
     "data": {
      "text/plain": [
       "array([1.46520104, 1.12345916, 0.50732659, 1.62603349])"
      ]
     },
     "execution_count": 333,
     "metadata": {},
     "output_type": "execute_result"
    }
   ],
   "source": [
    "np.min(a, 1)"
   ]
  },
  {
   "cell_type": "code",
   "execution_count": 336,
   "id": "a25eb507",
   "metadata": {},
   "outputs": [],
   "source": [
    "b = np.where(np.min(a, 1) == np.max(np.min(a, 1)))[0]"
   ]
  },
  {
   "cell_type": "code",
   "execution_count": 364,
   "id": "405e401a",
   "metadata": {},
   "outputs": [],
   "source": [
    "p_1 = 0.66 \n",
    "game_dict_1 = get_av_val(val_R_T, val_L_T, p_1)\n",
    "game_dict_1 = dict(zip(s_pairs.flatten(), game_dict_1.flatten()))\n",
    "v_next_0 = get_cav_v(1, game_dict_1, s_pairs, p_1)\n",
    "\n",
    "pay_0 = np.zeros((4, 2))\n",
    "\n",
    "\n",
    "pay_0[0, 0] = v_next_0[1, 1]\n",
    "pay_0[0, 1] = v_next_0[1, 3]\n",
    "pay_0[1, 0] = v_next_0[0, 1]\n",
    "pay_0[1, 1] = v_next_0[0, 3]\n",
    "pay_0[2, 0] = v_next_0[3, 1]\n",
    "pay_0[2, 1] = v_next_0[3, 3]\n",
    "pay_0[3, 0] = v_next_0[4, 1]\n",
    "pay_0[3, 1] = v_next_0[4, 3]"
   ]
  },
  {
   "cell_type": "code",
   "execution_count": 365,
   "id": "a1b26665",
   "metadata": {},
   "outputs": [
    {
     "data": {
      "text/plain": [
       "array([[0.34, 1.32],\n",
       "       [0.34, 1.32],\n",
       "       [0.68, 0.66],\n",
       "       [0.68, 0.34]])"
      ]
     },
     "execution_count": 365,
     "metadata": {},
     "output_type": "execute_result"
    }
   ],
   "source": [
    "pay_0"
   ]
  },
  {
   "cell_type": "code",
   "execution_count": 366,
   "id": "2aa055e6",
   "metadata": {},
   "outputs": [
    {
     "data": {
      "text/plain": [
       "array([[ nan, 0.34, 0.66, 1.32,  nan],\n",
       "       [ nan, 0.34, 0.66, 1.32,  nan],\n",
       "       [ nan, 0.68, 1.  , 1.32,  nan],\n",
       "       [ nan, 0.68, 0.34, 0.66,  nan],\n",
       "       [ nan, 0.68, 0.34, 0.34,  nan]])"
      ]
     },
     "execution_count": 366,
     "metadata": {},
     "output_type": "execute_result"
    }
   ],
   "source": [
    "v_next_0"
   ]
  },
  {
   "cell_type": "code",
   "execution_count": 367,
   "id": "3527b263",
   "metadata": {},
   "outputs": [
    {
     "data": {
      "text/plain": [
       "array([[0.  , 0.67, 1.34, 2.01, 2.68],\n",
       "       [0.33, 0.  , 0.67, 1.34, 2.01],\n",
       "       [0.66, 0.33, 0.  , 0.67, 1.34],\n",
       "       [0.99, 0.66, 0.33, 0.  , 0.67],\n",
       "       [1.32, 0.99, 0.66, 0.33, 0.  ]])"
      ]
     },
     "execution_count": 367,
     "metadata": {},
     "output_type": "execute_result"
    }
   ],
   "source": [
    "get_av_val(val_R_T, val_L_T, p=0.67)"
   ]
  },
  {
   "cell_type": "code",
   "execution_count": null,
   "id": "5caf622f",
   "metadata": {},
   "outputs": [],
   "source": []
  }
 ],
 "metadata": {
  "kernelspec": {
   "display_name": "Python 3 (ipykernel)",
   "language": "python",
   "name": "python3"
  },
  "language_info": {
   "codemirror_mode": {
    "name": "ipython",
    "version": 3
   },
   "file_extension": ".py",
   "mimetype": "text/x-python",
   "name": "python",
   "nbconvert_exporter": "python",
   "pygments_lexer": "ipython3",
   "version": "3.8.11"
  }
 },
 "nbformat": 4,
 "nbformat_minor": 5
}
