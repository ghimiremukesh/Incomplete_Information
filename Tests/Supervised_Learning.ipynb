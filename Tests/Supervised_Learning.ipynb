{
 "cells": [
  {
   "cell_type": "code",
   "execution_count": 2,
   "id": "f5064061",
   "metadata": {},
   "outputs": [],
   "source": [
    "import numpy as np\n",
    "import matplotlib.pyplot as plt\n",
    "from itertools import product"
   ]
  },
  {
   "cell_type": "code",
   "execution_count": 218,
   "id": "afa6325c",
   "metadata": {},
   "outputs": [],
   "source": [
    "def final_value(x, p):\n",
    "    return p * np.maximum(0, x) + (1-p) * np.maximum(0, -x)"
   ]
  },
  {
   "cell_type": "code",
   "execution_count": 219,
   "id": "c009f340",
   "metadata": {},
   "outputs": [],
   "source": [
    "def generate_data(init_states, dt):\n",
    "    '''\n",
    "    Given matrix of initial states, X, a n-by-3 generate data at each time-step in forward time\n",
    "    \n",
    "    Input: X (shape: (n, 2)) --> x, v\n",
    "    \n",
    "    Output: X(N, 3), V(N, 1)\n",
    "    '''\n",
    "    ts = np.arange(dt, 1.01, dt)\n",
    "    x0 = init_states\n",
    "    N = x0.shape[0]\n",
    "    ps = np.random.uniform(size=(N,1), low=0, high=1)\n",
    "#     X = np.hstack((np.zeros((N, 1)), x0))\n",
    "    X = np.concatenate((np.zeros((N, 1)), x0, ps), 1)\n",
    "\n",
    "    u = [-1, 1]\n",
    "    d = [-0.8, 0.8]\n",
    "    da = np.array([a - b for a, b in product(u, d)])\n",
    "    da = da * 0.5 * dt**2\n",
    "    \n",
    "    X_train = [X]\n",
    "    for i in range(len(ts)):\n",
    "        x_new = np.array([X_train[i][:, 1] + X_train[i][:, 2] + a for a in da]).reshape(-1, 1)\n",
    "        v_new = np.array([X_train[i][:, 2] + a for a in da]).reshape(-1, 1)\n",
    "        p_new = np.multiply(X_train[i][:, 3].reshape(-1, 1), \n",
    "                            np.ones((X_train[i].shape[0], 4))).reshape(-1, 1)\n",
    "        X_new = np.concatenate((ts[i] * np.ones_like(x_new), x_new, v_new, p_new), 1)\n",
    "        X_train.append(X_new)\n",
    "\n",
    "#     X_train = np.vstack(X_train)\n",
    "    \n",
    "#     X_train = np.hstack((X_train, ps))\n",
    "        \n",
    "#     Values = [final_value]\n",
    "#     for i in reversed(range(len(ts))):\n",
    "\n",
    "    return X_train"
   ]
  },
  {
   "cell_type": "code",
   "execution_count": 220,
   "id": "601a2490",
   "metadata": {},
   "outputs": [],
   "source": [
    "x1 = np.random.uniform(size=(100, 1), low=-1, high=1)\n",
    "v1 = np.zeros_like(x1)\n",
    "X = np.hstack((x1, v1))\n",
    "dt = 0.1\n",
    "X_train = generate_data(X, dt)"
   ]
  },
  {
   "cell_type": "code",
   "execution_count": 221,
   "id": "580b1a18",
   "metadata": {},
   "outputs": [
    {
     "data": {
      "text/plain": [
       "array([[ 1.        ,  0.41952639, -0.01      ,  0.90659122],\n",
       "       [ 1.        , -0.70732926, -0.01      ,  0.90659122],\n",
       "       [ 1.        ,  0.72215396, -0.01      ,  0.90659122],\n",
       "       ...,\n",
       "       [ 1.        ,  0.10563654,  0.01      ,  0.35199092],\n",
       "       [ 1.        ,  0.77872487,  0.01      ,  0.35199092],\n",
       "       [ 1.        ,  0.66627055,  0.01      ,  0.35199092]])"
      ]
     },
     "execution_count": 221,
     "metadata": {},
     "output_type": "execute_result"
    }
   ],
   "source": [
    "X_train[-1]"
   ]
  },
  {
   "cell_type": "code",
   "execution_count": 222,
   "id": "1d8128be",
   "metadata": {},
   "outputs": [],
   "source": [
    "def generate_value(states):\n",
    "    '''\n",
    "    Input: states: (N, 3) from t = 0 to t = T\n",
    "    \n",
    "    Output: V - shape: (N, 1)\n",
    "    '''\n",
    "    # first get value of the final time\n",
    "    X_final = states[-1]\n",
    "    value = final_value(X_final[:, 1], X_final[:, -1])\n",
    "    \n",
    "    return value"
   ]
  },
  {
   "cell_type": "code",
   "execution_count": 224,
   "id": "2e570a95",
   "metadata": {},
   "outputs": [],
   "source": [
    "v = generate_value(X_train)"
   ]
  },
  {
   "cell_type": "code",
   "execution_count": 225,
   "id": "27b20fcb",
   "metadata": {},
   "outputs": [
    {
     "data": {
      "text/plain": [
       "[<matplotlib.lines.Line2D at 0x113977790>]"
      ]
     },
     "execution_count": 225,
     "metadata": {},
     "output_type": "execute_result"
    },
    {
     "data": {
      "image/png": "[encoded data removed]",
      "text/plain": [
       "<Figure size 432x288 with 1 Axes>"
      ]
     },
     "metadata": {
      "needs_background": "light"
     },
     "output_type": "display_data"
    }
   ],
   "source": []
  },
  {
   "cell_type": "code",
   "execution_count": null,
   "id": "e6300cb8",
   "metadata": {},
   "outputs": [],
   "source": []
  }
 ],
 "metadata": {
  "kernelspec": {
   "display_name": "Python 3 (ipykernel)",
   "language": "python",
   "name": "python3"
  },
  "language_info": {
   "codemirror_mode": {
    "name": "ipython",
    "version": 3
   },
   "file_extension": ".py",
   "mimetype": "text/x-python",
   "name": "python",
   "nbconvert_exporter": "python",
   "pygments_lexer": "ipython3",
   "version": "3.8.11"
  }
 },
 "nbformat": 4,
 "nbformat_minor": 5
}
