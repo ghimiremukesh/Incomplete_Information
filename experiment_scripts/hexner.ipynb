{
 "cells": [
  {
   "cell_type": "code",
   "execution_count": 2,
   "metadata": {
    "collapsed": true
   },
   "outputs": [],
   "source": [
    "import scipy\n",
    "import numpy as np\n",
    "from odeintw import odeintw\n",
    "import matplotlib.pyplot as plt"
   ]
  },
  {
   "cell_type": "markdown",
   "source": [
    "## Solve Riccati ODE"
   ],
   "metadata": {
    "collapsed": false,
    "pycharm": {
     "name": "#%% md\n"
    }
   }
  },
  {
   "cell_type": "code",
   "execution_count": 116,
   "outputs": [],
   "source": [
    "# define riccati ode\n",
    "def dPdt(P, t, A, B, Q, R, S,):\n",
    "    if S is None:\n",
    "        S = np.zeros((A.shape[0], B.shape[1]))\n",
    "\n",
    "    return -(A.T @ P + P @ A - (P @ B + S) /R @ (B.T @ P + S.T) + Q)"
   ],
   "metadata": {
    "collapsed": false,
    "pycharm": {
     "name": "#%%\n"
    }
   }
  },
  {
   "cell_type": "code",
   "execution_count": 201,
   "outputs": [],
   "source": [
    "# define system\n",
    "A = np.array([[0, 1], [0, 0]])\n",
    "B = np.array([[0], [1]])\n",
    "Q = np.zeros((2, 2))\n",
    "R1 = 1\n",
    "PT = np.eye(2)\n",
    "# PT = np.array([[1, 0], [0, 0]])\n",
    "tspan = np.linspace(0, 1, 21)\n",
    "tspan = np.flip(tspan)\n",
    "K1 = odeintw(dPdt, PT, tspan, args=(A, B, Q, R1, None, ))"
   ],
   "metadata": {
    "collapsed": false,
    "pycharm": {
     "name": "#%%\n"
    }
   }
  },
  {
   "cell_type": "code",
   "execution_count": 202,
   "outputs": [],
   "source": [
    "K1 = np.flip(K1, axis=0)"
   ],
   "metadata": {
    "collapsed": false,
    "pycharm": {
     "name": "#%%\n"
    }
   }
  },
  {
   "cell_type": "code",
   "execution_count": 203,
   "outputs": [],
   "source": [
    "K_norm = [np.linalg.norm(K1[i, :, :]) for i in range(len(K1))]"
   ],
   "metadata": {
    "collapsed": false,
    "pycharm": {
     "name": "#%%\n"
    }
   }
  },
  {
   "cell_type": "code",
   "execution_count": 204,
   "outputs": [
    {
     "data": {
      "text/plain": "[<matplotlib.lines.Line2D at 0x28088b220>]"
     },
     "execution_count": 204,
     "metadata": {},
     "output_type": "execute_result"
    },
    {
     "data": {
      "text/plain": "<Figure size 432x288 with 1 Axes>",
      "image/png": "[encoded data removed]"
     },
     "metadata": {
      "needs_background": "light"
     },
     "output_type": "display_data"
    }
   ],
   "source": [
    "plt.plot(np.flip(tspan), K_norm)"
   ],
   "metadata": {
    "collapsed": false,
    "pycharm": {
     "name": "#%%\n"
    }
   }
  },
  {
   "cell_type": "markdown",
   "source": [
    "## Solve Matrix ODE (Phi)"
   ],
   "metadata": {
    "collapsed": false,
    "pycharm": {
     "name": "#%% md\n"
    }
   }
  },
  {
   "cell_type": "code",
   "execution_count": 205,
   "outputs": [],
   "source": [
    "def dPhi(Phi, t, A):\n",
    "    return np.dot(A, Phi)\n",
    "\n",
    "A = np.array([[0, 1], [0, 0]])\n",
    "t_span = np.linspace(0, 1, 21)\n",
    "t_span = np.flip(t_span)\n",
    "PhiT = np.eye(2)\n",
    "\n",
    "Phi_sol = odeintw(dPhi, PhiT, t_span, args=(A, ))\n",
    "Phi_sol = np.flip(Phi_sol, axis=0)"
   ],
   "metadata": {
    "collapsed": false,
    "pycharm": {
     "name": "#%%\n"
    }
   }
  },
  {
   "cell_type": "code",
   "execution_count": 206,
   "outputs": [
    {
     "data": {
      "text/plain": "[<matplotlib.lines.Line2D at 0x2808f0190>]"
     },
     "execution_count": 206,
     "metadata": {},
     "output_type": "execute_result"
    },
    {
     "data": {
      "text/plain": "<Figure size 432x288 with 1 Axes>",
      "image/png": "[encoded data removed]"
     },
     "metadata": {
      "needs_background": "light"
     },
     "output_type": "display_data"
    }
   ],
   "source": [
    "phi_norm = [np.linalg.norm(Phi_sol[i, :, :]) for i in range(len(Phi_sol))]\n",
    "plt.plot(np.flip(t_span), phi_norm)"
   ],
   "metadata": {
    "collapsed": false,
    "pycharm": {
     "name": "#%%\n"
    }
   }
  },
  {
   "cell_type": "markdown",
   "source": [
    "## Compute d_i"
   ],
   "metadata": {
    "collapsed": false,
    "pycharm": {
     "name": "#%% md\n"
    }
   }
  },
  {
   "cell_type": "code",
   "execution_count": 207,
   "outputs": [],
   "source": [
    "def d(Phi, K, B, R, z):\n",
    "    ds = np.zeros((len(Phi), 1))\n",
    "    for i in range(len(Phi)):\n",
    "        ds[i] = z.T @ Phi[i, :, :] @ K[i, :, :] @ B/R @ B.T @ K[i, :, :] @ Phi[i, :, :] @ z\n",
    "\n",
    "    return ds"
   ],
   "metadata": {
    "collapsed": false,
    "pycharm": {
     "name": "#%%\n"
    }
   }
  },
  {
   "cell_type": "code",
   "execution_count": 208,
   "outputs": [],
   "source": [
    "z = np.array([[1], [0]])\n",
    "d1 = d(Phi_sol, K1, B, R1, z)\n",
    "R2 = 5\n",
    "K2 = odeintw(dPdt, PT, tspan, args=(A, B, Q, R2, None, ))\n",
    "K2 = np.flip(K2, axis=0)\n",
    "d2 = d(Phi_sol, K2, B, R2, z)"
   ],
   "metadata": {
    "collapsed": false,
    "pycharm": {
     "name": "#%%\n"
    }
   }
  },
  {
   "cell_type": "code",
   "execution_count": 209,
   "outputs": [
    {
     "data": {
      "text/plain": "<matplotlib.legend.Legend at 0x28094d970>"
     },
     "execution_count": 209,
     "metadata": {},
     "output_type": "execute_result"
    },
    {
     "data": {
      "text/plain": "<Figure size 432x288 with 1 Axes>",
      "image/png": "[encoded data removed]"
     },
     "metadata": {
      "needs_background": "light"
     },
     "output_type": "display_data"
    }
   ],
   "source": [
    "plt.plot(np.flip(t_span), d1, label='$d_1$')\n",
    "plt.plot(np.flip(t_span), d2, label='$d_2$')\n",
    "# plt.vlines(x=0.5, ymin=np.min(d1), ymax=np.max(d1), linestyles='--', colors='red')\n",
    "plt.xlabel(\"time $(t)$\")\n",
    "plt.ylabel(\"$d_i$\")\n",
    "plt.legend()\n"
   ],
   "metadata": {
    "collapsed": false,
    "pycharm": {
     "name": "#%%\n"
    }
   }
  },
  {
   "cell_type": "markdown",
   "source": [
    "If $d_1 - d_2$ is not constant, find the critical time $t_r$"
   ],
   "metadata": {
    "collapsed": false,
    "pycharm": {
     "name": "#%% md\n"
    }
   }
  },
  {
   "cell_type": "code",
   "execution_count": 210,
   "outputs": [
    {
     "data": {
      "text/plain": "'tr = 0.45'"
     },
     "execution_count": 210,
     "metadata": {},
     "output_type": "execute_result"
    }
   ],
   "source": [
    "def obj(tr):\n",
    "    x0 = np.array([[0], [0]])\n",
    "    term1 = np.sum((d1[:tr] - d2[:tr])*0.1)\n",
    "    return term1\n",
    "\n",
    "tr = np.linspace(0, 20, 21, dtype=np.int32)\n",
    "objs = list(map(obj, tr))\n",
    "tr_idx = np.argmin(objs)\n",
    "tr = np.flip(t_span)[tr_idx]\n",
    "f'tr = {tr}'"
   ],
   "metadata": {
    "collapsed": false,
    "pycharm": {
     "name": "#%%\n"
    }
   }
  },
  {
   "cell_type": "code",
   "execution_count": 166,
   "outputs": [],
   "source": [
    "# to get T_{2p+1} we need to calculate two more things\n",
    "# x_1i = np.array([[0], [0]])\n",
    "# x_2i = np.array([[0], [0]])\n",
    "# theta = 1  # theta = 1 or -1\n",
    "# p_1 = (x_1i - Phi_sol[0, :, :] @ z * theta).T @ K1[0, :, :] @ (x_1i - Phi_sol[0, :, :] @ z * theta)\n",
    "# p_2 = (x_2i - Phi_sol[0, :, :] @ z * theta).T @ K2[0, :, :] @ (x_2i - Phi_sol[0, :, :] @ z * theta)\n",
    "#\n",
    "# T_2p1 = tr + p_1 - p_2\n",
    "# T_2p1"
   ],
   "metadata": {
    "collapsed": false,
    "pycharm": {
     "name": "#%%\n"
    }
   }
  },
  {
   "cell_type": "code",
   "execution_count": 60,
   "outputs": [
    {
     "data": {
      "text/plain": "array([[-0.19493176],\n       [-0.00423266],\n       [ 0.        ]])"
     },
     "execution_count": 60,
     "metadata": {},
     "output_type": "execute_result"
    }
   ],
   "source": [
    "d1 - d2"
   ],
   "metadata": {
    "collapsed": false,
    "pycharm": {
     "name": "#%%\n"
    }
   }
  },
  {
   "cell_type": "markdown",
   "source": [
    "## METHOD - 2  (Just to Ensure the solver above is correct!)"
   ],
   "metadata": {
    "collapsed": false
   }
  },
  {
   "cell_type": "code",
   "execution_count": 34,
   "outputs": [],
   "source": [
    "def mat2vec_ode(F, p):\n",
    "    def state_vector_derivative(F, t, y, p):\n",
    "        # state dimension\n",
    "        pr = len(y)\n",
    "\n",
    "        # determines r\n",
    "        r = int(pr/p)\n",
    "\n",
    "        # reshapes pr×1 state vector into p×r state matrix\n",
    "\n",
    "        M = y.reshape(p, r)\n",
    "\n",
    "        # evaluates matrix-valued ODE\n",
    "        dMdt = F(t,M)\n",
    "\n",
    "        # reshapes p×r state matrix derivative into pr×1 state vector derivative\n",
    "        dydt = dMdt.flatten()\n",
    "\n",
    "        return dydt\n",
    "\n",
    "    return lambda t, y: state_vector_derivative(F, t, y, p)"
   ],
   "metadata": {
    "collapsed": false,
    "pycharm": {
     "name": "#%%\n"
    }
   }
  },
  {
   "cell_type": "code",
   "execution_count": 35,
   "outputs": [],
   "source": [
    "def mat2vec_IC(PT):\n",
    "    return PT.flatten()"
   ],
   "metadata": {
    "collapsed": false,
    "pycharm": {
     "name": "#%%\n"
    }
   }
  },
  {
   "cell_type": "code",
   "execution_count": 63,
   "outputs": [],
   "source": [
    "def vec2mat_sol(y, p):\n",
    "    # state dimension (pr) and N (IVP solution given at N+1 times)\n",
    "    pr = y.shape[0]\n",
    "    N = y.shape[1] - 1\n",
    "\n",
    "    # determines r\n",
    "    r = int(pr/p)\n",
    "\n",
    "    # preallocate solution array to store time history of state matrix\n",
    "    M = np.zeros((p, r, N+1))\n",
    "\n",
    "    # populate solution array\n",
    "    for i in range(N+1):\n",
    "        M[:, :, i] = y[:, i].reshape(p, r)\n",
    "\n",
    "    return M"
   ],
   "metadata": {
    "collapsed": false,
    "pycharm": {
     "name": "#%%\n"
    }
   }
  },
  {
   "cell_type": "code",
   "execution_count": 144,
   "outputs": [],
   "source": [
    "def solve_ricatti_ode(A, B, Q, R, S, PT, tspan, teval):\n",
    "    n = A.shape[0]\n",
    "    m = B.shape[1]\n",
    "\n",
    "    if S is None:\n",
    "        S = np.zeros((n, m))\n",
    "\n",
    "    tspan = np.flip(tspan)\n",
    "\n",
    "    teval = np.flip(teval)\n",
    "\n",
    "    dPdt = lambda t, P: -(A.T @ P + P @ A - (P @ B + S) /R @ (B.T @ P + S.T) + Q)\n",
    "\n",
    "    dydt = mat2vec_ode(dPdt, n)\n",
    "\n",
    "    yT = mat2vec_IC(PT)\n",
    "    sol = scipy.integrate.solve_ivp(dydt, tspan, yT, atol=1e-9, rtol=1e-9, t_eval=teval)\n",
    "    P = vec2mat_sol(sol.y, n)\n",
    "    t = np.flip(sol.t)\n",
    "    P = np.flip(P, axis=2)\n",
    "    return (t, P)"
   ],
   "metadata": {
    "collapsed": false,
    "pycharm": {
     "name": "#%%\n"
    }
   }
  },
  {
   "cell_type": "code",
   "execution_count": 152,
   "outputs": [],
   "source": [
    "# define states\n",
    "A = np.array([[0, 1], [0, 0]])\n",
    "B = np.array([[0], [1]])\n",
    "Q = np.zeros((2, 2))\n",
    "R = 1\n",
    "PT = np.eye(2)\n",
    "S = np.zeros((A.shape[0], B.shape[1]))\n",
    "teval = np.linspace(0, 10, 73)\n",
    "t, P = solve_ricatti_ode(A, B, Q, R, S, PT, [0, 10], teval)"
   ],
   "metadata": {
    "collapsed": false,
    "pycharm": {
     "name": "#%%\n"
    }
   }
  },
  {
   "cell_type": "code",
   "execution_count": 153,
   "outputs": [],
   "source": [
    "P_norms = [np.linalg.norm(P[:, :, i]) for i in range(P.shape[-1])]"
   ],
   "metadata": {
    "collapsed": false,
    "pycharm": {
     "name": "#%%\n"
    }
   }
  },
  {
   "cell_type": "code",
   "execution_count": 153,
   "outputs": [],
   "source": [],
   "metadata": {
    "collapsed": false,
    "pycharm": {
     "name": "#%%\n"
    }
   }
  },
  {
   "cell_type": "code",
   "execution_count": 154,
   "outputs": [
    {
     "data": {
      "text/plain": "[<matplotlib.lines.Line2D at 0x1196a5250>]"
     },
     "execution_count": 154,
     "metadata": {},
     "output_type": "execute_result"
    },
    {
     "data": {
      "text/plain": "<Figure size 432x288 with 1 Axes>",
      "image/png": "[encoded data removed]"
     },
     "metadata": {
      "needs_background": "light"
     },
     "output_type": "display_data"
    }
   ],
   "source": [
    "plt.plot(t, P_norms)"
   ],
   "metadata": {
    "collapsed": false,
    "pycharm": {
     "name": "#%%\n"
    }
   }
  }
 ],
 "metadata": {
  "kernelspec": {
   "display_name": "Python 3",
   "language": "python",
   "name": "python3"
  },
  "language_info": {
   "codemirror_mode": {
    "name": "ipython",
    "version": 2
   },
   "file_extension": ".py",
   "mimetype": "text/x-python",
   "name": "python",
   "nbconvert_exporter": "python",
   "pygments_lexer": "ipython2",
   "version": "2.7.6"
  }
 },
 "nbformat": 4,
 "nbformat_minor": 0
}